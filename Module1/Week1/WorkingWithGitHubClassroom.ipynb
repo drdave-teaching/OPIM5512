{
 "cells": [
  {
   "cell_type": "markdown",
   "id": "3c9ce2bf",
   "metadata": {},
   "source": [
    "# To be updated: Working with GitHub classroom"
   ]
  },
  {
   "cell_type": "code",
   "execution_count": 1,
   "id": "6573ff37",
   "metadata": {},
   "outputs": [],
   "source": [
    "# might be a video demo with Rohit and Dima for A01..."
   ]
  }
 ],
 "metadata": {
  "kernelspec": {
   "display_name": "Python 3",
   "language": "python",
   "name": "python3"
  },
  "language_info": {
   "codemirror_mode": {
    "name": "ipython",
    "version": 3
   },
   "file_extension": ".py",
   "mimetype": "text/x-python",
   "name": "python",
   "nbconvert_exporter": "python",
   "pygments_lexer": "ipython3",
   "version": "3.11.9"
  }
 },
 "nbformat": 4,
 "nbformat_minor": 5
}
