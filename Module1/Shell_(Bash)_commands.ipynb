{
  "nbformat": 4,
  "nbformat_minor": 0,
  "metadata": {
    "colab": {
      "provenance": [],
      "collapsed_sections": [
        "Bq_GEvbU-M2V"
      ],
      "toc_visible": true
    },
    "kernelspec": {
      "name": "python3",
      "display_name": "Python 3"
    },
    "language_info": {
      "name": "python"
    }
  },
  "cells": [
    {
      "cell_type": "markdown",
      "source": [
        "# Shell (Bash) Commands"
      ],
      "metadata": {
        "id": "KajORyjXmDSP"
      }
    },
    {
      "cell_type": "markdown",
      "source": [
        "**Dr. Dave Wanik - University of Connecticut**\n",
        "\n",
        "The tools we are learning (pwd, mkdir, cd, cp, etc.) are Unix shell commands (GNU coreutils) and run in many environments (Linux, macOS, WSL, Git Bash)! You can practice on Colab then try on your local machine."
      ],
      "metadata": {
        "id": "22fPZI2nK7H0"
      }
    },
    {
      "cell_type": "markdown",
      "source": [
        "# `pwd` (print working directory)"
      ],
      "metadata": {
        "id": "2WMKSEMI9f3Y"
      }
    },
    {
      "cell_type": "markdown",
      "source": [
        "* https://www.geeksforgeeks.org/pwd-command-in-linux-with-examples/"
      ],
      "metadata": {
        "id": "nLGxlaLs9v5e"
      }
    },
    {
      "cell_type": "code",
      "source": [
        "# lists the parent working directory\n",
        "%pwd"
      ],
      "metadata": {
        "colab": {
          "base_uri": "https://localhost:8080/",
          "height": 36
        },
        "id": "1femGqj-2UZd",
        "outputId": "b93edd05-2c6e-479d-81e7-595bf38e86c7"
      },
      "execution_count": null,
      "outputs": [
        {
          "output_type": "execute_result",
          "data": {
            "text/plain": [
              "'/content'"
            ],
            "application/vnd.google.colaboratory.intrinsic+json": {
              "type": "string"
            }
          },
          "metadata": {},
          "execution_count": 1
        }
      ]
    },
    {
      "cell_type": "markdown",
      "source": [
        "# `mkdir` (make a new directory)"
      ],
      "metadata": {
        "id": "ETKTmAn69oVT"
      }
    },
    {
      "cell_type": "code",
      "execution_count": null,
      "metadata": {
        "id": "Q9cF2k_WJTMw"
      },
      "outputs": [],
      "source": [
        "# make a new directory called mydata\n",
        "%mkdir ./mydata\n"
      ]
    },
    {
      "cell_type": "markdown",
      "source": [
        "# `cd` (change working directory)"
      ],
      "metadata": {
        "id": "m1_V8yWD9sap"
      }
    },
    {
      "cell_type": "code",
      "source": [
        "# set new directory as the working directory\n",
        "# we have a new subshell with each ! command\n",
        "# so sometimes we need to use a %\n",
        "\n",
        "# https://stackoverflow.com/questions/48298146/changing-directory-in-google-colab-breaking-out-of-the-python-interpreter\n",
        "# https://ipython.readthedocs.io/en/stable/interactive/magics.html#magic-cd\n",
        "\n",
        "%cd /content/mydata\n",
        "#cd \"/content/mydata/\""
      ],
      "metadata": {
        "colab": {
          "base_uri": "https://localhost:8080/"
        },
        "id": "1BrLURrzJt-7",
        "outputId": "a6276108-84c8-4d6e-a7a4-49ee19602e2f"
      },
      "execution_count": null,
      "outputs": [
        {
          "output_type": "stream",
          "name": "stdout",
          "text": [
            "/content/mydata\n"
          ]
        }
      ]
    },
    {
      "cell_type": "code",
      "source": [
        "# ask what directory you are in\n",
        "%pwd"
      ],
      "metadata": {
        "colab": {
          "base_uri": "https://localhost:8080/",
          "height": 36
        },
        "id": "A9JsKyApKMgi",
        "outputId": "0fa9101f-42ef-4072-dd98-226280b54064"
      },
      "execution_count": null,
      "outputs": [
        {
          "output_type": "execute_result",
          "data": {
            "text/plain": [
              "'/content/mydata'"
            ],
            "application/vnd.google.colaboratory.intrinsic+json": {
              "type": "string"
            }
          },
          "metadata": {},
          "execution_count": 4
        }
      ]
    },
    {
      "cell_type": "code",
      "source": [
        "# make some new folders\n",
        "%mkdir class1"
      ],
      "metadata": {
        "id": "-0eMM-WEJo1S"
      },
      "execution_count": null,
      "outputs": []
    },
    {
      "cell_type": "code",
      "source": [
        "# make some new folders for all weeks of class\n",
        "%mkdir class2\n",
        "%mkdir class3\n",
        "%mkdir class4\n",
        "%mkdir class5\n",
        "%mkdir class6\n",
        "%mkdir class7\n",
        "%mkdir class8\n",
        "%mkdir class9"
      ],
      "metadata": {
        "id": "7p0tOBKokg0G"
      },
      "execution_count": null,
      "outputs": []
    },
    {
      "cell_type": "markdown",
      "source": [
        "## Why are we adding a %"
      ],
      "metadata": {
        "id": "5ZjmGvbI-CMw"
      }
    },
    {
      "cell_type": "markdown",
      "source": [
        "Since we are in Colab, we are using the same shell when we use a %. If we use a ! instead of %, it starts a new shell and we get lost 😞"
      ],
      "metadata": {
        "id": "zj4GXDiXE4JR"
      }
    },
    {
      "cell_type": "code",
      "source": [
        "!pwd"
      ],
      "metadata": {
        "colab": {
          "base_uri": "https://localhost:8080/"
        },
        "id": "aLEIKLY9FA5l",
        "outputId": "8f653040-fa5f-4a6d-91d1-a0a4f64c4068"
      },
      "execution_count": null,
      "outputs": [
        {
          "output_type": "stream",
          "name": "stdout",
          "text": [
            "/content/mydata\n"
          ]
        }
      ]
    },
    {
      "cell_type": "code",
      "source": [
        "!cd /content/sample_data\n",
        "!pwd"
      ],
      "metadata": {
        "colab": {
          "base_uri": "https://localhost:8080/"
        },
        "id": "g2i_yhGrFDAP",
        "outputId": "f8939ad1-965c-4312-e06c-7b5aef104493"
      },
      "execution_count": null,
      "outputs": [
        {
          "output_type": "stream",
          "name": "stdout",
          "text": [
            "/content/mydata\n"
          ]
        }
      ]
    },
    {
      "cell_type": "markdown",
      "source": [
        "See?! Versus if you used something like this, you would actually change the working directory."
      ],
      "metadata": {
        "id": "KsAJuUEnFG2g"
      }
    },
    {
      "cell_type": "code",
      "source": [
        "%pwd"
      ],
      "metadata": {
        "colab": {
          "base_uri": "https://localhost:8080/",
          "height": 36
        },
        "outputId": "562186c4-38a8-4b04-a0f5-345338da15d6",
        "id": "9m2A68Y3FQOf"
      },
      "execution_count": null,
      "outputs": [
        {
          "output_type": "execute_result",
          "data": {
            "text/plain": [
              "'/content/mydata'"
            ],
            "application/vnd.google.colaboratory.intrinsic+json": {
              "type": "string"
            }
          },
          "metadata": {},
          "execution_count": 9
        }
      ]
    },
    {
      "cell_type": "code",
      "source": [
        "%cd /content/sample_data\n",
        "%pwd"
      ],
      "metadata": {
        "colab": {
          "base_uri": "https://localhost:8080/",
          "height": 53
        },
        "outputId": "668a06e5-cf5d-4aee-be40-4ee40d23b0e2",
        "id": "EA6MjQbSFQOg"
      },
      "execution_count": null,
      "outputs": [
        {
          "output_type": "stream",
          "name": "stdout",
          "text": [
            "/content/sample_data\n"
          ]
        },
        {
          "output_type": "execute_result",
          "data": {
            "text/plain": [
              "'/content/sample_data'"
            ],
            "application/vnd.google.colaboratory.intrinsic+json": {
              "type": "string"
            }
          },
          "metadata": {},
          "execution_count": 10
        }
      ]
    },
    {
      "cell_type": "markdown",
      "source": [
        "## `cd ..` (go back a folder)"
      ],
      "metadata": {
        "id": "FvGe_vRAFdgg"
      }
    },
    {
      "cell_type": "code",
      "source": [
        "# we have gone back one folder!\n",
        "%cd .."
      ],
      "metadata": {
        "colab": {
          "base_uri": "https://localhost:8080/"
        },
        "id": "JLQDaL0RFmbE",
        "outputId": "af6d6661-4b43-42ae-8265-37832eac747f"
      },
      "execution_count": null,
      "outputs": [
        {
          "output_type": "stream",
          "name": "stdout",
          "text": [
            "/content\n"
          ]
        }
      ]
    },
    {
      "cell_type": "code",
      "source": [
        "# check your work\n",
        "%pwd"
      ],
      "metadata": {
        "colab": {
          "base_uri": "https://localhost:8080/",
          "height": 36
        },
        "id": "vKgNL0VCHkP0",
        "outputId": "739f1443-8afb-4714-cb43-5c1bbab5d2d3"
      },
      "execution_count": null,
      "outputs": [
        {
          "output_type": "execute_result",
          "data": {
            "text/plain": [
              "'/content'"
            ],
            "application/vnd.google.colaboratory.intrinsic+json": {
              "type": "string"
            }
          },
          "metadata": {},
          "execution_count": 12
        }
      ]
    },
    {
      "cell_type": "markdown",
      "source": [
        "## `cd ../..` (go back two folders!)"
      ],
      "metadata": {
        "id": "MRqVwzkmtMRM"
      }
    },
    {
      "cell_type": "code",
      "source": [
        "# try it on your own\n",
        "%cd /content/mydata/class1\n",
        "%pwd"
      ],
      "metadata": {
        "id": "sZ9zzKiBtU1N",
        "colab": {
          "base_uri": "https://localhost:8080/",
          "height": 53
        },
        "outputId": "44b21eda-ca66-492c-bed1-d0fc7472cbfa"
      },
      "execution_count": null,
      "outputs": [
        {
          "output_type": "stream",
          "name": "stdout",
          "text": [
            "/content/mydata/class1\n"
          ]
        },
        {
          "output_type": "execute_result",
          "data": {
            "text/plain": [
              "'/content/mydata/class1'"
            ],
            "application/vnd.google.colaboratory.intrinsic+json": {
              "type": "string"
            }
          },
          "metadata": {},
          "execution_count": 13
        }
      ]
    },
    {
      "cell_type": "code",
      "source": [
        "\n",
        "# go back two folders!\n",
        "%cd ../.."
      ],
      "metadata": {
        "colab": {
          "base_uri": "https://localhost:8080/"
        },
        "id": "tPFGC-xoM2A4",
        "outputId": "8af4f07a-19b9-4527-acb5-e49b441bc024"
      },
      "execution_count": null,
      "outputs": [
        {
          "output_type": "stream",
          "name": "stdout",
          "text": [
            "/content\n"
          ]
        }
      ]
    },
    {
      "cell_type": "code",
      "source": [
        "%pwd"
      ],
      "metadata": {
        "colab": {
          "base_uri": "https://localhost:8080/",
          "height": 36
        },
        "id": "2U4DLpzyM8P6",
        "outputId": "7962f1a5-ab12-4fb3-b15f-3376560cb7a5"
      },
      "execution_count": null,
      "outputs": [
        {
          "output_type": "execute_result",
          "data": {
            "text/plain": [
              "'/content'"
            ],
            "application/vnd.google.colaboratory.intrinsic+json": {
              "type": "string"
            }
          },
          "metadata": {},
          "execution_count": 15
        }
      ]
    },
    {
      "cell_type": "markdown",
      "source": [
        "# `rmdir` (remove empty folders)"
      ],
      "metadata": {
        "id": "6m-QEYvXBTfp"
      }
    },
    {
      "cell_type": "markdown",
      "source": [
        "* https://www.geeksforgeeks.org/rmdir-command-in-linux-with-examples/?ref=lbp"
      ],
      "metadata": {
        "id": "b0k4o_RcBfEr"
      }
    },
    {
      "cell_type": "code",
      "source": [
        "# change our working directory to /content/mydata\n",
        "%cd /content/mydata"
      ],
      "metadata": {
        "colab": {
          "base_uri": "https://localhost:8080/"
        },
        "id": "GyZadp1ABcaq",
        "outputId": "957e02c0-4676-4c9e-a873-b8cda41bbd6a"
      },
      "execution_count": null,
      "outputs": [
        {
          "output_type": "stream",
          "name": "stdout",
          "text": [
            "/content/mydata\n"
          ]
        }
      ]
    },
    {
      "cell_type": "code",
      "source": [
        "# this removes the class9 folder from our working directory\n",
        "%rmdir class9"
      ],
      "metadata": {
        "id": "kR000097Boix"
      },
      "execution_count": null,
      "outputs": []
    },
    {
      "cell_type": "markdown",
      "source": [
        "If our working directory had been `/content` instead of `content/mydata`, then our class9 folder would not have been removed!"
      ],
      "metadata": {
        "id": "s0mIzLEQBwHT"
      }
    },
    {
      "cell_type": "code",
      "source": [
        "%cd /content"
      ],
      "metadata": {
        "colab": {
          "base_uri": "https://localhost:8080/"
        },
        "id": "5_dHHlzPB2p5",
        "outputId": "6d37517b-26dd-4ecd-c598-9e8bc9da93c5"
      },
      "execution_count": null,
      "outputs": [
        {
          "output_type": "stream",
          "name": "stdout",
          "text": [
            "/content\n"
          ]
        }
      ]
    },
    {
      "cell_type": "code",
      "source": [
        "%pwd"
      ],
      "metadata": {
        "colab": {
          "base_uri": "https://localhost:8080/",
          "height": 36
        },
        "id": "5UwiLRbdB4re",
        "outputId": "5a774e81-41e9-4ebc-c6c4-f4c39bacad88"
      },
      "execution_count": null,
      "outputs": [
        {
          "output_type": "execute_result",
          "data": {
            "text/plain": [
              "'/content'"
            ],
            "application/vnd.google.colaboratory.intrinsic+json": {
              "type": "string"
            }
          },
          "metadata": {},
          "execution_count": 19
        }
      ]
    },
    {
      "cell_type": "code",
      "source": [
        "# try to delete content/class8 folder\n",
        "%rmdir class8"
      ],
      "metadata": {
        "colab": {
          "base_uri": "https://localhost:8080/"
        },
        "id": "WZXN250AB6g0",
        "outputId": "c7f38973-2a69-46af-ef20-9a831089fec4"
      },
      "execution_count": null,
      "outputs": [
        {
          "output_type": "stream",
          "name": "stdout",
          "text": [
            "rmdir: failed to remove 'class8': No such file or directory\n"
          ]
        }
      ]
    },
    {
      "cell_type": "markdown",
      "source": [
        "Of course you get an error! There is no folder called content/class8 ... you would need to update the working directory"
      ],
      "metadata": {
        "id": "6SvTL5BdCBXd"
      }
    },
    {
      "cell_type": "markdown",
      "source": [
        "# `cp` (copy a file to a directory)"
      ],
      "metadata": {
        "id": "-isyMOSnADCH"
      }
    },
    {
      "cell_type": "markdown",
      "source": [
        "* https://www.cyberciti.biz/faq/copy-command/"
      ],
      "metadata": {
        "id": "zLWT0ejcAPO7"
      }
    },
    {
      "cell_type": "code",
      "source": [
        "# source destinationPath\n",
        "%cp /content/sample_data/california_housing_test.csv /content/mydata/class1/"
      ],
      "metadata": {
        "id": "2WVrNU-ZANc8"
      },
      "execution_count": null,
      "outputs": []
    },
    {
      "cell_type": "markdown",
      "source": [
        "# Move items into folders on your local runtime"
      ],
      "metadata": {
        "id": "Bq_GEvbU-M2V"
      }
    },
    {
      "cell_type": "markdown",
      "source": [
        "# `ls` (list files in a directory)"
      ],
      "metadata": {
        "id": "2KLco5oqC0cK"
      }
    },
    {
      "cell_type": "code",
      "source": [
        "%pwd"
      ],
      "metadata": {
        "colab": {
          "base_uri": "https://localhost:8080/",
          "height": 36
        },
        "id": "HMvgn7ZxOqzb",
        "outputId": "c87095c1-dce7-4ae5-a4fd-75684d12d187"
      },
      "execution_count": null,
      "outputs": [
        {
          "output_type": "execute_result",
          "data": {
            "text/plain": [
              "'/content'"
            ],
            "application/vnd.google.colaboratory.intrinsic+json": {
              "type": "string"
            }
          },
          "metadata": {},
          "execution_count": 22
        }
      ]
    },
    {
      "cell_type": "code",
      "source": [
        "# notice the the ./ is used as your home directory!\n",
        "%ls ./sample_data"
      ],
      "metadata": {
        "colab": {
          "base_uri": "https://localhost:8080/"
        },
        "id": "FQm6EPYhDAKS",
        "outputId": "3678ea39-3d9e-4f76-913e-8aa79f23a213"
      },
      "execution_count": null,
      "outputs": [
        {
          "output_type": "stream",
          "name": "stdout",
          "text": [
            "\u001b[0m\u001b[01;32manscombe.json\u001b[0m*                mnist_test.csv\n",
            "california_housing_test.csv   mnist_train_small.csv\n",
            "california_housing_train.csv  \u001b[01;32mREADME.md\u001b[0m*\n"
          ]
        }
      ]
    },
    {
      "cell_type": "code",
      "source": [
        "# of course this works too\n",
        "%ls /content/sample_data/"
      ],
      "metadata": {
        "colab": {
          "base_uri": "https://localhost:8080/"
        },
        "id": "rZ60UGVZDHG9",
        "outputId": "5fe5bc30-9ef3-4dd0-9ef2-fa43ffc0d809"
      },
      "execution_count": null,
      "outputs": [
        {
          "output_type": "stream",
          "name": "stdout",
          "text": [
            "\u001b[0m\u001b[01;32manscombe.json\u001b[0m*                mnist_test.csv\n",
            "california_housing_test.csv   mnist_train_small.csv\n",
            "california_housing_train.csv  \u001b[01;32mREADME.md\u001b[0m*\n"
          ]
        }
      ]
    },
    {
      "cell_type": "markdown",
      "source": [
        "## On your own: Add cool options!\n",
        "* https://www.freecodecamp.org/news/the-linux-ls-command-how-to-list-files-in-a-directory-with-options/"
      ],
      "metadata": {
        "id": "8EP6Db2NscrO"
      }
    },
    {
      "cell_type": "markdown",
      "source": [
        "# `less` (view big files one page at a time)"
      ],
      "metadata": {
        "id": "I7jTVmQXDfec"
      }
    },
    {
      "cell_type": "markdown",
      "source": [
        "* https://phoenixnap.com/kb/less-command-in-linux"
      ],
      "metadata": {
        "id": "yRiikDomDoUE"
      }
    },
    {
      "cell_type": "code",
      "source": [
        "# want to know what that readme says?\n",
        "%less /content/sample_data/README.md"
      ],
      "metadata": {
        "id": "aMxu54alDQQl"
      },
      "execution_count": null,
      "outputs": []
    },
    {
      "cell_type": "code",
      "source": [
        "%less /content/sample_data/california_housing_test.csv"
      ],
      "metadata": {
        "id": "fN5BFeutO3Ba"
      },
      "execution_count": null,
      "outputs": []
    },
    {
      "cell_type": "markdown",
      "source": [
        "# `rm -r` (remove non-empty directory)"
      ],
      "metadata": {
        "id": "8yZSTfTeFr6b"
      }
    },
    {
      "cell_type": "code",
      "source": [
        "%pwd"
      ],
      "metadata": {
        "colab": {
          "base_uri": "https://localhost:8080/",
          "height": 36
        },
        "id": "BsoxMamjFvVN",
        "outputId": "814dc0f9-d7d9-466d-d762-8c5dde4af107"
      },
      "execution_count": null,
      "outputs": [
        {
          "output_type": "execute_result",
          "data": {
            "text/plain": [
              "'/content'"
            ],
            "application/vnd.google.colaboratory.intrinsic+json": {
              "type": "string"
            }
          },
          "metadata": {},
          "execution_count": 27
        }
      ]
    },
    {
      "cell_type": "code",
      "source": [
        "%rm -r ./sample_data"
      ],
      "metadata": {
        "id": "CAPeudw8FxhU"
      },
      "execution_count": null,
      "outputs": []
    },
    {
      "cell_type": "markdown",
      "source": [
        "Go look left - it's gone! 😢 But don't worry - that's just a stock folder with toy data that loads every time."
      ],
      "metadata": {
        "id": "SpHVkX5sF8vI"
      }
    },
    {
      "cell_type": "markdown",
      "source": [
        "# Mount your Drive OR CAREFULLY experiment on your own machine\n",
        "... and see if you can update your own!"
      ],
      "metadata": {
        "id": "KthH5uA23xq5"
      }
    },
    {
      "cell_type": "code",
      "source": [
        "from google.colab import drive\n",
        "drive.mount('/content/drive')"
      ],
      "metadata": {
        "id": "Cwi752ntBULt",
        "colab": {
          "base_uri": "https://localhost:8080/"
        },
        "outputId": "1cce7430-59cd-4e5d-8c45-0ad99d85d958"
      },
      "execution_count": null,
      "outputs": [
        {
          "output_type": "stream",
          "name": "stdout",
          "text": [
            "Mounted at /content/drive\n"
          ]
        }
      ]
    },
    {
      "cell_type": "code",
      "source": [
        "%pwd"
      ],
      "metadata": {
        "colab": {
          "base_uri": "https://localhost:8080/"
        },
        "id": "u6ZZ8aM-f1mC",
        "outputId": "b55baa7f-bf01-4036-a15d-d0644fc072f5"
      },
      "execution_count": null,
      "outputs": [
        {
          "output_type": "execute_result",
          "data": {
            "text/plain": [
              "'/content'"
            ],
            "application/vnd.google.colaboratory.intrinsic+json": {
              "type": "string"
            }
          },
          "metadata": {},
          "execution_count": 30
        }
      ]
    },
    {
      "cell_type": "code",
      "source": [
        "# change working directory to google drive\n",
        "%cd ./drive/MyDrive\n",
        "%pwd"
      ],
      "metadata": {
        "colab": {
          "base_uri": "https://localhost:8080/"
        },
        "id": "7v6q0wRYf5IY",
        "outputId": "ee5eb081-91b9-4bce-90de-ac50e0a8884d"
      },
      "execution_count": null,
      "outputs": [
        {
          "output_type": "stream",
          "name": "stdout",
          "text": [
            "/content/drive/MyDrive\n"
          ]
        },
        {
          "output_type": "execute_result",
          "data": {
            "text/plain": [
              "'/content/drive/MyDrive'"
            ],
            "application/vnd.google.colaboratory.intrinsic+json": {
              "type": "string"
            }
          },
          "metadata": {},
          "execution_count": 31
        }
      ]
    },
    {
      "cell_type": "code",
      "source": [
        "# make a directory on the homepage\n",
        "%mkdir myFolder"
      ],
      "metadata": {
        "id": "s19K19HLf_1U",
        "colab": {
          "base_uri": "https://localhost:8080/"
        },
        "outputId": "a4f9dbce-8e0c-4416-c68f-40f1684ebb0a"
      },
      "execution_count": null,
      "outputs": [
        {
          "output_type": "stream",
          "name": "stdout",
          "text": [
            "mkdir: cannot create directory ‘myFolder’: File exists\n"
          ]
        }
      ]
    },
    {
      "cell_type": "markdown",
      "source": [
        "Go check your Google Drive folder - a new folder should be there!"
      ],
      "metadata": {
        "id": "lo-QF9YHivpj"
      }
    },
    {
      "cell_type": "markdown",
      "source": [
        "# Move items into folders on your Google Drive OR CAREFULLY on your own machine."
      ],
      "metadata": {
        "id": "PcXdr4Ln-SFa"
      }
    },
    {
      "cell_type": "markdown",
      "source": [
        "On your own, you are welcome to use Linux commands to set up folders on your Google Drive for class... here we go!"
      ],
      "metadata": {
        "id": "le5N9yXYhG5s"
      }
    },
    {
      "cell_type": "markdown",
      "source": [
        "Of course be careful - you might delete your files permanently if you make a mistake... start slow!"
      ],
      "metadata": {
        "id": "svjdIU4-i5bQ"
      }
    }
  ]
}