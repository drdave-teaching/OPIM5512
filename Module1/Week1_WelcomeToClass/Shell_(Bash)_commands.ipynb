{
  "cells": [
    {
      "cell_type": "markdown",
      "metadata": {
        "id": "KajORyjXmDSP"
      },
      "source": [
        "# Shell (Bash) Commands"
      ]
    },
    {
      "cell_type": "markdown",
      "metadata": {
        "id": "22fPZI2nK7H0"
      },
      "source": [
        "**Dr. Dave Wanik - University of Connecticut**\n",
        "\n",
        "The tools we are learning (pwd, mkdir, cd, cp, etc.) are Unix shell commands (GNU coreutils) and run in many environments (Linux, macOS, WSL, Git Bash)! You can practice on Colab then try on your local machine."
      ]
    },
    {
      "cell_type": "markdown",
      "metadata": {
        "id": "2WMKSEMI9f3Y"
      },
      "source": [
        "# `pwd` (print working directory)"
      ]
    },
    {
      "cell_type": "markdown",
      "metadata": {
        "id": "nLGxlaLs9v5e"
      },
      "source": [
        "* https://www.geeksforgeeks.org/pwd-command-in-linux-with-examples/"
      ]
    },
    {
      "cell_type": "code",
      "execution_count": null,
      "metadata": {
        "colab": {
          "base_uri": "https://localhost:8080/",
          "height": 36
        },
        "id": "1femGqj-2UZd",
        "outputId": "b93edd05-2c6e-479d-81e7-595bf38e86c7"
      },
      "outputs": [
        {
          "data": {
            "application/vnd.google.colaboratory.intrinsic+json": {
              "type": "string"
            },
            "text/plain": [
              "'/content'"
            ]
          },
          "execution_count": 1,
          "metadata": {},
          "output_type": "execute_result"
        }
      ],
      "source": [
        "# lists the parent working directory\n",
        "%pwd"
      ]
    },
    {
      "cell_type": "markdown",
      "metadata": {
        "id": "ETKTmAn69oVT"
      },
      "source": [
        "# `mkdir` (make a new directory)"
      ]
    },
    {
      "cell_type": "code",
      "execution_count": null,
      "metadata": {
        "id": "Q9cF2k_WJTMw"
      },
      "outputs": [],
      "source": [
        "# make a new directory called mydata\n",
        "%mkdir ./mydata\n"
      ]
    },
    {
      "cell_type": "markdown",
      "metadata": {
        "id": "m1_V8yWD9sap"
      },
      "source": [
        "# `cd` (change working directory)"
      ]
    },
    {
      "cell_type": "code",
      "execution_count": null,
      "metadata": {
        "colab": {
          "base_uri": "https://localhost:8080/"
        },
        "id": "1BrLURrzJt-7",
        "outputId": "a6276108-84c8-4d6e-a7a4-49ee19602e2f"
      },
      "outputs": [
        {
          "name": "stdout",
          "output_type": "stream",
          "text": [
            "/content/mydata\n"
          ]
        }
      ],
      "source": [
        "# set new directory as the working directory\n",
        "# we have a new subshell with each ! command\n",
        "# so sometimes we need to use a %\n",
        "\n",
        "# https://stackoverflow.com/questions/48298146/changing-directory-in-google-colab-breaking-out-of-the-python-interpreter\n",
        "# https://ipython.readthedocs.io/en/stable/interactive/magics.html#magic-cd\n",
        "\n",
        "%cd /content/mydata\n",
        "#cd \"/content/mydata/\""
      ]
    },
    {
      "cell_type": "code",
      "execution_count": null,
      "metadata": {
        "colab": {
          "base_uri": "https://localhost:8080/",
          "height": 36
        },
        "id": "A9JsKyApKMgi",
        "outputId": "0fa9101f-42ef-4072-dd98-226280b54064"
      },
      "outputs": [
        {
          "data": {
            "application/vnd.google.colaboratory.intrinsic+json": {
              "type": "string"
            },
            "text/plain": [
              "'/content/mydata'"
            ]
          },
          "execution_count": 4,
          "metadata": {},
          "output_type": "execute_result"
        }
      ],
      "source": [
        "# ask what directory you are in\n",
        "%pwd"
      ]
    },
    {
      "cell_type": "code",
      "execution_count": null,
      "metadata": {
        "id": "-0eMM-WEJo1S"
      },
      "outputs": [],
      "source": [
        "# make some new folders\n",
        "%mkdir class1"
      ]
    },
    {
      "cell_type": "code",
      "execution_count": null,
      "metadata": {
        "id": "7p0tOBKokg0G"
      },
      "outputs": [],
      "source": [
        "# make some new folders for all weeks of class\n",
        "%mkdir class2\n",
        "%mkdir class3\n",
        "%mkdir class4\n",
        "%mkdir class5\n",
        "%mkdir class6\n",
        "%mkdir class7\n",
        "%mkdir class8\n",
        "%mkdir class9"
      ]
    },
    {
      "cell_type": "markdown",
      "metadata": {
        "id": "5ZjmGvbI-CMw"
      },
      "source": [
        "## Why are we adding a %"
      ]
    },
    {
      "cell_type": "markdown",
      "metadata": {
        "id": "zj4GXDiXE4JR"
      },
      "source": [
        "Since we are in Colab, we are using the same shell when we use a %. If we use a ! instead of %, it starts a new shell and we get lost 😞"
      ]
    },
    {
      "cell_type": "code",
      "execution_count": null,
      "metadata": {
        "colab": {
          "base_uri": "https://localhost:8080/"
        },
        "id": "aLEIKLY9FA5l",
        "outputId": "8f653040-fa5f-4a6d-91d1-a0a4f64c4068"
      },
      "outputs": [
        {
          "name": "stdout",
          "output_type": "stream",
          "text": [
            "/content/mydata\n"
          ]
        }
      ],
      "source": [
        "!pwd"
      ]
    },
    {
      "cell_type": "code",
      "execution_count": null,
      "metadata": {
        "colab": {
          "base_uri": "https://localhost:8080/"
        },
        "id": "g2i_yhGrFDAP",
        "outputId": "f8939ad1-965c-4312-e06c-7b5aef104493"
      },
      "outputs": [
        {
          "name": "stdout",
          "output_type": "stream",
          "text": [
            "/content/mydata\n"
          ]
        }
      ],
      "source": [
        "!cd /content/sample_data\n",
        "!pwd"
      ]
    },
    {
      "cell_type": "markdown",
      "metadata": {
        "id": "KsAJuUEnFG2g"
      },
      "source": [
        "See?! Versus if you used something like this, you would actually change the working directory."
      ]
    },
    {
      "cell_type": "code",
      "execution_count": null,
      "metadata": {
        "colab": {
          "base_uri": "https://localhost:8080/",
          "height": 36
        },
        "id": "9m2A68Y3FQOf",
        "outputId": "562186c4-38a8-4b04-a0f5-345338da15d6"
      },
      "outputs": [
        {
          "data": {
            "application/vnd.google.colaboratory.intrinsic+json": {
              "type": "string"
            },
            "text/plain": [
              "'/content/mydata'"
            ]
          },
          "execution_count": 9,
          "metadata": {},
          "output_type": "execute_result"
        }
      ],
      "source": [
        "%pwd"
      ]
    },
    {
      "cell_type": "code",
      "execution_count": null,
      "metadata": {
        "colab": {
          "base_uri": "https://localhost:8080/",
          "height": 53
        },
        "id": "EA6MjQbSFQOg",
        "outputId": "668a06e5-cf5d-4aee-be40-4ee40d23b0e2"
      },
      "outputs": [
        {
          "name": "stdout",
          "output_type": "stream",
          "text": [
            "/content/sample_data\n"
          ]
        },
        {
          "data": {
            "application/vnd.google.colaboratory.intrinsic+json": {
              "type": "string"
            },
            "text/plain": [
              "'/content/sample_data'"
            ]
          },
          "execution_count": 10,
          "metadata": {},
          "output_type": "execute_result"
        }
      ],
      "source": [
        "%cd /content/sample_data\n",
        "%pwd"
      ]
    },
    {
      "cell_type": "markdown",
      "metadata": {
        "id": "FvGe_vRAFdgg"
      },
      "source": [
        "## `cd ..` (go back a folder)"
      ]
    },
    {
      "cell_type": "code",
      "execution_count": null,
      "metadata": {
        "colab": {
          "base_uri": "https://localhost:8080/"
        },
        "id": "JLQDaL0RFmbE",
        "outputId": "af6d6661-4b43-42ae-8265-37832eac747f"
      },
      "outputs": [
        {
          "name": "stdout",
          "output_type": "stream",
          "text": [
            "/content\n"
          ]
        }
      ],
      "source": [
        "# we have gone back one folder!\n",
        "%cd .."
      ]
    },
    {
      "cell_type": "code",
      "execution_count": null,
      "metadata": {
        "colab": {
          "base_uri": "https://localhost:8080/",
          "height": 36
        },
        "id": "vKgNL0VCHkP0",
        "outputId": "739f1443-8afb-4714-cb43-5c1bbab5d2d3"
      },
      "outputs": [
        {
          "data": {
            "application/vnd.google.colaboratory.intrinsic+json": {
              "type": "string"
            },
            "text/plain": [
              "'/content'"
            ]
          },
          "execution_count": 12,
          "metadata": {},
          "output_type": "execute_result"
        }
      ],
      "source": [
        "# check your work\n",
        "%pwd"
      ]
    },
    {
      "cell_type": "markdown",
      "metadata": {
        "id": "MRqVwzkmtMRM"
      },
      "source": [
        "## `cd ../..` (go back two folders!)"
      ]
    },
    {
      "cell_type": "code",
      "execution_count": null,
      "metadata": {
        "colab": {
          "base_uri": "https://localhost:8080/",
          "height": 53
        },
        "id": "sZ9zzKiBtU1N",
        "outputId": "44b21eda-ca66-492c-bed1-d0fc7472cbfa"
      },
      "outputs": [
        {
          "name": "stdout",
          "output_type": "stream",
          "text": [
            "/content/mydata/class1\n"
          ]
        },
        {
          "data": {
            "application/vnd.google.colaboratory.intrinsic+json": {
              "type": "string"
            },
            "text/plain": [
              "'/content/mydata/class1'"
            ]
          },
          "execution_count": 13,
          "metadata": {},
          "output_type": "execute_result"
        }
      ],
      "source": [
        "# try it on your own\n",
        "%cd /content/mydata/class1\n",
        "%pwd"
      ]
    },
    {
      "cell_type": "code",
      "execution_count": null,
      "metadata": {
        "colab": {
          "base_uri": "https://localhost:8080/"
        },
        "id": "tPFGC-xoM2A4",
        "outputId": "8af4f07a-19b9-4527-acb5-e49b441bc024"
      },
      "outputs": [
        {
          "name": "stdout",
          "output_type": "stream",
          "text": [
            "/content\n"
          ]
        }
      ],
      "source": [
        "\n",
        "# go back two folders!\n",
        "%cd ../.."
      ]
    },
    {
      "cell_type": "code",
      "execution_count": null,
      "metadata": {
        "colab": {
          "base_uri": "https://localhost:8080/",
          "height": 36
        },
        "id": "2U4DLpzyM8P6",
        "outputId": "7962f1a5-ab12-4fb3-b15f-3376560cb7a5"
      },
      "outputs": [
        {
          "data": {
            "application/vnd.google.colaboratory.intrinsic+json": {
              "type": "string"
            },
            "text/plain": [
              "'/content'"
            ]
          },
          "execution_count": 15,
          "metadata": {},
          "output_type": "execute_result"
        }
      ],
      "source": [
        "%pwd"
      ]
    },
    {
      "cell_type": "markdown",
      "metadata": {
        "id": "6m-QEYvXBTfp"
      },
      "source": [
        "# `rmdir` (remove empty folders)"
      ]
    },
    {
      "cell_type": "markdown",
      "metadata": {
        "id": "b0k4o_RcBfEr"
      },
      "source": [
        "* https://www.geeksforgeeks.org/rmdir-command-in-linux-with-examples/?ref=lbp"
      ]
    },
    {
      "cell_type": "code",
      "execution_count": null,
      "metadata": {
        "colab": {
          "base_uri": "https://localhost:8080/"
        },
        "id": "GyZadp1ABcaq",
        "outputId": "957e02c0-4676-4c9e-a873-b8cda41bbd6a"
      },
      "outputs": [
        {
          "name": "stdout",
          "output_type": "stream",
          "text": [
            "/content/mydata\n"
          ]
        }
      ],
      "source": [
        "# change our working directory to /content/mydata\n",
        "%cd /content/mydata"
      ]
    },
    {
      "cell_type": "code",
      "execution_count": null,
      "metadata": {
        "id": "kR000097Boix"
      },
      "outputs": [],
      "source": [
        "# this removes the class9 folder from our working directory\n",
        "%rmdir class9"
      ]
    },
    {
      "cell_type": "markdown",
      "metadata": {
        "id": "s0mIzLEQBwHT"
      },
      "source": [
        "If our working directory had been `/content` instead of `content/mydata`, then our class9 folder would not have been removed!"
      ]
    },
    {
      "cell_type": "code",
      "execution_count": null,
      "metadata": {
        "colab": {
          "base_uri": "https://localhost:8080/"
        },
        "id": "5_dHHlzPB2p5",
        "outputId": "6d37517b-26dd-4ecd-c598-9e8bc9da93c5"
      },
      "outputs": [
        {
          "name": "stdout",
          "output_type": "stream",
          "text": [
            "/content\n"
          ]
        }
      ],
      "source": [
        "%cd /content"
      ]
    },
    {
      "cell_type": "code",
      "execution_count": null,
      "metadata": {
        "colab": {
          "base_uri": "https://localhost:8080/",
          "height": 36
        },
        "id": "5UwiLRbdB4re",
        "outputId": "5a774e81-41e9-4ebc-c6c4-f4c39bacad88"
      },
      "outputs": [
        {
          "data": {
            "application/vnd.google.colaboratory.intrinsic+json": {
              "type": "string"
            },
            "text/plain": [
              "'/content'"
            ]
          },
          "execution_count": 19,
          "metadata": {},
          "output_type": "execute_result"
        }
      ],
      "source": [
        "%pwd"
      ]
    },
    {
      "cell_type": "code",
      "execution_count": null,
      "metadata": {
        "colab": {
          "base_uri": "https://localhost:8080/"
        },
        "id": "WZXN250AB6g0",
        "outputId": "c7f38973-2a69-46af-ef20-9a831089fec4"
      },
      "outputs": [
        {
          "name": "stdout",
          "output_type": "stream",
          "text": [
            "rmdir: failed to remove 'class8': No such file or directory\n"
          ]
        }
      ],
      "source": [
        "# try to delete content/class8 folder\n",
        "%rmdir class8"
      ]
    },
    {
      "cell_type": "markdown",
      "metadata": {
        "id": "6SvTL5BdCBXd"
      },
      "source": [
        "Of course you get an error! There is no folder called content/class8 ... you would need to update the working directory"
      ]
    },
    {
      "cell_type": "markdown",
      "metadata": {
        "id": "-isyMOSnADCH"
      },
      "source": [
        "# `cp` (copy a file to a directory)"
      ]
    },
    {
      "cell_type": "markdown",
      "metadata": {
        "id": "zLWT0ejcAPO7"
      },
      "source": [
        "* https://www.cyberciti.biz/faq/copy-command/"
      ]
    },
    {
      "cell_type": "code",
      "execution_count": null,
      "metadata": {
        "id": "2WVrNU-ZANc8"
      },
      "outputs": [],
      "source": [
        "# source destinationPath\n",
        "%cp /content/sample_data/california_housing_test.csv /content/mydata/class1/"
      ]
    },
    {
      "cell_type": "markdown",
      "metadata": {
        "id": "Bq_GEvbU-M2V"
      },
      "source": [
        "# Move items into folders on your local runtime"
      ]
    },
    {
      "cell_type": "markdown",
      "metadata": {
        "id": "2KLco5oqC0cK"
      },
      "source": [
        "# `ls` (list files in a directory)"
      ]
    },
    {
      "cell_type": "code",
      "execution_count": null,
      "metadata": {
        "colab": {
          "base_uri": "https://localhost:8080/",
          "height": 36
        },
        "id": "HMvgn7ZxOqzb",
        "outputId": "c87095c1-dce7-4ae5-a4fd-75684d12d187"
      },
      "outputs": [
        {
          "data": {
            "application/vnd.google.colaboratory.intrinsic+json": {
              "type": "string"
            },
            "text/plain": [
              "'/content'"
            ]
          },
          "execution_count": 22,
          "metadata": {},
          "output_type": "execute_result"
        }
      ],
      "source": [
        "%pwd"
      ]
    },
    {
      "cell_type": "code",
      "execution_count": null,
      "metadata": {
        "colab": {
          "base_uri": "https://localhost:8080/"
        },
        "id": "FQm6EPYhDAKS",
        "outputId": "3678ea39-3d9e-4f76-913e-8aa79f23a213"
      },
      "outputs": [
        {
          "name": "stdout",
          "output_type": "stream",
          "text": [
            "\u001b[0m\u001b[01;32manscombe.json\u001b[0m*                mnist_test.csv\n",
            "california_housing_test.csv   mnist_train_small.csv\n",
            "california_housing_train.csv  \u001b[01;32mREADME.md\u001b[0m*\n"
          ]
        }
      ],
      "source": [
        "# notice the the ./ is used as your home directory!\n",
        "%ls ./sample_data"
      ]
    },
    {
      "cell_type": "code",
      "execution_count": null,
      "metadata": {
        "colab": {
          "base_uri": "https://localhost:8080/"
        },
        "id": "rZ60UGVZDHG9",
        "outputId": "5fe5bc30-9ef3-4dd0-9ef2-fa43ffc0d809"
      },
      "outputs": [
        {
          "name": "stdout",
          "output_type": "stream",
          "text": [
            "\u001b[0m\u001b[01;32manscombe.json\u001b[0m*                mnist_test.csv\n",
            "california_housing_test.csv   mnist_train_small.csv\n",
            "california_housing_train.csv  \u001b[01;32mREADME.md\u001b[0m*\n"
          ]
        }
      ],
      "source": [
        "# of course this works too\n",
        "%ls /content/sample_data/"
      ]
    },
    {
      "cell_type": "markdown",
      "metadata": {
        "id": "8EP6Db2NscrO"
      },
      "source": [
        "## On your own: Add cool options!\n",
        "* https://www.freecodecamp.org/news/the-linux-ls-command-how-to-list-files-in-a-directory-with-options/"
      ]
    },
    {
      "cell_type": "markdown",
      "metadata": {
        "id": "I7jTVmQXDfec"
      },
      "source": [
        "# `less` (view big files one page at a time)"
      ]
    },
    {
      "cell_type": "markdown",
      "metadata": {
        "id": "yRiikDomDoUE"
      },
      "source": [
        "* https://phoenixnap.com/kb/less-command-in-linux"
      ]
    },
    {
      "cell_type": "code",
      "execution_count": null,
      "metadata": {
        "id": "aMxu54alDQQl"
      },
      "outputs": [],
      "source": [
        "# want to know what that readme says?\n",
        "%less /content/sample_data/README.md"
      ]
    },
    {
      "cell_type": "code",
      "execution_count": null,
      "metadata": {
        "id": "fN5BFeutO3Ba"
      },
      "outputs": [],
      "source": [
        "%less /content/sample_data/california_housing_test.csv"
      ]
    },
    {
      "cell_type": "markdown",
      "metadata": {
        "id": "8yZSTfTeFr6b"
      },
      "source": [
        "# `rm -r` (remove non-empty directory)"
      ]
    },
    {
      "cell_type": "code",
      "execution_count": null,
      "metadata": {
        "colab": {
          "base_uri": "https://localhost:8080/",
          "height": 36
        },
        "id": "BsoxMamjFvVN",
        "outputId": "814dc0f9-d7d9-466d-d762-8c5dde4af107"
      },
      "outputs": [
        {
          "data": {
            "application/vnd.google.colaboratory.intrinsic+json": {
              "type": "string"
            },
            "text/plain": [
              "'/content'"
            ]
          },
          "execution_count": 27,
          "metadata": {},
          "output_type": "execute_result"
        }
      ],
      "source": [
        "%pwd"
      ]
    },
    {
      "cell_type": "code",
      "execution_count": null,
      "metadata": {
        "id": "CAPeudw8FxhU"
      },
      "outputs": [],
      "source": [
        "%rm -r ./sample_data"
      ]
    },
    {
      "cell_type": "markdown",
      "metadata": {
        "id": "SpHVkX5sF8vI"
      },
      "source": [
        "Go look left - it's gone! 😢 But don't worry - that's just a stock folder with toy data that loads every time."
      ]
    },
    {
      "cell_type": "markdown",
      "metadata": {
        "id": "KthH5uA23xq5"
      },
      "source": [
        "# Mount your Drive OR CAREFULLY experiment on your own machine\n",
        "... and see if you can update your own!"
      ]
    },
    {
      "cell_type": "code",
      "execution_count": null,
      "metadata": {
        "colab": {
          "base_uri": "https://localhost:8080/"
        },
        "id": "Cwi752ntBULt",
        "outputId": "1cce7430-59cd-4e5d-8c45-0ad99d85d958"
      },
      "outputs": [
        {
          "name": "stdout",
          "output_type": "stream",
          "text": [
            "Mounted at /content/drive\n"
          ]
        }
      ],
      "source": [
        "from google.colab import drive\n",
        "drive.mount('/content/drive')"
      ]
    },
    {
      "cell_type": "code",
      "execution_count": null,
      "metadata": {
        "colab": {
          "base_uri": "https://localhost:8080/"
        },
        "id": "u6ZZ8aM-f1mC",
        "outputId": "b55baa7f-bf01-4036-a15d-d0644fc072f5"
      },
      "outputs": [
        {
          "data": {
            "application/vnd.google.colaboratory.intrinsic+json": {
              "type": "string"
            },
            "text/plain": [
              "'/content'"
            ]
          },
          "execution_count": 30,
          "metadata": {},
          "output_type": "execute_result"
        }
      ],
      "source": [
        "%pwd"
      ]
    },
    {
      "cell_type": "code",
      "execution_count": null,
      "metadata": {
        "colab": {
          "base_uri": "https://localhost:8080/"
        },
        "id": "7v6q0wRYf5IY",
        "outputId": "ee5eb081-91b9-4bce-90de-ac50e0a8884d"
      },
      "outputs": [
        {
          "name": "stdout",
          "output_type": "stream",
          "text": [
            "/content/drive/MyDrive\n"
          ]
        },
        {
          "data": {
            "application/vnd.google.colaboratory.intrinsic+json": {
              "type": "string"
            },
            "text/plain": [
              "'/content/drive/MyDrive'"
            ]
          },
          "execution_count": 31,
          "metadata": {},
          "output_type": "execute_result"
        }
      ],
      "source": [
        "# change working directory to google drive\n",
        "%cd ./drive/MyDrive\n",
        "%pwd"
      ]
    },
    {
      "cell_type": "code",
      "execution_count": null,
      "metadata": {
        "colab": {
          "base_uri": "https://localhost:8080/"
        },
        "id": "s19K19HLf_1U",
        "outputId": "a4f9dbce-8e0c-4416-c68f-40f1684ebb0a"
      },
      "outputs": [
        {
          "name": "stdout",
          "output_type": "stream",
          "text": [
            "mkdir: cannot create directory ‘myFolder’: File exists\n"
          ]
        }
      ],
      "source": [
        "# make a directory on the homepage\n",
        "%mkdir myFolder"
      ]
    },
    {
      "cell_type": "markdown",
      "metadata": {
        "id": "lo-QF9YHivpj"
      },
      "source": [
        "Go check your Google Drive folder - a new folder should be there!"
      ]
    },
    {
      "cell_type": "markdown",
      "metadata": {
        "id": "PcXdr4Ln-SFa"
      },
      "source": [
        "# Move items into folders on your Google Drive OR CAREFULLY on your own machine."
      ]
    },
    {
      "cell_type": "markdown",
      "metadata": {
        "id": "le5N9yXYhG5s"
      },
      "source": [
        "On your own, you are welcome to use Linux commands to set up folders on your Google Drive for class... here we go!"
      ]
    },
    {
      "cell_type": "markdown",
      "metadata": {
        "id": "svjdIU4-i5bQ"
      },
      "source": [
        "Of course be careful - you might delete your files permanently if you make a mistake... start slow!"
      ]
    }
  ],
  "metadata": {
    "colab": {
      "collapsed_sections": [
        "Bq_GEvbU-M2V"
      ],
      "provenance": [],
      "toc_visible": true
    },
    "kernelspec": {
      "display_name": "Python 3",
      "name": "python3"
    },
    "language_info": {
      "name": "python"
    }
  },
  "nbformat": 4,
  "nbformat_minor": 0
}
