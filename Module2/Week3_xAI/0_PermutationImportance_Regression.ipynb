{
  "nbformat": 4,
  "nbformat_minor": 0,
  "metadata": {
    "colab": {
      "provenance": [],
      "toc_visible": true
    },
    "kernelspec": {
      "name": "python3",
      "display_name": "Python 3"
    }
  },
  "cells": [
    {
      "cell_type": "markdown",
      "metadata": {
        "id": "zehws9Rhsk2m"
      },
      "source": [
        "# Feature Importance via Permutation Testing (regression)\n",
        "**Dr. Dave Wanik - OPIM 5512: Data Science Using Python - University of Connecticut**\n",
        "\n",
        "---------------------------------\n",
        "\n",
        "Our model fit on Boston Housing and we got results - now what?! Which variables contributed most to the model's performance?"
      ]
    },
    {
      "cell_type": "markdown",
      "metadata": {
        "id": "GJ56vmKqjDVc"
      },
      "source": [
        "# What is feature importance?\n",
        "[From the documentation...](https://scikit-learn.org/stable/modules/permutation_importance.html)\n",
        "\n",
        "Permutation feature importance is a model inspection technique that can be used for any fitted estimator when the data is tabular. This is especially useful for non-linear or opaque estimators. The permutation feature importance is defined to be the decrease in a model score when a single feature value is randomly shuffled 1. This procedure breaks the relationship between the feature and the target, thus the drop in the model score is indicative of how much the model depends on the feature. This technique benefits from being model agnostic and can be calculated many times with different permutations of the feature.\n",
        "\n",
        "The permutation_importance function calculates the feature importance of estimators for a given dataset. The n_repeats parameter sets the number of times a feature is randomly shuffled and returns a sample of feature importances."
      ]
    },
    {
      "cell_type": "markdown",
      "metadata": {
        "id": "xhEQ0UwesvAB"
      },
      "source": [
        "## Getting started\n",
        "Import modules, mount Drive, read in the data, check data types and missing values. You may also do some light EDA prior to modeling.\n",
        "\n",
        "Notice how we are using the same functions over and over again... it really is like following a recipe.\n"
      ]
    },
    {
      "cell_type": "code",
      "metadata": {
        "id": "QqeDxYgSs2OG"
      },
      "source": [
        "# import modules we need for EDA and wrangling\n",
        "import pandas as pd\n",
        "import numpy as np\n",
        "import matplotlib.pyplot as plt\n",
        "import seaborn as sns\n",
        "\n",
        "# these functions are useful for splitting and normalization\n",
        "from sklearn.preprocessing import  MinMaxScaler\n",
        "from sklearn.model_selection import train_test_split\n",
        "\n",
        "# import other functions we'll need for regression modeling\n",
        "from sklearn.linear_model import LinearRegression # LR\n",
        "from sklearn.tree import DecisionTreeRegressor # DTR\n",
        "from sklearn.ensemble import RandomForestRegressor # RFR\n",
        "from sklearn.ensemble import GradientBoostingRegressor #GBR\n",
        "\n",
        "# regression error metrics\n",
        "from sklearn.metrics import mean_absolute_error\n",
        "from sklearn.metrics import mean_squared_error\n",
        "from sklearn.metrics import r2_score\n",
        "\n",
        "# permutation testing\n",
        "from sklearn.inspection import permutation_importance"
      ],
      "execution_count": null,
      "outputs": []
    },
    {
      "cell_type": "code",
      "metadata": {
        "id": "-qXsgt5NzmzP",
        "colab": {
          "base_uri": "https://localhost:8080/"
        },
        "outputId": "6f38c63c-ed8d-441f-bb6c-4a58ef85841a"
      },
      "source": [
        "# Load dataset\n",
        "# we will use Gdown to load our Boston Housing dataset\n",
        "# https://drive.google.com/file/d/1a0aNGSFWB-pf5ut1NsjE5ECIsbHHoAwI/view?usp=sharing\n",
        "!gdown --id 1a0aNGSFWB-pf5ut1NsjE5ECIsbHHoAwI\n",
        "\n",
        "# look left! it downloaded a local copy of 'BostonHousing.csv'"
      ],
      "execution_count": null,
      "outputs": [
        {
          "output_type": "stream",
          "name": "stdout",
          "text": [
            "/usr/local/lib/python3.7/dist-packages/gdown/cli.py:131: FutureWarning: Option `--id` was deprecated in version 4.3.1 and will be removed in 5.0. You don't need to pass it anymore to use a file ID.\n",
            "  category=FutureWarning,\n",
            "Downloading...\n",
            "From: https://drive.google.com/uc?id=1a0aNGSFWB-pf5ut1NsjE5ECIsbHHoAwI\n",
            "To: /content/BostonHousing.csv\n",
            "100% 35.2k/35.2k [00:00<00:00, 36.7MB/s]\n"
          ]
        }
      ]
    },
    {
      "cell_type": "code",
      "metadata": {
        "colab": {
          "base_uri": "https://localhost:8080/",
          "height": 570
        },
        "id": "aBcbVlU35uq5",
        "outputId": "b4617470-c74d-4bc2-fe41-96b47549e9b2"
      },
      "source": [
        "df = pd.read_csv('BostonHousing.csv')\n",
        "df.info()\n",
        "df.head()"
      ],
      "execution_count": null,
      "outputs": [
        {
          "output_type": "stream",
          "name": "stdout",
          "text": [
            "<class 'pandas.core.frame.DataFrame'>\n",
            "RangeIndex: 506 entries, 0 to 505\n",
            "Data columns (total 14 columns):\n",
            " #   Column   Non-Null Count  Dtype  \n",
            "---  ------   --------------  -----  \n",
            " 0   crim     506 non-null    float64\n",
            " 1   zn       506 non-null    float64\n",
            " 2   indus    506 non-null    float64\n",
            " 3   chas     506 non-null    int64  \n",
            " 4   nox      506 non-null    float64\n",
            " 5   rm       506 non-null    float64\n",
            " 6   age      506 non-null    float64\n",
            " 7   dis      506 non-null    float64\n",
            " 8   rad      506 non-null    int64  \n",
            " 9   tax      506 non-null    int64  \n",
            " 10  ptratio  506 non-null    float64\n",
            " 11  b        506 non-null    float64\n",
            " 12  lstat    506 non-null    float64\n",
            " 13  medv     506 non-null    float64\n",
            "dtypes: float64(11), int64(3)\n",
            "memory usage: 55.5 KB\n"
          ]
        },
        {
          "output_type": "execute_result",
          "data": {
            "text/plain": [
              "      crim    zn  indus  chas    nox     rm   age     dis  rad  tax  ptratio  \\\n",
              "0  0.00632  18.0   2.31     0  0.538  6.575  65.2  4.0900    1  296     15.3   \n",
              "1  0.02731   0.0   7.07     0  0.469  6.421  78.9  4.9671    2  242     17.8   \n",
              "2  0.02729   0.0   7.07     0  0.469  7.185  61.1  4.9671    2  242     17.8   \n",
              "3  0.03237   0.0   2.18     0  0.458  6.998  45.8  6.0622    3  222     18.7   \n",
              "4  0.06905   0.0   2.18     0  0.458  7.147  54.2  6.0622    3  222     18.7   \n",
              "\n",
              "        b  lstat  medv  \n",
              "0  396.90   4.98  24.0  \n",
              "1  396.90   9.14  21.6  \n",
              "2  392.83   4.03  34.7  \n",
              "3  394.63   2.94  33.4  \n",
              "4  396.90   5.33  36.2  "
            ],
            "text/html": [
              "\n",
              "  <div id=\"df-dcc865fb-afd2-4283-bd5a-4de7ff95f076\">\n",
              "    <div class=\"colab-df-container\">\n",
              "      <div>\n",
              "<style scoped>\n",
              "    .dataframe tbody tr th:only-of-type {\n",
              "        vertical-align: middle;\n",
              "    }\n",
              "\n",
              "    .dataframe tbody tr th {\n",
              "        vertical-align: top;\n",
              "    }\n",
              "\n",
              "    .dataframe thead th {\n",
              "        text-align: right;\n",
              "    }\n",
              "</style>\n",
              "<table border=\"1\" class=\"dataframe\">\n",
              "  <thead>\n",
              "    <tr style=\"text-align: right;\">\n",
              "      <th></th>\n",
              "      <th>crim</th>\n",
              "      <th>zn</th>\n",
              "      <th>indus</th>\n",
              "      <th>chas</th>\n",
              "      <th>nox</th>\n",
              "      <th>rm</th>\n",
              "      <th>age</th>\n",
              "      <th>dis</th>\n",
              "      <th>rad</th>\n",
              "      <th>tax</th>\n",
              "      <th>ptratio</th>\n",
              "      <th>b</th>\n",
              "      <th>lstat</th>\n",
              "      <th>medv</th>\n",
              "    </tr>\n",
              "  </thead>\n",
              "  <tbody>\n",
              "    <tr>\n",
              "      <th>0</th>\n",
              "      <td>0.00632</td>\n",
              "      <td>18.0</td>\n",
              "      <td>2.31</td>\n",
              "      <td>0</td>\n",
              "      <td>0.538</td>\n",
              "      <td>6.575</td>\n",
              "      <td>65.2</td>\n",
              "      <td>4.0900</td>\n",
              "      <td>1</td>\n",
              "      <td>296</td>\n",
              "      <td>15.3</td>\n",
              "      <td>396.90</td>\n",
              "      <td>4.98</td>\n",
              "      <td>24.0</td>\n",
              "    </tr>\n",
              "    <tr>\n",
              "      <th>1</th>\n",
              "      <td>0.02731</td>\n",
              "      <td>0.0</td>\n",
              "      <td>7.07</td>\n",
              "      <td>0</td>\n",
              "      <td>0.469</td>\n",
              "      <td>6.421</td>\n",
              "      <td>78.9</td>\n",
              "      <td>4.9671</td>\n",
              "      <td>2</td>\n",
              "      <td>242</td>\n",
              "      <td>17.8</td>\n",
              "      <td>396.90</td>\n",
              "      <td>9.14</td>\n",
              "      <td>21.6</td>\n",
              "    </tr>\n",
              "    <tr>\n",
              "      <th>2</th>\n",
              "      <td>0.02729</td>\n",
              "      <td>0.0</td>\n",
              "      <td>7.07</td>\n",
              "      <td>0</td>\n",
              "      <td>0.469</td>\n",
              "      <td>7.185</td>\n",
              "      <td>61.1</td>\n",
              "      <td>4.9671</td>\n",
              "      <td>2</td>\n",
              "      <td>242</td>\n",
              "      <td>17.8</td>\n",
              "      <td>392.83</td>\n",
              "      <td>4.03</td>\n",
              "      <td>34.7</td>\n",
              "    </tr>\n",
              "    <tr>\n",
              "      <th>3</th>\n",
              "      <td>0.03237</td>\n",
              "      <td>0.0</td>\n",
              "      <td>2.18</td>\n",
              "      <td>0</td>\n",
              "      <td>0.458</td>\n",
              "      <td>6.998</td>\n",
              "      <td>45.8</td>\n",
              "      <td>6.0622</td>\n",
              "      <td>3</td>\n",
              "      <td>222</td>\n",
              "      <td>18.7</td>\n",
              "      <td>394.63</td>\n",
              "      <td>2.94</td>\n",
              "      <td>33.4</td>\n",
              "    </tr>\n",
              "    <tr>\n",
              "      <th>4</th>\n",
              "      <td>0.06905</td>\n",
              "      <td>0.0</td>\n",
              "      <td>2.18</td>\n",
              "      <td>0</td>\n",
              "      <td>0.458</td>\n",
              "      <td>7.147</td>\n",
              "      <td>54.2</td>\n",
              "      <td>6.0622</td>\n",
              "      <td>3</td>\n",
              "      <td>222</td>\n",
              "      <td>18.7</td>\n",
              "      <td>396.90</td>\n",
              "      <td>5.33</td>\n",
              "      <td>36.2</td>\n",
              "    </tr>\n",
              "  </tbody>\n",
              "</table>\n",
              "</div>\n",
              "      <button class=\"colab-df-convert\" onclick=\"convertToInteractive('df-dcc865fb-afd2-4283-bd5a-4de7ff95f076')\"\n",
              "              title=\"Convert this dataframe to an interactive table.\"\n",
              "              style=\"display:none;\">\n",
              "        \n",
              "  <svg xmlns=\"http://www.w3.org/2000/svg\" height=\"24px\"viewBox=\"0 0 24 24\"\n",
              "       width=\"24px\">\n",
              "    <path d=\"M0 0h24v24H0V0z\" fill=\"none\"/>\n",
              "    <path d=\"M18.56 5.44l.94 2.06.94-2.06 2.06-.94-2.06-.94-.94-2.06-.94 2.06-2.06.94zm-11 1L8.5 8.5l.94-2.06 2.06-.94-2.06-.94L8.5 2.5l-.94 2.06-2.06.94zm10 10l.94 2.06.94-2.06 2.06-.94-2.06-.94-.94-2.06-.94 2.06-2.06.94z\"/><path d=\"M17.41 7.96l-1.37-1.37c-.4-.4-.92-.59-1.43-.59-.52 0-1.04.2-1.43.59L10.3 9.45l-7.72 7.72c-.78.78-.78 2.05 0 2.83L4 21.41c.39.39.9.59 1.41.59.51 0 1.02-.2 1.41-.59l7.78-7.78 2.81-2.81c.8-.78.8-2.07 0-2.86zM5.41 20L4 18.59l7.72-7.72 1.47 1.35L5.41 20z\"/>\n",
              "  </svg>\n",
              "      </button>\n",
              "      \n",
              "  <style>\n",
              "    .colab-df-container {\n",
              "      display:flex;\n",
              "      flex-wrap:wrap;\n",
              "      gap: 12px;\n",
              "    }\n",
              "\n",
              "    .colab-df-convert {\n",
              "      background-color: #E8F0FE;\n",
              "      border: none;\n",
              "      border-radius: 50%;\n",
              "      cursor: pointer;\n",
              "      display: none;\n",
              "      fill: #1967D2;\n",
              "      height: 32px;\n",
              "      padding: 0 0 0 0;\n",
              "      width: 32px;\n",
              "    }\n",
              "\n",
              "    .colab-df-convert:hover {\n",
              "      background-color: #E2EBFA;\n",
              "      box-shadow: 0px 1px 2px rgba(60, 64, 67, 0.3), 0px 1px 3px 1px rgba(60, 64, 67, 0.15);\n",
              "      fill: #174EA6;\n",
              "    }\n",
              "\n",
              "    [theme=dark] .colab-df-convert {\n",
              "      background-color: #3B4455;\n",
              "      fill: #D2E3FC;\n",
              "    }\n",
              "\n",
              "    [theme=dark] .colab-df-convert:hover {\n",
              "      background-color: #434B5C;\n",
              "      box-shadow: 0px 1px 3px 1px rgba(0, 0, 0, 0.15);\n",
              "      filter: drop-shadow(0px 1px 2px rgba(0, 0, 0, 0.3));\n",
              "      fill: #FFFFFF;\n",
              "    }\n",
              "  </style>\n",
              "\n",
              "      <script>\n",
              "        const buttonEl =\n",
              "          document.querySelector('#df-dcc865fb-afd2-4283-bd5a-4de7ff95f076 button.colab-df-convert');\n",
              "        buttonEl.style.display =\n",
              "          google.colab.kernel.accessAllowed ? 'block' : 'none';\n",
              "\n",
              "        async function convertToInteractive(key) {\n",
              "          const element = document.querySelector('#df-dcc865fb-afd2-4283-bd5a-4de7ff95f076');\n",
              "          const dataTable =\n",
              "            await google.colab.kernel.invokeFunction('convertToInteractive',\n",
              "                                                     [key], {});\n",
              "          if (!dataTable) return;\n",
              "\n",
              "          const docLinkHtml = 'Like what you see? Visit the ' +\n",
              "            '<a target=\"_blank\" href=https://colab.research.google.com/notebooks/data_table.ipynb>data table notebook</a>'\n",
              "            + ' to learn more about interactive tables.';\n",
              "          element.innerHTML = '';\n",
              "          dataTable['output_type'] = 'display_data';\n",
              "          await google.colab.output.renderOutput(dataTable, element);\n",
              "          const docLink = document.createElement('div');\n",
              "          docLink.innerHTML = docLinkHtml;\n",
              "          element.appendChild(docLink);\n",
              "        }\n",
              "      </script>\n",
              "    </div>\n",
              "  </div>\n",
              "  "
            ]
          },
          "metadata": {},
          "execution_count": 82
        }
      ]
    },
    {
      "cell_type": "code",
      "metadata": {
        "id": "e7PnTKNZyHfm",
        "colab": {
          "base_uri": "https://localhost:8080/",
          "height": 657
        },
        "outputId": "c6344e57-6197-4486-cfdc-d0522b16b4b3"
      },
      "source": [
        "# data type, shape and columns\n",
        "\n",
        "print(\"This is the shape :\\n\", df.shape, '\\n') # escape characters are fun! \\n adds a return line\n",
        "print(\"These are the column names: \\n\", df.columns, '\\n') # helps keep things nice and clean\n",
        "print(\"These are the data types: \\n\", df.dtypes)\n",
        "\n",
        "print(\"\\nThis is the head:\") # see how I can pop that \\n anywhere?\n",
        "df.head()   # also note how much stuff I have pasted in ONE CELL...\n",
        "            # now you are cooking with gas!\n",
        "\n",
        "# the head confirms to use that the valid column is some type of time/date stamp\n",
        "# we need to stop what we are doing and take care of this NOW!"
      ],
      "execution_count": null,
      "outputs": [
        {
          "output_type": "stream",
          "name": "stdout",
          "text": [
            "This is the shape :\n",
            " (506, 14) \n",
            "\n",
            "These are the column names: \n",
            " Index(['crim', 'zn', 'indus', 'chas', 'nox', 'rm', 'age', 'dis', 'rad', 'tax',\n",
            "       'ptratio', 'b', 'lstat', 'medv'],\n",
            "      dtype='object') \n",
            "\n",
            "These are the data types: \n",
            " crim       float64\n",
            "zn         float64\n",
            "indus      float64\n",
            "chas         int64\n",
            "nox        float64\n",
            "rm         float64\n",
            "age        float64\n",
            "dis        float64\n",
            "rad          int64\n",
            "tax          int64\n",
            "ptratio    float64\n",
            "b          float64\n",
            "lstat      float64\n",
            "medv       float64\n",
            "dtype: object\n",
            "\n",
            "This is the head:\n"
          ]
        },
        {
          "output_type": "execute_result",
          "data": {
            "text/plain": [
              "      crim    zn  indus  chas    nox     rm   age     dis  rad  tax  ptratio  \\\n",
              "0  0.00632  18.0   2.31     0  0.538  6.575  65.2  4.0900    1  296     15.3   \n",
              "1  0.02731   0.0   7.07     0  0.469  6.421  78.9  4.9671    2  242     17.8   \n",
              "2  0.02729   0.0   7.07     0  0.469  7.185  61.1  4.9671    2  242     17.8   \n",
              "3  0.03237   0.0   2.18     0  0.458  6.998  45.8  6.0622    3  222     18.7   \n",
              "4  0.06905   0.0   2.18     0  0.458  7.147  54.2  6.0622    3  222     18.7   \n",
              "\n",
              "        b  lstat  medv  \n",
              "0  396.90   4.98  24.0  \n",
              "1  396.90   9.14  21.6  \n",
              "2  392.83   4.03  34.7  \n",
              "3  394.63   2.94  33.4  \n",
              "4  396.90   5.33  36.2  "
            ],
            "text/html": [
              "\n",
              "  <div id=\"df-cd6ef24f-49e9-44f4-a3e6-8e2e9966e109\">\n",
              "    <div class=\"colab-df-container\">\n",
              "      <div>\n",
              "<style scoped>\n",
              "    .dataframe tbody tr th:only-of-type {\n",
              "        vertical-align: middle;\n",
              "    }\n",
              "\n",
              "    .dataframe tbody tr th {\n",
              "        vertical-align: top;\n",
              "    }\n",
              "\n",
              "    .dataframe thead th {\n",
              "        text-align: right;\n",
              "    }\n",
              "</style>\n",
              "<table border=\"1\" class=\"dataframe\">\n",
              "  <thead>\n",
              "    <tr style=\"text-align: right;\">\n",
              "      <th></th>\n",
              "      <th>crim</th>\n",
              "      <th>zn</th>\n",
              "      <th>indus</th>\n",
              "      <th>chas</th>\n",
              "      <th>nox</th>\n",
              "      <th>rm</th>\n",
              "      <th>age</th>\n",
              "      <th>dis</th>\n",
              "      <th>rad</th>\n",
              "      <th>tax</th>\n",
              "      <th>ptratio</th>\n",
              "      <th>b</th>\n",
              "      <th>lstat</th>\n",
              "      <th>medv</th>\n",
              "    </tr>\n",
              "  </thead>\n",
              "  <tbody>\n",
              "    <tr>\n",
              "      <th>0</th>\n",
              "      <td>0.00632</td>\n",
              "      <td>18.0</td>\n",
              "      <td>2.31</td>\n",
              "      <td>0</td>\n",
              "      <td>0.538</td>\n",
              "      <td>6.575</td>\n",
              "      <td>65.2</td>\n",
              "      <td>4.0900</td>\n",
              "      <td>1</td>\n",
              "      <td>296</td>\n",
              "      <td>15.3</td>\n",
              "      <td>396.90</td>\n",
              "      <td>4.98</td>\n",
              "      <td>24.0</td>\n",
              "    </tr>\n",
              "    <tr>\n",
              "      <th>1</th>\n",
              "      <td>0.02731</td>\n",
              "      <td>0.0</td>\n",
              "      <td>7.07</td>\n",
              "      <td>0</td>\n",
              "      <td>0.469</td>\n",
              "      <td>6.421</td>\n",
              "      <td>78.9</td>\n",
              "      <td>4.9671</td>\n",
              "      <td>2</td>\n",
              "      <td>242</td>\n",
              "      <td>17.8</td>\n",
              "      <td>396.90</td>\n",
              "      <td>9.14</td>\n",
              "      <td>21.6</td>\n",
              "    </tr>\n",
              "    <tr>\n",
              "      <th>2</th>\n",
              "      <td>0.02729</td>\n",
              "      <td>0.0</td>\n",
              "      <td>7.07</td>\n",
              "      <td>0</td>\n",
              "      <td>0.469</td>\n",
              "      <td>7.185</td>\n",
              "      <td>61.1</td>\n",
              "      <td>4.9671</td>\n",
              "      <td>2</td>\n",
              "      <td>242</td>\n",
              "      <td>17.8</td>\n",
              "      <td>392.83</td>\n",
              "      <td>4.03</td>\n",
              "      <td>34.7</td>\n",
              "    </tr>\n",
              "    <tr>\n",
              "      <th>3</th>\n",
              "      <td>0.03237</td>\n",
              "      <td>0.0</td>\n",
              "      <td>2.18</td>\n",
              "      <td>0</td>\n",
              "      <td>0.458</td>\n",
              "      <td>6.998</td>\n",
              "      <td>45.8</td>\n",
              "      <td>6.0622</td>\n",
              "      <td>3</td>\n",
              "      <td>222</td>\n",
              "      <td>18.7</td>\n",
              "      <td>394.63</td>\n",
              "      <td>2.94</td>\n",
              "      <td>33.4</td>\n",
              "    </tr>\n",
              "    <tr>\n",
              "      <th>4</th>\n",
              "      <td>0.06905</td>\n",
              "      <td>0.0</td>\n",
              "      <td>2.18</td>\n",
              "      <td>0</td>\n",
              "      <td>0.458</td>\n",
              "      <td>7.147</td>\n",
              "      <td>54.2</td>\n",
              "      <td>6.0622</td>\n",
              "      <td>3</td>\n",
              "      <td>222</td>\n",
              "      <td>18.7</td>\n",
              "      <td>396.90</td>\n",
              "      <td>5.33</td>\n",
              "      <td>36.2</td>\n",
              "    </tr>\n",
              "  </tbody>\n",
              "</table>\n",
              "</div>\n",
              "      <button class=\"colab-df-convert\" onclick=\"convertToInteractive('df-cd6ef24f-49e9-44f4-a3e6-8e2e9966e109')\"\n",
              "              title=\"Convert this dataframe to an interactive table.\"\n",
              "              style=\"display:none;\">\n",
              "        \n",
              "  <svg xmlns=\"http://www.w3.org/2000/svg\" height=\"24px\"viewBox=\"0 0 24 24\"\n",
              "       width=\"24px\">\n",
              "    <path d=\"M0 0h24v24H0V0z\" fill=\"none\"/>\n",
              "    <path d=\"M18.56 5.44l.94 2.06.94-2.06 2.06-.94-2.06-.94-.94-2.06-.94 2.06-2.06.94zm-11 1L8.5 8.5l.94-2.06 2.06-.94-2.06-.94L8.5 2.5l-.94 2.06-2.06.94zm10 10l.94 2.06.94-2.06 2.06-.94-2.06-.94-.94-2.06-.94 2.06-2.06.94z\"/><path d=\"M17.41 7.96l-1.37-1.37c-.4-.4-.92-.59-1.43-.59-.52 0-1.04.2-1.43.59L10.3 9.45l-7.72 7.72c-.78.78-.78 2.05 0 2.83L4 21.41c.39.39.9.59 1.41.59.51 0 1.02-.2 1.41-.59l7.78-7.78 2.81-2.81c.8-.78.8-2.07 0-2.86zM5.41 20L4 18.59l7.72-7.72 1.47 1.35L5.41 20z\"/>\n",
              "  </svg>\n",
              "      </button>\n",
              "      \n",
              "  <style>\n",
              "    .colab-df-container {\n",
              "      display:flex;\n",
              "      flex-wrap:wrap;\n",
              "      gap: 12px;\n",
              "    }\n",
              "\n",
              "    .colab-df-convert {\n",
              "      background-color: #E8F0FE;\n",
              "      border: none;\n",
              "      border-radius: 50%;\n",
              "      cursor: pointer;\n",
              "      display: none;\n",
              "      fill: #1967D2;\n",
              "      height: 32px;\n",
              "      padding: 0 0 0 0;\n",
              "      width: 32px;\n",
              "    }\n",
              "\n",
              "    .colab-df-convert:hover {\n",
              "      background-color: #E2EBFA;\n",
              "      box-shadow: 0px 1px 2px rgba(60, 64, 67, 0.3), 0px 1px 3px 1px rgba(60, 64, 67, 0.15);\n",
              "      fill: #174EA6;\n",
              "    }\n",
              "\n",
              "    [theme=dark] .colab-df-convert {\n",
              "      background-color: #3B4455;\n",
              "      fill: #D2E3FC;\n",
              "    }\n",
              "\n",
              "    [theme=dark] .colab-df-convert:hover {\n",
              "      background-color: #434B5C;\n",
              "      box-shadow: 0px 1px 3px 1px rgba(0, 0, 0, 0.15);\n",
              "      filter: drop-shadow(0px 1px 2px rgba(0, 0, 0, 0.3));\n",
              "      fill: #FFFFFF;\n",
              "    }\n",
              "  </style>\n",
              "\n",
              "      <script>\n",
              "        const buttonEl =\n",
              "          document.querySelector('#df-cd6ef24f-49e9-44f4-a3e6-8e2e9966e109 button.colab-df-convert');\n",
              "        buttonEl.style.display =\n",
              "          google.colab.kernel.accessAllowed ? 'block' : 'none';\n",
              "\n",
              "        async function convertToInteractive(key) {\n",
              "          const element = document.querySelector('#df-cd6ef24f-49e9-44f4-a3e6-8e2e9966e109');\n",
              "          const dataTable =\n",
              "            await google.colab.kernel.invokeFunction('convertToInteractive',\n",
              "                                                     [key], {});\n",
              "          if (!dataTable) return;\n",
              "\n",
              "          const docLinkHtml = 'Like what you see? Visit the ' +\n",
              "            '<a target=\"_blank\" href=https://colab.research.google.com/notebooks/data_table.ipynb>data table notebook</a>'\n",
              "            + ' to learn more about interactive tables.';\n",
              "          element.innerHTML = '';\n",
              "          dataTable['output_type'] = 'display_data';\n",
              "          await google.colab.output.renderOutput(dataTable, element);\n",
              "          const docLink = document.createElement('div');\n",
              "          docLink.innerHTML = docLinkHtml;\n",
              "          element.appendChild(docLink);\n",
              "        }\n",
              "      </script>\n",
              "    </div>\n",
              "  </div>\n",
              "  "
            ]
          },
          "metadata": {},
          "execution_count": 83
        }
      ]
    },
    {
      "cell_type": "code",
      "source": [
        "df.describe()"
      ],
      "metadata": {
        "colab": {
          "base_uri": "https://localhost:8080/",
          "height": 364
        },
        "id": "epwna0EPNc3S",
        "outputId": "bd8c97da-b1d8-462b-f654-eba35ea0beca"
      },
      "execution_count": null,
      "outputs": [
        {
          "output_type": "execute_result",
          "data": {
            "text/plain": [
              "             crim          zn       indus        chas         nox          rm  \\\n",
              "count  506.000000  506.000000  506.000000  506.000000  506.000000  506.000000   \n",
              "mean     3.613524   11.363636   11.136779    0.069170    0.554695    6.284634   \n",
              "std      8.601545   23.322453    6.860353    0.253994    0.115878    0.702617   \n",
              "min      0.006320    0.000000    0.460000    0.000000    0.385000    3.561000   \n",
              "25%      0.082045    0.000000    5.190000    0.000000    0.449000    5.885500   \n",
              "50%      0.256510    0.000000    9.690000    0.000000    0.538000    6.208500   \n",
              "75%      3.677083   12.500000   18.100000    0.000000    0.624000    6.623500   \n",
              "max     88.976200  100.000000   27.740000    1.000000    0.871000    8.780000   \n",
              "\n",
              "              age         dis         rad         tax     ptratio           b  \\\n",
              "count  506.000000  506.000000  506.000000  506.000000  506.000000  506.000000   \n",
              "mean    68.574901    3.795043    9.549407  408.237154   18.455534  356.674032   \n",
              "std     28.148861    2.105710    8.707259  168.537116    2.164946   91.294864   \n",
              "min      2.900000    1.129600    1.000000  187.000000   12.600000    0.320000   \n",
              "25%     45.025000    2.100175    4.000000  279.000000   17.400000  375.377500   \n",
              "50%     77.500000    3.207450    5.000000  330.000000   19.050000  391.440000   \n",
              "75%     94.075000    5.188425   24.000000  666.000000   20.200000  396.225000   \n",
              "max    100.000000   12.126500   24.000000  711.000000   22.000000  396.900000   \n",
              "\n",
              "            lstat        medv  \n",
              "count  506.000000  506.000000  \n",
              "mean    12.653063   22.532806  \n",
              "std      7.141062    9.197104  \n",
              "min      1.730000    5.000000  \n",
              "25%      6.950000   17.025000  \n",
              "50%     11.360000   21.200000  \n",
              "75%     16.955000   25.000000  \n",
              "max     37.970000   50.000000  "
            ],
            "text/html": [
              "\n",
              "  <div id=\"df-c5e54b1d-a21b-4dd1-8813-6b9ec618d832\">\n",
              "    <div class=\"colab-df-container\">\n",
              "      <div>\n",
              "<style scoped>\n",
              "    .dataframe tbody tr th:only-of-type {\n",
              "        vertical-align: middle;\n",
              "    }\n",
              "\n",
              "    .dataframe tbody tr th {\n",
              "        vertical-align: top;\n",
              "    }\n",
              "\n",
              "    .dataframe thead th {\n",
              "        text-align: right;\n",
              "    }\n",
              "</style>\n",
              "<table border=\"1\" class=\"dataframe\">\n",
              "  <thead>\n",
              "    <tr style=\"text-align: right;\">\n",
              "      <th></th>\n",
              "      <th>crim</th>\n",
              "      <th>zn</th>\n",
              "      <th>indus</th>\n",
              "      <th>chas</th>\n",
              "      <th>nox</th>\n",
              "      <th>rm</th>\n",
              "      <th>age</th>\n",
              "      <th>dis</th>\n",
              "      <th>rad</th>\n",
              "      <th>tax</th>\n",
              "      <th>ptratio</th>\n",
              "      <th>b</th>\n",
              "      <th>lstat</th>\n",
              "      <th>medv</th>\n",
              "    </tr>\n",
              "  </thead>\n",
              "  <tbody>\n",
              "    <tr>\n",
              "      <th>count</th>\n",
              "      <td>506.000000</td>\n",
              "      <td>506.000000</td>\n",
              "      <td>506.000000</td>\n",
              "      <td>506.000000</td>\n",
              "      <td>506.000000</td>\n",
              "      <td>506.000000</td>\n",
              "      <td>506.000000</td>\n",
              "      <td>506.000000</td>\n",
              "      <td>506.000000</td>\n",
              "      <td>506.000000</td>\n",
              "      <td>506.000000</td>\n",
              "      <td>506.000000</td>\n",
              "      <td>506.000000</td>\n",
              "      <td>506.000000</td>\n",
              "    </tr>\n",
              "    <tr>\n",
              "      <th>mean</th>\n",
              "      <td>3.613524</td>\n",
              "      <td>11.363636</td>\n",
              "      <td>11.136779</td>\n",
              "      <td>0.069170</td>\n",
              "      <td>0.554695</td>\n",
              "      <td>6.284634</td>\n",
              "      <td>68.574901</td>\n",
              "      <td>3.795043</td>\n",
              "      <td>9.549407</td>\n",
              "      <td>408.237154</td>\n",
              "      <td>18.455534</td>\n",
              "      <td>356.674032</td>\n",
              "      <td>12.653063</td>\n",
              "      <td>22.532806</td>\n",
              "    </tr>\n",
              "    <tr>\n",
              "      <th>std</th>\n",
              "      <td>8.601545</td>\n",
              "      <td>23.322453</td>\n",
              "      <td>6.860353</td>\n",
              "      <td>0.253994</td>\n",
              "      <td>0.115878</td>\n",
              "      <td>0.702617</td>\n",
              "      <td>28.148861</td>\n",
              "      <td>2.105710</td>\n",
              "      <td>8.707259</td>\n",
              "      <td>168.537116</td>\n",
              "      <td>2.164946</td>\n",
              "      <td>91.294864</td>\n",
              "      <td>7.141062</td>\n",
              "      <td>9.197104</td>\n",
              "    </tr>\n",
              "    <tr>\n",
              "      <th>min</th>\n",
              "      <td>0.006320</td>\n",
              "      <td>0.000000</td>\n",
              "      <td>0.460000</td>\n",
              "      <td>0.000000</td>\n",
              "      <td>0.385000</td>\n",
              "      <td>3.561000</td>\n",
              "      <td>2.900000</td>\n",
              "      <td>1.129600</td>\n",
              "      <td>1.000000</td>\n",
              "      <td>187.000000</td>\n",
              "      <td>12.600000</td>\n",
              "      <td>0.320000</td>\n",
              "      <td>1.730000</td>\n",
              "      <td>5.000000</td>\n",
              "    </tr>\n",
              "    <tr>\n",
              "      <th>25%</th>\n",
              "      <td>0.082045</td>\n",
              "      <td>0.000000</td>\n",
              "      <td>5.190000</td>\n",
              "      <td>0.000000</td>\n",
              "      <td>0.449000</td>\n",
              "      <td>5.885500</td>\n",
              "      <td>45.025000</td>\n",
              "      <td>2.100175</td>\n",
              "      <td>4.000000</td>\n",
              "      <td>279.000000</td>\n",
              "      <td>17.400000</td>\n",
              "      <td>375.377500</td>\n",
              "      <td>6.950000</td>\n",
              "      <td>17.025000</td>\n",
              "    </tr>\n",
              "    <tr>\n",
              "      <th>50%</th>\n",
              "      <td>0.256510</td>\n",
              "      <td>0.000000</td>\n",
              "      <td>9.690000</td>\n",
              "      <td>0.000000</td>\n",
              "      <td>0.538000</td>\n",
              "      <td>6.208500</td>\n",
              "      <td>77.500000</td>\n",
              "      <td>3.207450</td>\n",
              "      <td>5.000000</td>\n",
              "      <td>330.000000</td>\n",
              "      <td>19.050000</td>\n",
              "      <td>391.440000</td>\n",
              "      <td>11.360000</td>\n",
              "      <td>21.200000</td>\n",
              "    </tr>\n",
              "    <tr>\n",
              "      <th>75%</th>\n",
              "      <td>3.677083</td>\n",
              "      <td>12.500000</td>\n",
              "      <td>18.100000</td>\n",
              "      <td>0.000000</td>\n",
              "      <td>0.624000</td>\n",
              "      <td>6.623500</td>\n",
              "      <td>94.075000</td>\n",
              "      <td>5.188425</td>\n",
              "      <td>24.000000</td>\n",
              "      <td>666.000000</td>\n",
              "      <td>20.200000</td>\n",
              "      <td>396.225000</td>\n",
              "      <td>16.955000</td>\n",
              "      <td>25.000000</td>\n",
              "    </tr>\n",
              "    <tr>\n",
              "      <th>max</th>\n",
              "      <td>88.976200</td>\n",
              "      <td>100.000000</td>\n",
              "      <td>27.740000</td>\n",
              "      <td>1.000000</td>\n",
              "      <td>0.871000</td>\n",
              "      <td>8.780000</td>\n",
              "      <td>100.000000</td>\n",
              "      <td>12.126500</td>\n",
              "      <td>24.000000</td>\n",
              "      <td>711.000000</td>\n",
              "      <td>22.000000</td>\n",
              "      <td>396.900000</td>\n",
              "      <td>37.970000</td>\n",
              "      <td>50.000000</td>\n",
              "    </tr>\n",
              "  </tbody>\n",
              "</table>\n",
              "</div>\n",
              "      <button class=\"colab-df-convert\" onclick=\"convertToInteractive('df-c5e54b1d-a21b-4dd1-8813-6b9ec618d832')\"\n",
              "              title=\"Convert this dataframe to an interactive table.\"\n",
              "              style=\"display:none;\">\n",
              "        \n",
              "  <svg xmlns=\"http://www.w3.org/2000/svg\" height=\"24px\"viewBox=\"0 0 24 24\"\n",
              "       width=\"24px\">\n",
              "    <path d=\"M0 0h24v24H0V0z\" fill=\"none\"/>\n",
              "    <path d=\"M18.56 5.44l.94 2.06.94-2.06 2.06-.94-2.06-.94-.94-2.06-.94 2.06-2.06.94zm-11 1L8.5 8.5l.94-2.06 2.06-.94-2.06-.94L8.5 2.5l-.94 2.06-2.06.94zm10 10l.94 2.06.94-2.06 2.06-.94-2.06-.94-.94-2.06-.94 2.06-2.06.94z\"/><path d=\"M17.41 7.96l-1.37-1.37c-.4-.4-.92-.59-1.43-.59-.52 0-1.04.2-1.43.59L10.3 9.45l-7.72 7.72c-.78.78-.78 2.05 0 2.83L4 21.41c.39.39.9.59 1.41.59.51 0 1.02-.2 1.41-.59l7.78-7.78 2.81-2.81c.8-.78.8-2.07 0-2.86zM5.41 20L4 18.59l7.72-7.72 1.47 1.35L5.41 20z\"/>\n",
              "  </svg>\n",
              "      </button>\n",
              "      \n",
              "  <style>\n",
              "    .colab-df-container {\n",
              "      display:flex;\n",
              "      flex-wrap:wrap;\n",
              "      gap: 12px;\n",
              "    }\n",
              "\n",
              "    .colab-df-convert {\n",
              "      background-color: #E8F0FE;\n",
              "      border: none;\n",
              "      border-radius: 50%;\n",
              "      cursor: pointer;\n",
              "      display: none;\n",
              "      fill: #1967D2;\n",
              "      height: 32px;\n",
              "      padding: 0 0 0 0;\n",
              "      width: 32px;\n",
              "    }\n",
              "\n",
              "    .colab-df-convert:hover {\n",
              "      background-color: #E2EBFA;\n",
              "      box-shadow: 0px 1px 2px rgba(60, 64, 67, 0.3), 0px 1px 3px 1px rgba(60, 64, 67, 0.15);\n",
              "      fill: #174EA6;\n",
              "    }\n",
              "\n",
              "    [theme=dark] .colab-df-convert {\n",
              "      background-color: #3B4455;\n",
              "      fill: #D2E3FC;\n",
              "    }\n",
              "\n",
              "    [theme=dark] .colab-df-convert:hover {\n",
              "      background-color: #434B5C;\n",
              "      box-shadow: 0px 1px 3px 1px rgba(0, 0, 0, 0.15);\n",
              "      filter: drop-shadow(0px 1px 2px rgba(0, 0, 0, 0.3));\n",
              "      fill: #FFFFFF;\n",
              "    }\n",
              "  </style>\n",
              "\n",
              "      <script>\n",
              "        const buttonEl =\n",
              "          document.querySelector('#df-c5e54b1d-a21b-4dd1-8813-6b9ec618d832 button.colab-df-convert');\n",
              "        buttonEl.style.display =\n",
              "          google.colab.kernel.accessAllowed ? 'block' : 'none';\n",
              "\n",
              "        async function convertToInteractive(key) {\n",
              "          const element = document.querySelector('#df-c5e54b1d-a21b-4dd1-8813-6b9ec618d832');\n",
              "          const dataTable =\n",
              "            await google.colab.kernel.invokeFunction('convertToInteractive',\n",
              "                                                     [key], {});\n",
              "          if (!dataTable) return;\n",
              "\n",
              "          const docLinkHtml = 'Like what you see? Visit the ' +\n",
              "            '<a target=\"_blank\" href=https://colab.research.google.com/notebooks/data_table.ipynb>data table notebook</a>'\n",
              "            + ' to learn more about interactive tables.';\n",
              "          element.innerHTML = '';\n",
              "          dataTable['output_type'] = 'display_data';\n",
              "          await google.colab.output.renderOutput(dataTable, element);\n",
              "          const docLink = document.createElement('div');\n",
              "          docLink.innerHTML = docLinkHtml;\n",
              "          element.appendChild(docLink);\n",
              "        }\n",
              "      </script>\n",
              "    </div>\n",
              "  </div>\n",
              "  "
            ]
          },
          "metadata": {},
          "execution_count": 84
        }
      ]
    },
    {
      "cell_type": "code",
      "metadata": {
        "id": "PTEvjnfTyVmS",
        "colab": {
          "base_uri": "https://localhost:8080/"
        },
        "outputId": "313655cb-f557-4b16-ca0e-d8c5f65858a7"
      },
      "source": [
        "# here's another cool way to get a lot of this info AND MORE\n",
        "df.info() # gives you missing values report too - this is nice complete data\n",
        "\n",
        "# data types, shape, missing values per columm.... pandas rocks..."
      ],
      "execution_count": null,
      "outputs": [
        {
          "output_type": "stream",
          "name": "stdout",
          "text": [
            "<class 'pandas.core.frame.DataFrame'>\n",
            "RangeIndex: 506 entries, 0 to 505\n",
            "Data columns (total 14 columns):\n",
            " #   Column   Non-Null Count  Dtype  \n",
            "---  ------   --------------  -----  \n",
            " 0   crim     506 non-null    float64\n",
            " 1   zn       506 non-null    float64\n",
            " 2   indus    506 non-null    float64\n",
            " 3   chas     506 non-null    int64  \n",
            " 4   nox      506 non-null    float64\n",
            " 5   rm       506 non-null    float64\n",
            " 6   age      506 non-null    float64\n",
            " 7   dis      506 non-null    float64\n",
            " 8   rad      506 non-null    int64  \n",
            " 9   tax      506 non-null    int64  \n",
            " 10  ptratio  506 non-null    float64\n",
            " 11  b        506 non-null    float64\n",
            " 12  lstat    506 non-null    float64\n",
            " 13  medv     506 non-null    float64\n",
            "dtypes: float64(11), int64(3)\n",
            "memory usage: 55.5 KB\n"
          ]
        }
      ]
    },
    {
      "cell_type": "markdown",
      "metadata": {
        "id": "hRSBaBBhs3og"
      },
      "source": [
        "## Data splitting\n",
        "Subset your data into X features and Y target variable for modeling. Convert X and Y to numpy arrays. Then use train_test_split for data splitting (80/20 is very common); don't forget random seed and shuffle."
      ]
    },
    {
      "cell_type": "code",
      "metadata": {
        "id": "K3TFxlOdt1dH",
        "colab": {
          "base_uri": "https://localhost:8080/"
        },
        "outputId": "3fb6bc1c-7493-4f6b-aaaa-eafc37059e75"
      },
      "source": [
        "# the target variable is Y\n",
        "# we know that this is 'medv'\n",
        "Y = df['medv']\n",
        "print(Y.shape) # a single column with 506 rows"
      ],
      "execution_count": null,
      "outputs": [
        {
          "output_type": "stream",
          "name": "stdout",
          "text": [
            "(506,)\n"
          ]
        }
      ]
    },
    {
      "cell_type": "code",
      "metadata": {
        "id": "D_9wf4FFyqr6",
        "colab": {
          "base_uri": "https://localhost:8080/"
        },
        "outputId": "4d0229c9-95ac-4168-a32b-1ffc8ebc89f2"
      },
      "source": [
        "# everything else is X\n",
        "# so just drop 'medv' and you are done\n",
        "X = df.drop('medv', axis=1)\n",
        "print(X.shape) # note that we have gone from 14 to 13 columns, this is good! 506 rows."
      ],
      "execution_count": null,
      "outputs": [
        {
          "output_type": "stream",
          "name": "stdout",
          "text": [
            "(506, 13)\n"
          ]
        }
      ]
    },
    {
      "cell_type": "markdown",
      "metadata": {
        "id": "6ZoEBPm3MiwQ"
      },
      "source": [
        "### *Sneaky Column Subset...*\n",
        "Uncomment this cell at the very end and re-run the script, and you will see how the variable importance changes."
      ]
    },
    {
      "cell_type": "code",
      "metadata": {
        "id": "k-qYOZoHgrCg",
        "colab": {
          "base_uri": "https://localhost:8080/"
        },
        "outputId": "07262ade-1c86-413f-c860-8d591d32ddd2"
      },
      "source": [
        "# commented out for now, but later, let's try re-running\n",
        "# by only using a few columns (from feature importance plots)\n",
        "X = df[['lstat', 'crim', 'dis', 'rad']]\n",
        "X.shape # only 4 columns"
      ],
      "execution_count": null,
      "outputs": [
        {
          "output_type": "execute_result",
          "data": {
            "text/plain": [
              "(506, 4)"
            ]
          },
          "metadata": {},
          "execution_count": 88
        }
      ]
    },
    {
      "cell_type": "code",
      "metadata": {
        "id": "5oPRE8wdzAHm"
      },
      "source": [
        "# now, split the data in ONE LINE OF CODE\n",
        "# notice how we are assigning four different variables at once\n",
        "# this makes it really clean\n",
        "\n",
        "# be careful of capital vs. lowercase X and Y, you might get an error...\n",
        "# notice the 80/20 split we perform\n",
        "\n",
        "X_train, X_test, y_train, y_test = train_test_split(X, Y,\n",
        "                                                    test_size = 0.2,\n",
        "                                                    shuffle = True,\n",
        "                                                    random_state = 42)"
      ],
      "execution_count": null,
      "outputs": []
    },
    {
      "cell_type": "code",
      "metadata": {
        "id": "Oov4jzsfzeaz",
        "colab": {
          "base_uri": "https://localhost:8080/"
        },
        "outputId": "f4b59f21-7047-4059-a39c-cbe948cab247"
      },
      "source": [
        "# check your work - does the shape match what you think it should be?\n",
        "print(X_train.shape, X_test.shape, y_train.shape, y_test.shape)"
      ],
      "execution_count": null,
      "outputs": [
        {
          "output_type": "stream",
          "name": "stdout",
          "text": [
            "(404, 4) (102, 4) (404,) (102,)\n"
          ]
        }
      ]
    },
    {
      "cell_type": "code",
      "metadata": {
        "id": "0B_LcMUm00Hc"
      },
      "source": [
        "# convert these all to numpy arrays\n",
        "X_train = np.array(X_train)\n",
        "X_test = np.array(X_test)\n",
        "y_train = np.array(y_train)\n",
        "y_test = np.array(y_test)"
      ],
      "execution_count": null,
      "outputs": []
    },
    {
      "cell_type": "markdown",
      "metadata": {
        "id": "E5vFxGifuPzF"
      },
      "source": [
        "## Min/Max Scaling\n",
        "This will ensure all of your X data is between 0 (min) and 1 (max). You will use fit_transform() on the train data first, then fit on the test data. If you don't do this step after splitting, you will have data leakage.\n",
        "\n",
        "Only scale the X data, not the Y data!\n",
        "\n",
        "Do yourself a favor and just overwrite X_train and X_test when standardizing, as I do below. Min/max scaling requires that the data are numpy arrays and all numeric data.\n",
        "\n",
        "\n",
        "**Like this example:**\n",
        "```\n",
        "import numpy as np\n",
        "from sklearn.preprocessing import MinMaxScaler\n",
        "\n",
        "scaler = MinMaxScaler()\n",
        "X_train = scaler.fit_transform(X_train)\n",
        "X_test = scaler.transform(X_test)\n",
        "```\n"
      ]
    },
    {
      "cell_type": "code",
      "metadata": {
        "id": "D9KyPXdiujPv"
      },
      "source": [
        "# you probably have already imported the MinMaxScale at the top of your script\n",
        "# you should convert to numpy array before scaling\n",
        "scaler = MinMaxScaler()\n",
        "X_train = scaler.fit_transform(X_train)\n",
        "X_test = scaler.transform(X_test)"
      ],
      "execution_count": null,
      "outputs": []
    },
    {
      "cell_type": "code",
      "metadata": {
        "id": "-4vlQCG01S3E",
        "colab": {
          "base_uri": "https://localhost:8080/",
          "height": 300
        },
        "outputId": "be888a03-7bef-4131-936f-ea6e80904d65"
      },
      "source": [
        "# if you wanted to run summary stats on these to check the range,\n",
        "# you would need to convert to a pandas dataframe.\n",
        "tmp = pd.DataFrame(X_train)\n",
        "tmp.describe() # notice how all the max values are 1, all min values are 0."
      ],
      "execution_count": null,
      "outputs": [
        {
          "output_type": "execute_result",
          "data": {
            "text/plain": [
              "                0           1           2           3\n",
              "count  404.000000  404.000000  404.000000  404.000000\n",
              "mean     0.296009    0.040465    0.243577    0.363323\n",
              "std      0.196203    0.099757    0.193802    0.373466\n",
              "min      0.000000    0.000000    0.000000    0.000000\n",
              "25%      0.139142    0.000814    0.087140    0.130435\n",
              "50%      0.253725    0.002836    0.186066    0.173913\n",
              "75%      0.404042    0.035900    0.388400    0.478261\n",
              "max      1.000000    1.000000    1.000000    1.000000"
            ],
            "text/html": [
              "\n",
              "  <div id=\"df-265a06c7-1ffc-4770-ba8f-6d430a4f21b9\">\n",
              "    <div class=\"colab-df-container\">\n",
              "      <div>\n",
              "<style scoped>\n",
              "    .dataframe tbody tr th:only-of-type {\n",
              "        vertical-align: middle;\n",
              "    }\n",
              "\n",
              "    .dataframe tbody tr th {\n",
              "        vertical-align: top;\n",
              "    }\n",
              "\n",
              "    .dataframe thead th {\n",
              "        text-align: right;\n",
              "    }\n",
              "</style>\n",
              "<table border=\"1\" class=\"dataframe\">\n",
              "  <thead>\n",
              "    <tr style=\"text-align: right;\">\n",
              "      <th></th>\n",
              "      <th>0</th>\n",
              "      <th>1</th>\n",
              "      <th>2</th>\n",
              "      <th>3</th>\n",
              "    </tr>\n",
              "  </thead>\n",
              "  <tbody>\n",
              "    <tr>\n",
              "      <th>count</th>\n",
              "      <td>404.000000</td>\n",
              "      <td>404.000000</td>\n",
              "      <td>404.000000</td>\n",
              "      <td>404.000000</td>\n",
              "    </tr>\n",
              "    <tr>\n",
              "      <th>mean</th>\n",
              "      <td>0.296009</td>\n",
              "      <td>0.040465</td>\n",
              "      <td>0.243577</td>\n",
              "      <td>0.363323</td>\n",
              "    </tr>\n",
              "    <tr>\n",
              "      <th>std</th>\n",
              "      <td>0.196203</td>\n",
              "      <td>0.099757</td>\n",
              "      <td>0.193802</td>\n",
              "      <td>0.373466</td>\n",
              "    </tr>\n",
              "    <tr>\n",
              "      <th>min</th>\n",
              "      <td>0.000000</td>\n",
              "      <td>0.000000</td>\n",
              "      <td>0.000000</td>\n",
              "      <td>0.000000</td>\n",
              "    </tr>\n",
              "    <tr>\n",
              "      <th>25%</th>\n",
              "      <td>0.139142</td>\n",
              "      <td>0.000814</td>\n",
              "      <td>0.087140</td>\n",
              "      <td>0.130435</td>\n",
              "    </tr>\n",
              "    <tr>\n",
              "      <th>50%</th>\n",
              "      <td>0.253725</td>\n",
              "      <td>0.002836</td>\n",
              "      <td>0.186066</td>\n",
              "      <td>0.173913</td>\n",
              "    </tr>\n",
              "    <tr>\n",
              "      <th>75%</th>\n",
              "      <td>0.404042</td>\n",
              "      <td>0.035900</td>\n",
              "      <td>0.388400</td>\n",
              "      <td>0.478261</td>\n",
              "    </tr>\n",
              "    <tr>\n",
              "      <th>max</th>\n",
              "      <td>1.000000</td>\n",
              "      <td>1.000000</td>\n",
              "      <td>1.000000</td>\n",
              "      <td>1.000000</td>\n",
              "    </tr>\n",
              "  </tbody>\n",
              "</table>\n",
              "</div>\n",
              "      <button class=\"colab-df-convert\" onclick=\"convertToInteractive('df-265a06c7-1ffc-4770-ba8f-6d430a4f21b9')\"\n",
              "              title=\"Convert this dataframe to an interactive table.\"\n",
              "              style=\"display:none;\">\n",
              "        \n",
              "  <svg xmlns=\"http://www.w3.org/2000/svg\" height=\"24px\"viewBox=\"0 0 24 24\"\n",
              "       width=\"24px\">\n",
              "    <path d=\"M0 0h24v24H0V0z\" fill=\"none\"/>\n",
              "    <path d=\"M18.56 5.44l.94 2.06.94-2.06 2.06-.94-2.06-.94-.94-2.06-.94 2.06-2.06.94zm-11 1L8.5 8.5l.94-2.06 2.06-.94-2.06-.94L8.5 2.5l-.94 2.06-2.06.94zm10 10l.94 2.06.94-2.06 2.06-.94-2.06-.94-.94-2.06-.94 2.06-2.06.94z\"/><path d=\"M17.41 7.96l-1.37-1.37c-.4-.4-.92-.59-1.43-.59-.52 0-1.04.2-1.43.59L10.3 9.45l-7.72 7.72c-.78.78-.78 2.05 0 2.83L4 21.41c.39.39.9.59 1.41.59.51 0 1.02-.2 1.41-.59l7.78-7.78 2.81-2.81c.8-.78.8-2.07 0-2.86zM5.41 20L4 18.59l7.72-7.72 1.47 1.35L5.41 20z\"/>\n",
              "  </svg>\n",
              "      </button>\n",
              "      \n",
              "  <style>\n",
              "    .colab-df-container {\n",
              "      display:flex;\n",
              "      flex-wrap:wrap;\n",
              "      gap: 12px;\n",
              "    }\n",
              "\n",
              "    .colab-df-convert {\n",
              "      background-color: #E8F0FE;\n",
              "      border: none;\n",
              "      border-radius: 50%;\n",
              "      cursor: pointer;\n",
              "      display: none;\n",
              "      fill: #1967D2;\n",
              "      height: 32px;\n",
              "      padding: 0 0 0 0;\n",
              "      width: 32px;\n",
              "    }\n",
              "\n",
              "    .colab-df-convert:hover {\n",
              "      background-color: #E2EBFA;\n",
              "      box-shadow: 0px 1px 2px rgba(60, 64, 67, 0.3), 0px 1px 3px 1px rgba(60, 64, 67, 0.15);\n",
              "      fill: #174EA6;\n",
              "    }\n",
              "\n",
              "    [theme=dark] .colab-df-convert {\n",
              "      background-color: #3B4455;\n",
              "      fill: #D2E3FC;\n",
              "    }\n",
              "\n",
              "    [theme=dark] .colab-df-convert:hover {\n",
              "      background-color: #434B5C;\n",
              "      box-shadow: 0px 1px 3px 1px rgba(0, 0, 0, 0.15);\n",
              "      filter: drop-shadow(0px 1px 2px rgba(0, 0, 0, 0.3));\n",
              "      fill: #FFFFFF;\n",
              "    }\n",
              "  </style>\n",
              "\n",
              "      <script>\n",
              "        const buttonEl =\n",
              "          document.querySelector('#df-265a06c7-1ffc-4770-ba8f-6d430a4f21b9 button.colab-df-convert');\n",
              "        buttonEl.style.display =\n",
              "          google.colab.kernel.accessAllowed ? 'block' : 'none';\n",
              "\n",
              "        async function convertToInteractive(key) {\n",
              "          const element = document.querySelector('#df-265a06c7-1ffc-4770-ba8f-6d430a4f21b9');\n",
              "          const dataTable =\n",
              "            await google.colab.kernel.invokeFunction('convertToInteractive',\n",
              "                                                     [key], {});\n",
              "          if (!dataTable) return;\n",
              "\n",
              "          const docLinkHtml = 'Like what you see? Visit the ' +\n",
              "            '<a target=\"_blank\" href=https://colab.research.google.com/notebooks/data_table.ipynb>data table notebook</a>'\n",
              "            + ' to learn more about interactive tables.';\n",
              "          element.innerHTML = '';\n",
              "          dataTable['output_type'] = 'display_data';\n",
              "          await google.colab.output.renderOutput(dataTable, element);\n",
              "          const docLink = document.createElement('div');\n",
              "          docLink.innerHTML = docLinkHtml;\n",
              "          element.appendChild(docLink);\n",
              "        }\n",
              "      </script>\n",
              "    </div>\n",
              "  </div>\n",
              "  "
            ]
          },
          "metadata": {},
          "execution_count": 93
        }
      ]
    },
    {
      "cell_type": "markdown",
      "metadata": {
        "id": "SjiD7wWVtT5X"
      },
      "source": [
        "## Fit The Models\n",
        "Fit the model and make new variables to save your train and test predictions. Make sure you are using the appropriate regression or classification model.\n",
        "\n",
        "Notice how we're using the same training data and test data for each model - this is critical!\n",
        "\n",
        "Also note that in many StackOverflow examples, folks don't use 'DTR' or 'LR' as variable names for their models - instead, they often use 'clf' which stands for classifier. Helps you abstract what's going on."
      ]
    },
    {
      "cell_type": "markdown",
      "metadata": {
        "id": "Ty9TvxgeTWyR"
      },
      "source": [
        "### Linear Regression"
      ]
    },
    {
      "cell_type": "code",
      "metadata": {
        "id": "AqItXv4DTY3Z"
      },
      "source": [
        "# make a variable to store the general model\n",
        "LR = LinearRegression()\n",
        "# fit the model - one line of code\n",
        "LR = LR.fit(X_train, y_train)"
      ],
      "execution_count": null,
      "outputs": []
    },
    {
      "cell_type": "code",
      "metadata": {
        "id": "xMsi5ErbTtyh"
      },
      "source": [
        "# store the predictions\n",
        "train_preds_LR = LR.predict(X_train)\n",
        "test_preds_LR = LR.predict(X_test)"
      ],
      "execution_count": null,
      "outputs": []
    },
    {
      "cell_type": "markdown",
      "metadata": {
        "id": "6M9s1ftuTVBC"
      },
      "source": [
        "### DTR\n",
        "\n",
        "Check out the model documentation:\n",
        "\n",
        "**DTR Model Documentation:** https://scikit-learn.org/stable/modules/generated/sklearn.tree.DecisionTreeRegressor.html\n",
        "\n",
        "\n",
        "Some extra content to think about...\n",
        "\n",
        "**Link:** https://scikit-learn.org/stable/auto_examples/tree/plot_cost_complexity_pruning.html\n",
        "\n",
        "**Link:** https://scikit-learn.org/stable/modules/tree.html"
      ]
    },
    {
      "cell_type": "code",
      "metadata": {
        "id": "g5_x7INZt02l"
      },
      "source": [
        "# make a variable to store the general model\n",
        "# you can accept all of the defaults...\n",
        "# DTR = DecisionTreeRegressor()\n",
        "# or start to 'tinker' :) this is called hyperparameter tuning\n",
        "DTR = DecisionTreeRegressor(min_samples_split=15) # make this bigger and the tree will shrink!\n",
        "\n",
        "# fit the model - one line of code\n",
        "DTR = DTR.fit(X_train, y_train)"
      ],
      "execution_count": null,
      "outputs": []
    },
    {
      "cell_type": "code",
      "metadata": {
        "id": "KDWWnOoM12Qu"
      },
      "source": [
        "# store the predictions\n",
        "train_preds_DTR = DTR.predict(X_train)\n",
        "test_preds_DTR = DTR.predict(X_test)"
      ],
      "execution_count": null,
      "outputs": []
    },
    {
      "cell_type": "code",
      "metadata": {
        "id": "koZDgtNBVQIX"
      },
      "source": [
        "# # show the tree\n",
        "# # link: https://www.datacamp.com/community/tutorials/decision-tree-classification-python\n",
        "# from sklearn.tree import export_graphviz\n",
        "# from sklearn.externals.six import StringIO\n",
        "# from IPython.display import Image\n",
        "# import pydotplus\n",
        "\n",
        "# dot_data = StringIO()\n",
        "# export_graphviz(DTR, out_file=dot_data,\n",
        "#                 filled=True, rounded=True,\n",
        "#                 special_characters=True)\n",
        "# graph = pydotplus.graph_from_dot_data(dot_data.getvalue())\n",
        "# Image(graph.create_png())\n",
        "\n",
        "# # hard to see, but that's OK!\n",
        "# # we will learn about partial depenence\n",
        "# # and feature importance with is way easier to see than this\n",
        "\n",
        "# # for now, just appreciate how awesome this looks!\n",
        "# # double click and you can see"
      ],
      "execution_count": null,
      "outputs": []
    },
    {
      "cell_type": "markdown",
      "metadata": {
        "id": "E8eNBhjsS5xP"
      },
      "source": [
        "### RFR\n",
        "Random Forest Regressor"
      ]
    },
    {
      "cell_type": "code",
      "metadata": {
        "id": "5hvxiefSTBjE"
      },
      "source": [
        "# make a variable to store the general model\n",
        "# you can accept all of the defaults...\n",
        "RFR = RandomForestRegressor()\n",
        "# or start to 'tinker' :) this is called hyperparameter tuning\n",
        "\n",
        "# fit the model - one line of code\n",
        "RFR = RFR.fit(X_train, y_train)"
      ],
      "execution_count": null,
      "outputs": []
    },
    {
      "cell_type": "code",
      "metadata": {
        "id": "Wg4gQziLTKSv"
      },
      "source": [
        "# store the predictions\n",
        "train_preds_RFR = RFR.predict(X_train)\n",
        "test_preds_RFR = RFR.predict(X_test)"
      ],
      "execution_count": null,
      "outputs": []
    },
    {
      "cell_type": "markdown",
      "metadata": {
        "id": "vRsCK_5Jtb0Z"
      },
      "source": [
        "## Evaluate the Model\n",
        "Look at the appropriate error metrics depending on the problem you are solving.\n",
        "\n",
        "For a regression problem, look at the R2, MAE and MSE; then make a scatterplot of actual vs. predicted values with nice labels and titles.\n",
        "\n",
        "For a classification problem, create the classification report (gives a confusion matrix and useful metrics in one line of code).\n",
        "\n",
        "See how we are just tacking on a suffix like '_LR' or '_DTR' on the end of things? Keep your code clean and you can just copy paste. Same stuff as before, but we need to be organized since we are introducing more models."
      ]
    },
    {
      "cell_type": "markdown",
      "metadata": {
        "id": "9WKwmd-2UuxR"
      },
      "source": [
        "### R2\n",
        "Out of all of these, random forest is the most believable! Did not memorize the training data and has consistent results between train and test results. In practice - we only really care about the test results."
      ]
    },
    {
      "cell_type": "code",
      "metadata": {
        "id": "MSydlALQskCS",
        "colab": {
          "base_uri": "https://localhost:8080/"
        },
        "outputId": "c7c35c98-1e50-42f8-d74a-707cdd81a83f"
      },
      "source": [
        "# this is a regression problem, and there are three metrics to look at.\n",
        "# 1) R2 value - for Linear Regression\n",
        "print(\"This is train R2 (LR):\", r2_score(y_train, train_preds_LR)) # train\n",
        "print(\"This is test R2 (LR):\", r2_score(y_test, test_preds_LR)) # test\n",
        "\n",
        "# 1) R2 value - for Decision Tree Regression\n",
        "print(\"This is train R2 (DTR):\", r2_score(y_train, train_preds_DTR)) # train\n",
        "print(\"This is test R2 (DTR):\", r2_score(y_test, test_preds_DTR)) # test\n",
        "\n",
        "# 1) R2 value - for Random Forest Regression\n",
        "print(\"This is train R2 (RFR):\", r2_score(y_train, train_preds_RFR)) # train\n",
        "print(\"This is test R2 (RFR):\", r2_score(y_test, test_preds_RFR)) # test"
      ],
      "execution_count": null,
      "outputs": [
        {
          "output_type": "stream",
          "name": "stdout",
          "text": [
            "This is train R2 (LR): 0.5793582648454925\n",
            "This is test R2 (LR): 0.5168252351755318\n",
            "This is train R2 (DTR): 0.8793610673862026\n",
            "This is test R2 (DTR): 0.6969059363908625\n",
            "This is train R2 (RFR): 0.9622807420095582\n",
            "This is test R2 (RFR): 0.7607907042092698\n"
          ]
        }
      ]
    },
    {
      "cell_type": "markdown",
      "metadata": {
        "id": "Kupo-J7NUyXL"
      },
      "source": [
        "### MAE\n",
        "Again, RFR is the champ here - best test results!"
      ]
    },
    {
      "cell_type": "code",
      "metadata": {
        "id": "8cruvmQP2T_0",
        "colab": {
          "base_uri": "https://localhost:8080/"
        },
        "outputId": "ad8dc701-0178-42dc-83f2-eadcae4b5897"
      },
      "source": [
        "# 2) mae - for Linear Regression\n",
        "trainMAE_LR = mean_absolute_error(y_train, train_preds_LR)\n",
        "print(\"This is trainMAE (LR):\", trainMAE_LR) # train\n",
        "testMAE_LR = mean_absolute_error(y_test, test_preds_LR)\n",
        "print(\"This is testMAE (LR):\", testMAE_LR) # test\n",
        "\n",
        "# 2) mae - for DT Regression\n",
        "trainMAE_DTR = mean_absolute_error(y_train, train_preds_DTR)\n",
        "print(\"This is trainMAE (DTR):\", trainMAE_DTR) # train\n",
        "testMAE_DTR = mean_absolute_error(y_test, test_preds_DTR)\n",
        "print(\"This is testMAE (DTR):\", testMAE_DTR) # test\n",
        "\n",
        "# 2) mae - for RF Regression\n",
        "trainMAE_RFR = mean_absolute_error(y_train, train_preds_RFR)\n",
        "print(\"This is trainMAE (RFR):\", trainMAE_RFR) # train\n",
        "testMAE_RFR = mean_absolute_error(y_test, test_preds_RFR)\n",
        "print(\"This is testMAE (RFR):\", testMAE_RFR) # test"
      ],
      "execution_count": null,
      "outputs": [
        {
          "output_type": "stream",
          "name": "stdout",
          "text": [
            "This is trainMAE (LR): 4.512065171722855\n",
            "This is testMAE (LR): 4.362636341107396\n",
            "This is trainMAE (DTR): 2.0859996851333484\n",
            "This is testMAE (DTR): 3.3236183968536923\n",
            "This is trainMAE (RFR): 1.2528613861386126\n",
            "This is testMAE (RFR): 2.9373529411764707\n"
          ]
        }
      ]
    },
    {
      "cell_type": "markdown",
      "metadata": {
        "id": "HRSJe2s5U0Vu"
      },
      "source": [
        "### MSE\n",
        "If you see an MSE of 0, this means a perfect prediction - this should NEVER happen... there should always be at least a little bit of error in your train results, otherwise you are OVERFITTING. You need to play with the hyperparameters (we will do this in future weeks)."
      ]
    },
    {
      "cell_type": "code",
      "metadata": {
        "id": "PNDKbP3U3CE7",
        "colab": {
          "base_uri": "https://localhost:8080/"
        },
        "outputId": "e9a4af62-52a9-43fd-cc03-9d5d1ba31513"
      },
      "source": [
        "# 3) mse\n",
        "trainMSE_LR = mean_squared_error(y_train, train_preds_LR)\n",
        "print(\"This is trainMSE (LR):\", trainMSE_LR)\n",
        "testMSE_LR = mean_squared_error(y_test, test_preds_LR)\n",
        "print(\"This is testMSE (LR):\", testMSE_LR)\n",
        "\n",
        "# 3) mse\n",
        "trainMSE_DTR = mean_squared_error(y_train, train_preds_DTR)\n",
        "print(\"This is trainMSE (DTR):\", trainMSE_DTR)\n",
        "testMSE_DTR = mean_squared_error(y_test, test_preds_DTR)\n",
        "print(\"This is testMSE (DTR):\", testMSE_DTR)\n",
        "\n",
        "# 3) mse\n",
        "trainMSE_RFR = mean_squared_error(y_train, train_preds_RFR)\n",
        "print(\"This is trainMSE (RFR):\", trainMSE_RFR)\n",
        "testMSE_RFR = mean_squared_error(y_test, test_preds_RFR)\n",
        "print(\"This is testMSE (RFR):\", testMSE_RFR)"
      ],
      "execution_count": null,
      "outputs": [
        {
          "output_type": "stream",
          "name": "stdout",
          "text": [
            "This is trainMSE (LR): 36.542579327073504\n",
            "This is testMSE (LR): 35.43303343217759\n",
            "This is trainMSE (DTR): 10.480314710935378\n",
            "This is testMSE (DTR): 22.22703433789362\n",
            "This is trainMSE (RFR): 3.2768003316831664\n",
            "This is testMSE (RFR): 17.542122627450965\n"
          ]
        }
      ]
    },
    {
      "cell_type": "markdown",
      "metadata": {
        "id": "kNw1d-LqU6WT"
      },
      "source": [
        "## Sub-Plots\n",
        "Way cleaner! Try doing the plots side-by-side."
      ]
    },
    {
      "cell_type": "markdown",
      "metadata": {
        "id": "Vg08keFGxYvV"
      },
      "source": [
        "### LR Results"
      ]
    },
    {
      "cell_type": "code",
      "metadata": {
        "id": "s93-StUmuzSB",
        "colab": {
          "base_uri": "https://localhost:8080/",
          "height": 302
        },
        "outputId": "15568cb9-cd70-4451-ca56-ec6fee734e6a"
      },
      "source": [
        "# specify the dimensions\n",
        "fig, axes = plt.subplots(1,2) # 1 row, 2 columns\n",
        "\n",
        "# fig limits\n",
        "\n",
        "\n",
        "# add a main title across top\n",
        "fig.suptitle(\"LR Results\", fontsize=20)\n",
        "\n",
        "# this makes the individual subplots\n",
        "axes[0].scatter(x=y_train, y=train_preds_LR) #first row, first entry (left top)\n",
        "axes[0].set_xlabel(\"Actual\", fontsize=10)\n",
        "axes[0].set_ylabel(\"Predicted (TRAIN)\",  fontsize=10)\n",
        "# set plot limits\n",
        "axes[0].set_xlim(0,50)\n",
        "axes[0].set_ylim(0,50)\n",
        "# add 45 degree line to left panel\n",
        "x = np.linspace(*axes[0].get_xlim())\n",
        "axes[0].plot(x, x, color='red')\n",
        "\n",
        "\n",
        "axes[1].scatter(x=y_test, y=test_preds_LR) # first row, second entry (right top)\n",
        "axes[1].set_xlabel(\"Actual\", fontsize=10)\n",
        "axes[1].set_ylabel(\"Predicted (TEST)\",  fontsize=10)\n",
        "# set plot limits\n",
        "axes[1].set_xlim(0,50)\n",
        "axes[1].set_ylim(0,50)\n",
        "# add 45 degree line to right panel\n",
        "x = np.linspace(*axes[1].get_xlim())\n",
        "axes[1].plot(x, x, color='red')\n",
        "\n",
        "# tight layout\n",
        "fig.tight_layout()\n",
        "\n",
        "# scooch it down\n",
        "# link: https://stackoverflow.com/questions/7066121/how-to-set-a-single-main-title-above-all-the-subplots-with-pyplot\n",
        "fig.subplots_adjust(top=0.88)\n",
        "\n",
        "# show the plot\n",
        "plt.show()"
      ],
      "execution_count": null,
      "outputs": [
        {
          "output_type": "display_data",
          "data": {
            "text/plain": [
              "<Figure size 432x288 with 2 Axes>"
            ],
            "image/png": "[encoded data removed]"
          },
          "metadata": {
            "needs_background": "light"
          }
        }
      ]
    },
    {
      "cell_type": "markdown",
      "metadata": {
        "id": "nRitmiFgxe_d"
      },
      "source": [
        "### DTR Results"
      ]
    },
    {
      "cell_type": "code",
      "metadata": {
        "id": "bDI4V0t6xh8M",
        "colab": {
          "base_uri": "https://localhost:8080/",
          "height": 302
        },
        "outputId": "9f3d587f-2132-436b-c92b-eecc59eb6268"
      },
      "source": [
        "# specify the dimensions\n",
        "fig, axes = plt.subplots(1,2) # 1 row, 2 columns\n",
        "\n",
        "# fig limits\n",
        "\n",
        "\n",
        "# add a main title across top\n",
        "fig.suptitle(\"DTR Results\", fontsize=20)\n",
        "\n",
        "# this makes the individual subplots\n",
        "axes[0].scatter(x=y_train, y=train_preds_DTR) #first row, first entry (left top)\n",
        "axes[0].set_xlabel(\"Actual\", fontsize=10)\n",
        "axes[0].set_ylabel(\"Predicted (TRAIN)\",  fontsize=10)\n",
        "# set plot limits\n",
        "axes[0].set_xlim(0,50)\n",
        "axes[0].set_ylim(0,50)\n",
        "# add 45 degree line to left panel\n",
        "x = np.linspace(*axes[0].get_xlim())\n",
        "axes[0].plot(x, x, color='red')\n",
        "\n",
        "\n",
        "axes[1].scatter(x=y_test, y=test_preds_DTR) # first row, second entry (right top)\n",
        "axes[1].set_xlabel(\"Actual\", fontsize=10)\n",
        "axes[1].set_ylabel(\"Predicted (TEST)\",  fontsize=10)\n",
        "# set plot limits\n",
        "axes[1].set_xlim(0,50)\n",
        "axes[1].set_ylim(0,50)\n",
        "# add 45 degree line to right panel\n",
        "x = np.linspace(*axes[1].get_xlim())\n",
        "axes[1].plot(x, x, color='red')\n",
        "\n",
        "# tight layout\n",
        "fig.tight_layout()\n",
        "\n",
        "# scooch it down\n",
        "# link: https://stackoverflow.com/questions/7066121/how-to-set-a-single-main-title-above-all-the-subplots-with-pyplot\n",
        "fig.subplots_adjust(top=0.88)\n",
        "\n",
        "# show the plot\n",
        "plt.show()"
      ],
      "execution_count": null,
      "outputs": [
        {
          "output_type": "display_data",
          "data": {
            "text/plain": [
              "<Figure size 432x288 with 2 Axes>"
            ],
            "image/png": "[encoded data removed]"
          },
          "metadata": {
            "needs_background": "light"
          }
        }
      ]
    },
    {
      "cell_type": "markdown",
      "metadata": {
        "id": "LIzjNMYyU0iL"
      },
      "source": [
        "### RFR Results"
      ]
    },
    {
      "cell_type": "code",
      "metadata": {
        "id": "SBNVVRgXU239",
        "colab": {
          "base_uri": "https://localhost:8080/",
          "height": 302
        },
        "outputId": "7e82f896-9587-4e13-da57-6af1bc33bc20"
      },
      "source": [
        "# specify the dimensions\n",
        "fig, axes = plt.subplots(1,2) # 1 row, 2 columns\n",
        "\n",
        "# fig limits\n",
        "\n",
        "\n",
        "# add a main title across top\n",
        "fig.suptitle(\"RFR Results\", fontsize=20)\n",
        "\n",
        "# this makes the individual subplots\n",
        "axes[0].scatter(x=y_train, y=train_preds_RFR) #first row, first entry (left top)\n",
        "axes[0].set_xlabel(\"Actual\", fontsize=10)\n",
        "axes[0].set_ylabel(\"Predicted (TRAIN)\",  fontsize=10)\n",
        "# set plot limits\n",
        "axes[0].set_xlim(0,50)\n",
        "axes[0].set_ylim(0,50)\n",
        "# add 45 degree line to left panel\n",
        "x = np.linspace(*axes[0].get_xlim())\n",
        "axes[0].plot(x, x, color='red')\n",
        "\n",
        "\n",
        "axes[1].scatter(x=y_test, y=test_preds_RFR) # first row, second entry (right top)\n",
        "axes[1].set_xlabel(\"Actual\", fontsize=10)\n",
        "axes[1].set_ylabel(\"Predicted (TEST)\",  fontsize=10)\n",
        "# set plot limits\n",
        "axes[1].set_xlim(0,50)\n",
        "axes[1].set_ylim(0,50)\n",
        "# add 45 degree line to right panel\n",
        "x = np.linspace(*axes[1].get_xlim())\n",
        "axes[1].plot(x, x, color='red')\n",
        "\n",
        "# tight layout\n",
        "fig.tight_layout()\n",
        "\n",
        "# scooch it down\n",
        "# link: https://stackoverflow.com/questions/7066121/how-to-set-a-single-main-title-above-all-the-subplots-with-pyplot\n",
        "fig.subplots_adjust(top=0.88)\n",
        "\n",
        "# show the plot\n",
        "plt.show()"
      ],
      "execution_count": null,
      "outputs": [
        {
          "output_type": "display_data",
          "data": {
            "text/plain": [
              "<Figure size 432x288 with 2 Axes>"
            ],
            "image/png": "[encoded data removed]"
          },
          "metadata": {
            "needs_background": "light"
          }
        }
      ]
    },
    {
      "cell_type": "markdown",
      "metadata": {
        "id": "bkFSw3bWaOSO"
      },
      "source": [
        "## Feature Importance\n",
        "Each model has a different flavor - since each model treats the data differently, this means that different variables can affect the prediction!\n",
        "\n",
        "Read this first: https://scikit-learn.org/stable/modules/permutation_importance.html\n",
        "\n",
        "Feature importance is simply the reduction in score (R2 for regression, accuracy for classification) that occurs when we shuffle a column in the dataset. We are testing to see how our model is going to break!\n",
        "\n",
        "### Image of shuffling one column\n",
        "![shuffling one column](https://i.imgur.com/h17tMUU.png)\n",
        "\n",
        "Imagine you built your model - we want to see if a column (predictor) really was important or not. If you shuffle one `X_test` column and leave all the rest, would you still get the same R2 value? If you get the same R2, that X_test column is not important! If your model TANKS and you get a terrible R2, well then that column must be pretty useful to the model. This is the essence of permutation testing.\n",
        "\n",
        "### Some notes\n",
        "\n",
        "We are going to use the TEST PARTITION (`X_test`) to see how shuffling the data one column at a time breaks the model. We repeat this N times so that we ensure our results aren't just a fluke.\n",
        "\n",
        "The is an argument in the literature about where permutation is most useful - to me, it's to see once your model is built, how does it fall apart? The test partition answers this best because we want to know how our predictions would fall apart in the real-world (and test data is our dummy real-world data). However, there is nothing wrong with using the train partition.\n",
        "\n",
        "Like most interpretable ML tools, permutation testing is a pretty good but imperfect tool.\n",
        "\n",
        "* X axis is a relative scale of importance (higher is better!) and Y axis are the covariates.\n",
        "\n",
        "* Note how these are sorted by the mean importance - I'm less interested in you memorizing this script, and more interested in you applying it. A key thing you can do is use feature importance for VARIABLE SELECTION. Choose the top N variables for modeling (if you have a bunch) and see if you can get a simpler result. Or choose some cut-off (importance > 0.05 or something like that).\n",
        "\n",
        "* Also **note how modular this code is** - just change the model (change what clf is pointing to!)"
      ]
    },
    {
      "cell_type": "markdown",
      "metadata": {
        "id": "3LbABUmPe2iY"
      },
      "source": [
        "### LR\n",
        "Permutation testing for linear regression."
      ]
    },
    {
      "cell_type": "code",
      "metadata": {
        "id": "jvSkACmmdumz",
        "colab": {
          "base_uri": "https://localhost:8080/",
          "height": 323
        },
        "outputId": "95a13d41-a4e1-4681-81bc-d864654dcaf8"
      },
      "source": [
        "# it even works for a linear regression!\n",
        "\n",
        "# let's make this repeatable! all you need to do is assign\n",
        "# a model object to clf!\n",
        "\n",
        "clf = LR # don't forget to update title!\n",
        "\n",
        "result = permutation_importance(clf, X_test, y_test, n_repeats=10,\n",
        "                                random_state=42)\n",
        "perm_sorted_idx = result.importances_mean.argsort()\n",
        "\n",
        "fig, ax1 = plt.subplots(1, 1, figsize=(6, 4))\n",
        "ax1.boxplot(result.importances[perm_sorted_idx].T, vert=False,\n",
        "            labels=X.columns[perm_sorted_idx])\n",
        "fig.suptitle('LR Feature Importance', y=1.05) # don't forget to update title!\n",
        "fig.tight_layout()\n",
        "plt.show()"
      ],
      "execution_count": null,
      "outputs": [
        {
          "output_type": "display_data",
          "data": {
            "text/plain": [
              "<Figure size 432x288 with 1 Axes>"
            ],
            "image/png": "[encoded data removed]"
          },
          "metadata": {
            "needs_background": "light"
          }
        }
      ]
    },
    {
      "cell_type": "markdown",
      "metadata": {
        "id": "10n0SPRWe0Ti"
      },
      "source": [
        "### DTR\n",
        "Permutation importance for DTR."
      ]
    },
    {
      "cell_type": "code",
      "metadata": {
        "id": "Y6Vl_unhdHUJ",
        "colab": {
          "base_uri": "https://localhost:8080/",
          "height": 323
        },
        "outputId": "0b937558-14a0-413d-e9f0-6b6a51d8c59d"
      },
      "source": [
        "from sklearn.inspection import permutation_importance\n",
        "\n",
        "# let's make this repeatable! all you need to do is assign\n",
        "# a model object to clf!\n",
        "\n",
        "clf = DTR\n",
        "\n",
        "result = permutation_importance(clf, X_test, y_test, n_repeats=10,\n",
        "                                random_state=42)\n",
        "perm_sorted_idx = result.importances_mean.argsort()\n",
        "\n",
        "tree_importance_sorted_idx = np.argsort(clf.feature_importances_)\n",
        "tree_indices = np.arange(0, len(clf.feature_importances_)) + 0.5\n",
        "\n",
        "fig, ax1 = plt.subplots(1, 1, figsize=(6, 4))\n",
        "ax1.boxplot(result.importances[perm_sorted_idx].T, vert=False,\n",
        "            labels=X.columns[perm_sorted_idx])\n",
        "fig.suptitle('DTR Feature Importance', y=1.05)\n",
        "fig.tight_layout()\n",
        "plt.show()"
      ],
      "execution_count": null,
      "outputs": [
        {
          "output_type": "display_data",
          "data": {
            "text/plain": [
              "<Figure size 432x288 with 1 Axes>"
            ],
            "image/png": "[encoded data removed]"
          },
          "metadata": {
            "needs_background": "light"
          }
        }
      ]
    },
    {
      "cell_type": "markdown",
      "metadata": {
        "id": "lcZNLxxVeyQU"
      },
      "source": [
        "### RFR\n",
        "Permutation results for random forest regressor."
      ]
    },
    {
      "cell_type": "code",
      "metadata": {
        "id": "CKlKpXSLaSM5",
        "colab": {
          "base_uri": "https://localhost:8080/",
          "height": 323
        },
        "outputId": "6df4fd7d-837d-426e-f8c6-397271f2ff55"
      },
      "source": [
        "from sklearn.inspection import permutation_importance\n",
        "\n",
        "# let's make this repeatable! all you need to do is assign\n",
        "# a model object to clf!\n",
        "\n",
        "clf = RFR # just update the title!\n",
        "\n",
        "result = permutation_importance(clf, X_test, y_test, n_repeats=10,\n",
        "                                random_state=42)\n",
        "perm_sorted_idx = result.importances_mean.argsort()\n",
        "\n",
        "tree_importance_sorted_idx = np.argsort(clf.feature_importances_)\n",
        "tree_indices = np.arange(0, len(clf.feature_importances_)) + 0.5\n",
        "\n",
        "fig, ax1 = plt.subplots(1, 1, figsize=(6, 4))\n",
        "ax1.boxplot(result.importances[perm_sorted_idx].T, vert=False,\n",
        "            labels=X.columns[perm_sorted_idx])\n",
        "fig.suptitle('RFR Feature Importance', y=1.05)\n",
        "fig.tight_layout()\n",
        "plt.show()"
      ],
      "execution_count": null,
      "outputs": [
        {
          "output_type": "display_data",
          "data": {
            "text/plain": [
              "<Figure size 432x288 with 1 Axes>"
            ],
            "image/png": "[encoded data removed]"
          },
          "metadata": {
            "needs_background": "light"
          }
        }
      ]
    },
    {
      "cell_type": "markdown",
      "metadata": {
        "id": "xNdA7zC9d_mF"
      },
      "source": [
        "### Side By Side! As a boxplot.\n",
        "Note how different variables are important - look at the Y axis!\n",
        "\n",
        "Here is how to set a subplot title: https://matplotlib.org/3.1.1/gallery/subplots_axes_and_figures/subplots_demo.html\n",
        "\n",
        "`ax1.set_title('Axis 1')`\n",
        "\n",
        "Remember, the scale of the X axis doesn't matter as much... you are looking for general trends.... which variables are the most important across your models?"
      ]
    },
    {
      "cell_type": "code",
      "metadata": {
        "id": "oR5YzcfseBjT",
        "colab": {
          "base_uri": "https://localhost:8080/",
          "height": 625
        },
        "outputId": "95086efa-812c-4d5c-8f2b-18b9e84f2647"
      },
      "source": [
        "# plot basics\n",
        "fig, (ax1, ax2, ax3) = plt.subplots(1, 3, figsize=(12, 8)) # 1 row, 3 columns\n",
        "plt.suptitle('Feature Importance', y= 1.05, size = 20)\n",
        "# LR\n",
        "clf = LR # don't forget to update title!\n",
        "result = permutation_importance(clf, X_test, y_test, n_repeats=10,\n",
        "                                random_state=42)\n",
        "perm_sorted_idx = result.importances_mean.argsort()\n",
        "ax1.boxplot(result.importances[perm_sorted_idx].T, vert=False,\n",
        "            labels=X.columns[perm_sorted_idx])\n",
        "ax1.set_title('LR')\n",
        "\n",
        "# DTR\n",
        "clf = DTR # don't forget to update title!\n",
        "result = permutation_importance(clf, X_test, y_test, n_repeats=10,\n",
        "                                random_state=42)\n",
        "perm_sorted_idx = result.importances_mean.argsort()\n",
        "\n",
        "ax2.boxplot(result.importances[perm_sorted_idx].T, vert=False,\n",
        "            labels=X.columns[perm_sorted_idx])\n",
        "ax2.set_title('DTR')\n",
        "\n",
        "# RFR\n",
        "clf = RFR # don't forget to update title!\n",
        "result = permutation_importance(clf, X_test, y_test, n_repeats=10,\n",
        "                                random_state=42)\n",
        "perm_sorted_idx = result.importances_mean.argsort()\n",
        "\n",
        "ax3.boxplot(result.importances[perm_sorted_idx].T, vert=False,\n",
        "            labels=X.columns[perm_sorted_idx])\n",
        "ax3.set_title('RFR')\n",
        "\n",
        "fig.tight_layout()\n",
        "plt.show()"
      ],
      "execution_count": null,
      "outputs": [
        {
          "output_type": "display_data",
          "data": {
            "text/plain": [
              "<Figure size 864x576 with 3 Axes>"
            ],
            "image/png": "[encoded data removed]"
          },
          "metadata": {
            "needs_background": "light"
          }
        }
      ]
    },
    {
      "cell_type": "markdown",
      "metadata": {
        "id": "h-4AbBzY3wSJ"
      },
      "source": [
        "# Done!\n",
        "It looks like lstat, rm, crim, and dis are the four most important predictors. In the next script, let's see how each of these models treats the data with the aid of partial dependence plots!\n",
        "\n",
        "Is this a perfect tool? No. But is it useful? Yes! This is a tool you can use to see what variables cause the most error in your model (caused by shuffling the values one at a time). If the shuffled data results in a worst prediction, you know that variable was 'important'. We repeat this N times to ensure our results aren't a fluke.\n",
        "\n",
        "If you wanted to, go up and just keep lstat, rm, crim, and dis and see if you can get an accurate model! I've commented out some code you can activate to do this... you will find that you don't need all of those variables... just a subset!\n",
        "\n"
      ]
    },
    {
      "cell_type": "markdown",
      "metadata": {
        "id": "8EAjUXMbkaqs"
      },
      "source": [
        "# On Your Own\n",
        "Why not try running a pipeline on your dataset, then try using permutation testing to evaluate which variables are most important?"
      ]
    },
    {
      "cell_type": "markdown",
      "metadata": {
        "id": "NEWG9acPi1Eg"
      },
      "source": [
        "# [optional] Permutation Importance and Correlated Predictors\n",
        "When two features are correlated and one of the features is permuted, the model will still have access to the feature through its correlated feature. This will result in a lower importance value for both features, where they might actually be important.\n",
        "\n",
        "One way to handle this is to cluster features that are correlated and only keep one feature from each cluster. This strategy is explored in the following example: [Permutation Importance with Multicollinear or Correlated Features](https://scikit-learn.org/stable/auto_examples/inspection/plot_permutation_importance_multicollinear.html#sphx-glr-auto-examples-inspection-plot-permutation-importance-multicollinear-py).\n",
        "\n",
        "But in practice... it's probably fine! Importance is just ONE way to evalaute the model. It's very good but nothing is perfect."
      ]
    },
    {
      "cell_type": "markdown",
      "metadata": {
        "id": "FypKri1miyHo"
      },
      "source": [
        "# Resources\n",
        "* https://scikit-learn.org/stable/modules/permutation_importance.html"
      ]
    }
  ]
}