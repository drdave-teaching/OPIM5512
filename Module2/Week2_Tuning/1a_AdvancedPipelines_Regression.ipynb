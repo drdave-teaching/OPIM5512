{
  "nbformat": 4,
  "nbformat_minor": 0,
  "metadata": {
    "colab": {
      "provenance": []
    },
    "kernelspec": {
      "display_name": "Python 3",
      "name": "python3"
    }
  },
  "cells": [
    {
      "cell_type": "markdown",
      "metadata": {
        "id": "teV48wO269KY"
      },
      "source": [
        "# Advanced Pipelines with Grid Search (regression)\n",
        "Rather than using pipelines to evaluate the models with defaults and THEN performing your grid search - why don't we try to do everything at once?!"
      ]
    },
    {
      "cell_type": "markdown",
      "metadata": {
        "id": "QorkuTCP9A3e"
      },
      "source": [
        "# Import Modules"
      ]
    },
    {
      "cell_type": "code",
      "metadata": {
        "id": "rjynxh0A9DMW"
      },
      "source": [
        "import pandas as pd\n",
        "import numpy as np\n",
        "import matplotlib.pyplot as plt\n",
        "\n",
        "from sklearn.model_selection import train_test_split\n",
        "from sklearn.preprocessing import StandardScaler\n",
        "from sklearn.decomposition import PCA\n",
        "from sklearn.pipeline import Pipeline\n",
        "from sklearn.model_selection import GridSearchCV\n",
        "from sklearn.metrics import accuracy_score\n",
        "#from sklearn.externals import joblib\n",
        "from sklearn.linear_model import LinearRegression\n",
        "from sklearn.tree import DecisionTreeRegressor\n",
        "from sklearn.ensemble import RandomForestRegressor"
      ],
      "execution_count": null,
      "outputs": []
    },
    {
      "cell_type": "code",
      "metadata": {
        "colab": {
          "base_uri": "https://localhost:8080/"
        },
        "id": "-qXsgt5NzmzP",
        "outputId": "4844b01b-3793-4037-e2ae-9a95a8c85294"
      },
      "source": [
        "# Load dataset\n",
        "# we will use Gdown to load our Boston Housing dataset\n",
        "# https://drive.google.com/file/d/1a0aNGSFWB-pf5ut1NsjE5ECIsbHHoAwI/view?usp=sharing\n",
        "!gdown 1a0aNGSFWB-pf5ut1NsjE5ECIsbHHoAwI\n",
        "\n",
        "# look left! it downloaded a local copy of 'BostonHousing.csv'"
      ],
      "execution_count": null,
      "outputs": [
        {
          "output_type": "stream",
          "name": "stdout",
          "text": [
            "/usr/local/lib/python3.7/dist-packages/gdown/cli.py:131: FutureWarning: Option `--id` was deprecated in version 4.3.1 and will be removed in 5.0. You don't need to pass it anymore to use a file ID.\n",
            "  category=FutureWarning,\n",
            "Downloading...\n",
            "From: https://drive.google.com/uc?id=1a0aNGSFWB-pf5ut1NsjE5ECIsbHHoAwI\n",
            "To: /content/BostonHousing.csv\n",
            "100% 35.2k/35.2k [00:00<00:00, 42.2MB/s]\n"
          ]
        }
      ]
    },
    {
      "cell_type": "code",
      "metadata": {
        "colab": {
          "base_uri": "https://localhost:8080/",
          "height": 570
        },
        "id": "aBcbVlU35uq5",
        "outputId": "40ac5069-f13f-4a0e-f615-e86c932f1964"
      },
      "source": [
        "df = pd.read_csv('BostonHousing.csv')\n",
        "df.info()\n",
        "df.head()"
      ],
      "execution_count": null,
      "outputs": [
        {
          "output_type": "stream",
          "name": "stdout",
          "text": [
            "<class 'pandas.core.frame.DataFrame'>\n",
            "RangeIndex: 506 entries, 0 to 505\n",
            "Data columns (total 14 columns):\n",
            " #   Column   Non-Null Count  Dtype  \n",
            "---  ------   --------------  -----  \n",
            " 0   crim     506 non-null    float64\n",
            " 1   zn       506 non-null    float64\n",
            " 2   indus    506 non-null    float64\n",
            " 3   chas     506 non-null    int64  \n",
            " 4   nox      506 non-null    float64\n",
            " 5   rm       506 non-null    float64\n",
            " 6   age      506 non-null    float64\n",
            " 7   dis      506 non-null    float64\n",
            " 8   rad      506 non-null    int64  \n",
            " 9   tax      506 non-null    int64  \n",
            " 10  ptratio  506 non-null    float64\n",
            " 11  b        506 non-null    float64\n",
            " 12  lstat    506 non-null    float64\n",
            " 13  medv     506 non-null    float64\n",
            "dtypes: float64(11), int64(3)\n",
            "memory usage: 55.5 KB\n"
          ]
        },
        {
          "output_type": "execute_result",
          "data": {
            "text/plain": [
              "      crim    zn  indus  chas    nox     rm   age     dis  rad  tax  ptratio  \\\n",
              "0  0.00632  18.0   2.31     0  0.538  6.575  65.2  4.0900    1  296     15.3   \n",
              "1  0.02731   0.0   7.07     0  0.469  6.421  78.9  4.9671    2  242     17.8   \n",
              "2  0.02729   0.0   7.07     0  0.469  7.185  61.1  4.9671    2  242     17.8   \n",
              "3  0.03237   0.0   2.18     0  0.458  6.998  45.8  6.0622    3  222     18.7   \n",
              "4  0.06905   0.0   2.18     0  0.458  7.147  54.2  6.0622    3  222     18.7   \n",
              "\n",
              "        b  lstat  medv  \n",
              "0  396.90   4.98  24.0  \n",
              "1  396.90   9.14  21.6  \n",
              "2  392.83   4.03  34.7  \n",
              "3  394.63   2.94  33.4  \n",
              "4  396.90   5.33  36.2  "
            ],
            "text/html": [
              "\n",
              "  <div id=\"df-f02f6232-163c-4aab-a691-2a83403225cf\">\n",
              "    <div class=\"colab-df-container\">\n",
              "      <div>\n",
              "<style scoped>\n",
              "    .dataframe tbody tr th:only-of-type {\n",
              "        vertical-align: middle;\n",
              "    }\n",
              "\n",
              "    .dataframe tbody tr th {\n",
              "        vertical-align: top;\n",
              "    }\n",
              "\n",
              "    .dataframe thead th {\n",
              "        text-align: right;\n",
              "    }\n",
              "</style>\n",
              "<table border=\"1\" class=\"dataframe\">\n",
              "  <thead>\n",
              "    <tr style=\"text-align: right;\">\n",
              "      <th></th>\n",
              "      <th>crim</th>\n",
              "      <th>zn</th>\n",
              "      <th>indus</th>\n",
              "      <th>chas</th>\n",
              "      <th>nox</th>\n",
              "      <th>rm</th>\n",
              "      <th>age</th>\n",
              "      <th>dis</th>\n",
              "      <th>rad</th>\n",
              "      <th>tax</th>\n",
              "      <th>ptratio</th>\n",
              "      <th>b</th>\n",
              "      <th>lstat</th>\n",
              "      <th>medv</th>\n",
              "    </tr>\n",
              "  </thead>\n",
              "  <tbody>\n",
              "    <tr>\n",
              "      <th>0</th>\n",
              "      <td>0.00632</td>\n",
              "      <td>18.0</td>\n",
              "      <td>2.31</td>\n",
              "      <td>0</td>\n",
              "      <td>0.538</td>\n",
              "      <td>6.575</td>\n",
              "      <td>65.2</td>\n",
              "      <td>4.0900</td>\n",
              "      <td>1</td>\n",
              "      <td>296</td>\n",
              "      <td>15.3</td>\n",
              "      <td>396.90</td>\n",
              "      <td>4.98</td>\n",
              "      <td>24.0</td>\n",
              "    </tr>\n",
              "    <tr>\n",
              "      <th>1</th>\n",
              "      <td>0.02731</td>\n",
              "      <td>0.0</td>\n",
              "      <td>7.07</td>\n",
              "      <td>0</td>\n",
              "      <td>0.469</td>\n",
              "      <td>6.421</td>\n",
              "      <td>78.9</td>\n",
              "      <td>4.9671</td>\n",
              "      <td>2</td>\n",
              "      <td>242</td>\n",
              "      <td>17.8</td>\n",
              "      <td>396.90</td>\n",
              "      <td>9.14</td>\n",
              "      <td>21.6</td>\n",
              "    </tr>\n",
              "    <tr>\n",
              "      <th>2</th>\n",
              "      <td>0.02729</td>\n",
              "      <td>0.0</td>\n",
              "      <td>7.07</td>\n",
              "      <td>0</td>\n",
              "      <td>0.469</td>\n",
              "      <td>7.185</td>\n",
              "      <td>61.1</td>\n",
              "      <td>4.9671</td>\n",
              "      <td>2</td>\n",
              "      <td>242</td>\n",
              "      <td>17.8</td>\n",
              "      <td>392.83</td>\n",
              "      <td>4.03</td>\n",
              "      <td>34.7</td>\n",
              "    </tr>\n",
              "    <tr>\n",
              "      <th>3</th>\n",
              "      <td>0.03237</td>\n",
              "      <td>0.0</td>\n",
              "      <td>2.18</td>\n",
              "      <td>0</td>\n",
              "      <td>0.458</td>\n",
              "      <td>6.998</td>\n",
              "      <td>45.8</td>\n",
              "      <td>6.0622</td>\n",
              "      <td>3</td>\n",
              "      <td>222</td>\n",
              "      <td>18.7</td>\n",
              "      <td>394.63</td>\n",
              "      <td>2.94</td>\n",
              "      <td>33.4</td>\n",
              "    </tr>\n",
              "    <tr>\n",
              "      <th>4</th>\n",
              "      <td>0.06905</td>\n",
              "      <td>0.0</td>\n",
              "      <td>2.18</td>\n",
              "      <td>0</td>\n",
              "      <td>0.458</td>\n",
              "      <td>7.147</td>\n",
              "      <td>54.2</td>\n",
              "      <td>6.0622</td>\n",
              "      <td>3</td>\n",
              "      <td>222</td>\n",
              "      <td>18.7</td>\n",
              "      <td>396.90</td>\n",
              "      <td>5.33</td>\n",
              "      <td>36.2</td>\n",
              "    </tr>\n",
              "  </tbody>\n",
              "</table>\n",
              "</div>\n",
              "      <button class=\"colab-df-convert\" onclick=\"convertToInteractive('df-f02f6232-163c-4aab-a691-2a83403225cf')\"\n",
              "              title=\"Convert this dataframe to an interactive table.\"\n",
              "              style=\"display:none;\">\n",
              "        \n",
              "  <svg xmlns=\"http://www.w3.org/2000/svg\" height=\"24px\"viewBox=\"0 0 24 24\"\n",
              "       width=\"24px\">\n",
              "    <path d=\"M0 0h24v24H0V0z\" fill=\"none\"/>\n",
              "    <path d=\"M18.56 5.44l.94 2.06.94-2.06 2.06-.94-2.06-.94-.94-2.06-.94 2.06-2.06.94zm-11 1L8.5 8.5l.94-2.06 2.06-.94-2.06-.94L8.5 2.5l-.94 2.06-2.06.94zm10 10l.94 2.06.94-2.06 2.06-.94-2.06-.94-.94-2.06-.94 2.06-2.06.94z\"/><path d=\"M17.41 7.96l-1.37-1.37c-.4-.4-.92-.59-1.43-.59-.52 0-1.04.2-1.43.59L10.3 9.45l-7.72 7.72c-.78.78-.78 2.05 0 2.83L4 21.41c.39.39.9.59 1.41.59.51 0 1.02-.2 1.41-.59l7.78-7.78 2.81-2.81c.8-.78.8-2.07 0-2.86zM5.41 20L4 18.59l7.72-7.72 1.47 1.35L5.41 20z\"/>\n",
              "  </svg>\n",
              "      </button>\n",
              "      \n",
              "  <style>\n",
              "    .colab-df-container {\n",
              "      display:flex;\n",
              "      flex-wrap:wrap;\n",
              "      gap: 12px;\n",
              "    }\n",
              "\n",
              "    .colab-df-convert {\n",
              "      background-color: #E8F0FE;\n",
              "      border: none;\n",
              "      border-radius: 50%;\n",
              "      cursor: pointer;\n",
              "      display: none;\n",
              "      fill: #1967D2;\n",
              "      height: 32px;\n",
              "      padding: 0 0 0 0;\n",
              "      width: 32px;\n",
              "    }\n",
              "\n",
              "    .colab-df-convert:hover {\n",
              "      background-color: #E2EBFA;\n",
              "      box-shadow: 0px 1px 2px rgba(60, 64, 67, 0.3), 0px 1px 3px 1px rgba(60, 64, 67, 0.15);\n",
              "      fill: #174EA6;\n",
              "    }\n",
              "\n",
              "    [theme=dark] .colab-df-convert {\n",
              "      background-color: #3B4455;\n",
              "      fill: #D2E3FC;\n",
              "    }\n",
              "\n",
              "    [theme=dark] .colab-df-convert:hover {\n",
              "      background-color: #434B5C;\n",
              "      box-shadow: 0px 1px 3px 1px rgba(0, 0, 0, 0.15);\n",
              "      filter: drop-shadow(0px 1px 2px rgba(0, 0, 0, 0.3));\n",
              "      fill: #FFFFFF;\n",
              "    }\n",
              "  </style>\n",
              "\n",
              "      <script>\n",
              "        const buttonEl =\n",
              "          document.querySelector('#df-f02f6232-163c-4aab-a691-2a83403225cf button.colab-df-convert');\n",
              "        buttonEl.style.display =\n",
              "          google.colab.kernel.accessAllowed ? 'block' : 'none';\n",
              "\n",
              "        async function convertToInteractive(key) {\n",
              "          const element = document.querySelector('#df-f02f6232-163c-4aab-a691-2a83403225cf');\n",
              "          const dataTable =\n",
              "            await google.colab.kernel.invokeFunction('convertToInteractive',\n",
              "                                                     [key], {});\n",
              "          if (!dataTable) return;\n",
              "\n",
              "          const docLinkHtml = 'Like what you see? Visit the ' +\n",
              "            '<a target=\"_blank\" href=https://colab.research.google.com/notebooks/data_table.ipynb>data table notebook</a>'\n",
              "            + ' to learn more about interactive tables.';\n",
              "          element.innerHTML = '';\n",
              "          dataTable['output_type'] = 'display_data';\n",
              "          await google.colab.output.renderOutput(dataTable, element);\n",
              "          const docLink = document.createElement('div');\n",
              "          docLink.innerHTML = docLinkHtml;\n",
              "          element.appendChild(docLink);\n",
              "        }\n",
              "      </script>\n",
              "    </div>\n",
              "  </div>\n",
              "  "
            ]
          },
          "metadata": {},
          "execution_count": 4
        }
      ]
    },
    {
      "cell_type": "markdown",
      "metadata": {
        "id": "M8vVxtux9EfW"
      },
      "source": [
        "## Read Data"
      ]
    },
    {
      "cell_type": "code",
      "metadata": {
        "id": "dFtx_A3V9F6a"
      },
      "source": [
        "# Split-out validation df\n",
        "X = df.drop('medv', axis=1) #covariates - just drop the target!\n",
        "y = df['medv'] #target variable\n",
        "validation_size = 0.20\n",
        "seed = 123 # so you will split the same way and evaluate the SAME dataset\n",
        "\n",
        "# split!\n",
        "X_train, X_test, y_train, y_test = train_test_split(X, y,\n",
        "                                                                test_size=validation_size,\n",
        "                                                                random_state=seed)"
      ],
      "execution_count": null,
      "outputs": []
    },
    {
      "cell_type": "markdown",
      "metadata": {
        "id": "Jwssq4G29H27"
      },
      "source": [
        "## Build Pipeline"
      ]
    },
    {
      "cell_type": "code",
      "metadata": {
        "id": "urnajeag9JjA"
      },
      "source": [
        "# Construct some pipelines\n",
        "pipe_dt = Pipeline([('scl', StandardScaler()),\n",
        "\t\t\t('clf', DecisionTreeRegressor(random_state=42))])\n",
        "\n",
        "pipe_dt_pca = Pipeline([('scl', StandardScaler()),\n",
        "\t\t\t('pca', PCA(0.95)),\n",
        "\t\t\t('clf', DecisionTreeRegressor(random_state=42))])\n",
        "\n",
        "pipe_rf = Pipeline([('scl', StandardScaler()),\n",
        "\t\t\t('clf', RandomForestRegressor(random_state=42))])\n",
        "\n",
        "pipe_rf_pca = Pipeline([('scl', StandardScaler()),\n",
        "\t\t\t('pca', PCA(0.95)),\n",
        "\t\t\t('clf', RandomForestRegressor(random_state=42))])\n"
      ],
      "execution_count": null,
      "outputs": []
    },
    {
      "cell_type": "markdown",
      "metadata": {
        "id": "02P0w9zE_jLk"
      },
      "source": [
        "## Define your Parameters for Grid Search"
      ]
    },
    {
      "cell_type": "code",
      "metadata": {
        "id": "alqXt7eu_llU"
      },
      "source": [
        "# Set grid search params\n",
        "param_range = [5, 10, 15, 25]\n",
        "\n",
        "# be careful! you need clf with two underscores clf__,\n",
        "# because this is how we named the model above (look at all the clf)\n",
        "# if you change clf above, make sure you update it down here too\n",
        "\n",
        "grid_params_dt = [{\n",
        "\t\t'clf__min_samples_leaf': param_range,\n",
        "\t\t'clf__max_depth': param_range,\n",
        "\t\t'clf__min_samples_split': param_range[1:]}] #everything except the first one!\n",
        "\n",
        "grid_params_rf = [{\n",
        "\t\t'clf__min_samples_leaf': param_range,\n",
        "\t\t'clf__max_depth': param_range,\n",
        "\t\t'clf__min_samples_split': param_range[1:]}] #everything except the first one!"
      ],
      "execution_count": null,
      "outputs": []
    },
    {
      "cell_type": "markdown",
      "metadata": {
        "id": "9HWZdck99Oue"
      },
      "source": [
        "## Define your Grid Search"
      ]
    },
    {
      "cell_type": "code",
      "metadata": {
        "id": "EcOEx0du_rPj"
      },
      "source": [
        "# Construct grid searches\n",
        "\n",
        "gs_dt = GridSearchCV(estimator=pipe_dt,\n",
        "    param_grid=grid_params_dt,\n",
        "    scoring='neg_median_absolute_error',\n",
        "    cv=10)\n",
        "\n",
        "gs_dt_pca = GridSearchCV(estimator=pipe_dt_pca,\n",
        "    param_grid=grid_params_dt,\n",
        "    scoring='neg_median_absolute_error',\n",
        "    cv=10)\n",
        "\n",
        "gs_rf = GridSearchCV(estimator=pipe_rf,\n",
        "    param_grid=grid_params_rf,\n",
        "    scoring='neg_median_absolute_error',\n",
        "    cv=10)\n",
        "\n",
        "gs_rf_pca = GridSearchCV(estimator=pipe_rf_pca,\n",
        "    param_grid=grid_params_rf,\n",
        "    scoring='neg_median_absolute_error',\n",
        "    cv=10)\n",
        "\n",
        "\n",
        "# List of pipelines for ease of iteration\n",
        "grids = [gs_dt, gs_dt_pca, gs_rf, gs_rf_pca]\n",
        "\n",
        "# Dictionary of pipelines and classifier types for ease of reference\n",
        "grid_dict = {0: 'Decision Tree', 1: 'Decision Tree w/PCA',\n",
        "  2: 'Random Forest', 3: 'Random Forest w/PCA'}\n"
      ],
      "execution_count": null,
      "outputs": []
    },
    {
      "cell_type": "markdown",
      "metadata": {
        "id": "Iy6oqFu2GwQF"
      },
      "source": [
        "**On your own:** Can you calculate how many models we are going to fit? 256! Can you do the math and get the same answer?"
      ]
    },
    {
      "cell_type": "markdown",
      "metadata": {
        "id": "EZv1CrKU_wVC"
      },
      "source": [
        "## Run it! Find the best model"
      ]
    },
    {
      "cell_type": "code",
      "metadata": {
        "id": "j_wXjm1DGNKz"
      },
      "source": [
        "from sklearn.metrics import median_absolute_error"
      ],
      "execution_count": null,
      "outputs": []
    },
    {
      "cell_type": "code",
      "metadata": {
        "colab": {
          "base_uri": "https://localhost:8080/"
        },
        "id": "R4ZI90ft62Zi",
        "outputId": "5d7deeeb-51b5-47b7-a45f-a49c7e4c3609"
      },
      "source": [
        "\n",
        "# Fit the grid search objects\n",
        "print('Performing model optimizations...')\n",
        "best_err = np.inf\n",
        "best_clf = 0\n",
        "best_gs = ''\n",
        "for idx, gs in enumerate(grids):\n",
        "\tprint('\\nEstimator: %s' % grid_dict[idx])\n",
        "\t# Fit grid search\n",
        "\tgs.fit(X_train, y_train)\n",
        "\t# Best params\n",
        "\tprint('Best params: %s' % gs.best_params_)\n",
        "\t# Best training data error\n",
        "\tprint('Best training error: %.3f' % gs.best_score_)\n",
        "\t# Predict on test data with best params\n",
        "\ty_pred = gs.predict(X_test)\n",
        "\t# Test data error of model with best params\n",
        "\tprint('Test set error score for best params: %.3f ' % median_absolute_error(y_test, y_pred))\n",
        "\t# Track best (lowest test error) model\n",
        "\tif median_absolute_error(y_test, y_pred) < best_err: #updated: April 8, 2021 (4 PM)\n",
        "\t\tbest_err = median_absolute_error(y_test, y_pred)\n",
        "\t\tbest_gs = gs\n",
        "\t\tbest_clf = idx\n",
        "print('\\nModel with best test set error: %s' % grid_dict[best_clf])"
      ],
      "execution_count": null,
      "outputs": [
        {
          "output_type": "stream",
          "name": "stdout",
          "text": [
            "Performing model optimizations...\n",
            "\n",
            "Estimator: Decision Tree\n",
            "Best params: {'clf__max_depth': 10, 'clf__min_samples_leaf': 5, 'clf__min_samples_split': 15}\n",
            "Best training error: -1.931\n",
            "Test set error score for best params: 2.277 \n",
            "\n",
            "Estimator: Decision Tree w/PCA\n",
            "Best params: {'clf__max_depth': 10, 'clf__min_samples_leaf': 5, 'clf__min_samples_split': 10}\n",
            "Best training error: -2.304\n",
            "Test set error score for best params: 1.770 \n",
            "\n",
            "Estimator: Random Forest\n",
            "Best params: {'clf__max_depth': 10, 'clf__min_samples_leaf': 5, 'clf__min_samples_split': 10}\n",
            "Best training error: -1.786\n",
            "Test set error score for best params: 1.438 \n",
            "\n",
            "Estimator: Random Forest w/PCA\n",
            "Best params: {'clf__max_depth': 15, 'clf__min_samples_leaf': 5, 'clf__min_samples_split': 15}\n",
            "Best training error: -2.005\n",
            "Test set error score for best params: 2.242 \n",
            "\n",
            "Model with best test set error: Random Forest\n"
          ]
        }
      ]
    },
    {
      "cell_type": "markdown",
      "metadata": {
        "id": "r8468EbdXdtR"
      },
      "source": [
        "Remember - in a classification problem, we want accuracy to be 0 and then improve towards 1.\n",
        "\n",
        "* best_err = 0\n",
        "* if accuracy(y_test, y_pred) > best_err:\n",
        "\n",
        "\n",
        "In a regression problem, we want error to be infinity at the start, and then improve towards 0. Be careful!\n",
        "\n",
        "* best_err = np.inf\n",
        "* if accuracy(y_test, y_pred) > best_err:"
      ]
    },
    {
      "cell_type": "markdown",
      "metadata": {
        "id": "ag6GcVtKTMWg"
      },
      "source": [
        "# Now what? Refit the model and evaluate it!\n",
        "So now you know the combination of hyperparameters that will yield an accurate model. You should:\n",
        "\n",
        "* Re-run the model\n",
        "* Store the train and test preds\n",
        "* Make scatterplots and calculate error metrics\n",
        "* Tell a story!\n",
        "\n",
        "Note here that we have only fit two models with different scaling techniques - why not go try ALL of the other regression models we showed during spot check models? Maybe try calculating some [polynomial features/interaction terms](https://machinelearningmastery.com/polynomial-features-transforms-for-machine-learning/) in the pipeline as well? Or expanding the grid search to try different hyperparameters?\n",
        "\n"
      ]
    },
    {
      "cell_type": "code",
      "metadata": {
        "id": "QziEphDvFtGB"
      },
      "source": [
        "# left to students to do as an exercise"
      ],
      "execution_count": null,
      "outputs": []
    }
  ]
}