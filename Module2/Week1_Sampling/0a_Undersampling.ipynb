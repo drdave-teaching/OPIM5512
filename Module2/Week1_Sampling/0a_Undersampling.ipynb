{
  "nbformat": 4,
  "nbformat_minor": 0,
  "metadata": {
    "colab": {
      "provenance": [],
      "toc_visible": true
    },
    "kernelspec": {
      "name": "python3",
      "display_name": "Python 3"
    }
  },
  "cells": [
    {
      "cell_type": "markdown",
      "metadata": {
        "id": "LUP6K9OsoqIr"
      },
      "source": [
        "# Undersampling the Majority Class\n",
        "**OPIM 5512: Data Science Using Python - University of Connecticut**\n",
        "\n",
        "-----------------------------------------------\n",
        "\n",
        "Let's review some standard methods for dealing with imbalanced datasets. Our goal is to get a balanced sample and there are MANY ways you can choose to go about this.\n",
        "\n",
        "* **Random Undersampling:** Randomly delete examples in the majority class (until you have matching number of majority and minority class rows)."
      ]
    },
    {
      "cell_type": "markdown",
      "metadata": {
        "id": "x6FUXr_7mPEn"
      },
      "source": [
        "![undersampling.jpg](data:image/jpeg;base64,/9j/4AAQSkZJRgABAQEAYABgAAD/2wBDAAMCAgMCAgMDAwMEAwMEBQgFBQQEBQoHBwYIDAoMDAsKCwsNDhIQDQ4RDgsLEBYQERMUFRUVDA8XGBYUGBIUFRT/2wBDAQMEBAUEBQkFBQkUDQsNFBQUFBQUFBQUFBQUFBQUFBQUFBQUFBQUFBQUFBQUFBQUFBQUFBQUFBQUFBQUFBQUFBT/wAARCADkAekDASIAAhEBAxEB/8QAHwAAAQUBAQEBAQEAAAAAAAAAAAECAwQFBgcICQoL/8QAtRAAAgEDAwIEAwUFBAQAAAF9AQIDAAQRBRIhMUEGE1FhByJxFDKBkaEII0KxwRVS0fAkM2JyggkKFhcYGRolJicoKSo0NTY3ODk6Q0RFRkdISUpTVFVWV1hZWmNkZWZnaGlqc3R1dnd4eXqDhIWGh4iJipKTlJWWl5iZmqKjpKWmp6ipqrKztLW2t7i5usLDxMXGx8jJytLT1NXW19jZ2uHi4+Tl5ufo6erx8vP09fb3+Pn6/8QAHwEAAwEBAQEBAQEBAQAAAAAAAAECAwQFBgcICQoL/8QAtREAAgECBAQDBAcFBAQAAQJ3AAECAxEEBSExBhJBUQdhcRMiMoEIFEKRobHBCSMzUvAVYnLRChYkNOEl8RcYGRomJygpKjU2Nzg5OkNERUZHSElKU1RVVldYWVpjZGVmZ2hpanN0dXZ3eHl6goOEhYaHiImKkpOUlZaXmJmaoqOkpaanqKmqsrO0tba3uLm6wsPExcbHyMnK0tPU1dbX2Nna4uPk5ebn6Onq8vP09fb3+Pn6/9oADAMBAAIRAxEAPwD9U6KKKACkpaKACiiigAooooAKKKKACiiigAooooAKK8U/bQ8Sat4Q/Zb+I2s6HqVzpGrWemmW2vrOQxywt5ijcrDocE1438fPiN4s0Xwb+y5PpniLUrK41zxTpNtqclvcFWvoXQGRJT/Erd89c0AfZ9FfFnjP9vTxV4a034pa/afDqG98LfDrxQ+garetqG2SVBNHErxpjlsyKSO2RWx8Xv2qvFurat8UvC3w68KnUbfwdoUV1q+tNe+RLby3Ns00QhXHzME+bPqKAPruivz/APB/7d2q+Bvhr8MPDP2VfFfjC88Kprup6hrV60e6Muyr8wUl3Yqw/CvQm/bk17xZrHwy0jwJ4AOr6n410m51JYdQu/s5szA4WRXyOQOufpQB9fUV8ar+3lq0PxgfwXqHhOw0RodSj0549Vvzbzy7gN0sW5drKCeOeas/G79urUvg7461DT28M6bqOh2GowWEskWpb7txIygyCNQQuNw4Yg0AfYNFfHXxM/bi8U+D9S+Kr6P8PYdV0P4dyWraley34jaWGZVI2Lj7wycj2FXrP9tjX9P8SeLdG8S+BU0i8sfh/P8AELSo470SG5tEJURSnHyOWXtnHNAH1vRXyF4N/bS8UatdfDKbxV4CTw34d+I9vt0bUYL4TSJcGEOqyJjgNng+mK8m+Bnxv8S32h/Av+3fEfiPVb7WvGOp2csw1HaksaFtsc4IPmIAMBeKAP0Wor4qi/b68Trotr4quvh3FD4LbxY/hSa+XUMzCUTmFZFTHIzjNafjr9uLxLpMPxQ1zw18P49c8H+Abg2V/fzX4hmlmG3JRMfdG4c0AfYVFcJefFax0T4T2njrVbeaKyktra4kgtx5jgzMiKqjv80grmNJ/aY0PUteXS5dH1iwlTVY9Fupbi3AjtruWNZIY2Of40dCP99fWgD2KivBtR/a08NNa6nDaiaz1C3086pCt2gbfbrcQQuzKpyhDXEYwcH5vaugf9pHwzFcs0lvfppLXVzYwasYf9HuLiDeJIlPrujkUHoSpAoA9Zor5v8AEX7XH2GxtNQ0zw7eXEV5Ba3FvZ3MflzPDPNGizdcbSH4HWvUPDvxo0LxJfaZYWwuF1G+ubm1Nm6YkgeAAyeYOwGV+u4UAegUV5f4m+Oljo+oa3YWWmahqTaWHiuL2GAtbwziIyBGI5xwAT2Nc5pn7U2i22l+F31y2mtbrVo7ETSR4EUct0UWNVBO5hukUEjpnmgD3OivF4/2qvCElr4ku/LvfsehxTy3Eyxgn91KsLgpncp3sMZHIyeld78OviFY/EjQpNU0+OSKKOdrdg7KwLBVbKspIZSGHI96AOrooooAKKKKACiiigAooooAKKKKACiiigAooooAKKKKACiiigAooooAKKKKACiiigAooooAKKKKACiiigAooooAKKKKACiiigAooooAwfHHgvSfiN4R1fwxr1t9s0fVbZ7W6hzgsjDBwex6EH1FfPvgD9g3w74O8WeFtW1Xxv4u8Z2PhSQy6DouuXwktNPkxhWVQoJKjgZJxgelfT+B6UUAeBa3+xz4R174d/FXwdPqGppp3xE15vEGpyRuvmQztLDIViOOFzAvXPU1Q+IP7E3hnx14x1TX7XxP4j8MHXNNh0vXrPRbsRQ6vDEnlxmYYJ3BPlyuOOK9b8afEWLwdrGlaYNLvdVvdQguLmOOzC/LHC0KuWLEd548fU1j/wDC4bj/AKE/Wfzi/wDi60jCUldIhzjF2bPLNY/YM8JXGm+EU0XxJr3hnVvDuknQ01fT5I/PurMkny5QylTgkkEDIzXb+G/2XvDHhXx14E8U2d5qT33hHSbjR7RbiYSCaObG95SRkvkZrd/4XBcf9CdrP5xf/F0f8LguP+hO1j84v/i6fsp9he0h3PMvGH7DPhnxx4um1PVfFXiK50SfUo9Vl8Pyzo9v5yMGG2Qr5ipu52hsVk+Lv+Cevg3xXqniuVfFPiPS9K8RX6ardaVaTp5K3alSJVJUtj5fuk456V7H/wALhuP+hP1n84v/AIuj/hcFx/0J2s/nF/8AF0eyn2D2sO5yWufsi+FfEGk/FTT7jUNSWL4iLAmpsrrui8lAimPjjIUZzmsr4tfspWGvx+KfE+i3F1P4tm+Gt34BsLWaRRbvE3mPGzcZDl2Az0xXrXg34jReL9W1HTDpV7pV7ZwQ3Lx3gX5o5WkVSCpPeJx+FdhxWbTi7MtNPVHyR+zv+w7beC9H+G+reM/EOu6zrHhjSlSz0G9vBLYaXePEFmeEYyec7ckgcY6V2XhX9irwd4Sh8CRWupapIvg/V7nWbLzJFPmTTZ3B+OVGeMV9C0Uhnz7c/sX+D7r4Xp4GfUtUGlr4n/4SkSh1837T5/nbM4xs3cfSvm39of8AZB8f+NPF/wAS7Lwv4fv7DSvGEySCTT9e8nTJZMrm4ubcjcXAB+UHB/Cv0UxRgelAHCSfC+21b4V6b4N1K4k8m3gs0kmtzglrd45ARnsWjH4Gs7UPgToep3GuySXl6v8Aa+v2niKfZIAVnt4IIEVTjhStuhPfJNemYHpRgUAfLfiT9js6f4Zs7PQdZudTvbfTl8P25vliijgsWuLWWRn2KDK4+yR/M2Se9egSfsz6RNdmCXW9Tk8Nw3t1qdnoHyCC1urgyNJIrbd7DfNK4ViQC3HQV7JRQB5Dr/7Nmha5Y2sI1K/tJ7TSbXSbe4jKFo1t3R45MEYLZQZzxT/hv8I59C+Kni7xxqcSRXeppFa20KSbxsQfvJyMAK8jAEgegFet0UAeVa98BbfWPEGrXcHiXWNL0rV5ftOoaRZuixTzeWU378b1BGCVBwSOa5dv2QdBWQRw6/qkNi0mnzSW5WJ2aSzMRiIkKlkUmFCVUgHn1r32jFAHh0n7Len3GtX+pzeK9ae6ktri2s5k8pJrUTSI5LSBd0+DGgAl3DGR3Ndt8KPhTZ/Cmx1eK3v5tRutWvvt93PLGkSmTy0jAWOMBEG2NeFHJyTya7uigBaKKKACiiigAooooAKKKKACiiigAooooAKKKKACiiigAooooAKKKKACiiigAooooAKKKKACiiigAooooAKKKKACiiigAooooAKKKKACiiigDyT4nj/i7Hg7A/5gur/+j9Opdp9DWT8aPD6618V/Bga+vbPGi6t/x6TGPOJ9P9Pr+grL/wCEBC8pr2sqe+bssK9fDfwzy6/xnU4PpRXLf8IRcLwniPVgPeQH+lH/AAh+or93xVqQI6Eqh/pzXVqc9jqaK5f/AIRXW15TxffKfe2ibP6Un/CL6/8A9Dlef+AcP/xNMLHVfDX/AJKr4m/7Aunf+j7yvWT0r5s8I3mu+BPilrmrXWpya7o8Wk2CakrwIksMLT3e2dQg5CEHcP7rk/w4r6NhuI7qGOWGRZIpFDo6nIZT0IPvXh1v4jPWo/AieiiisTYKKKKACiiigAooooAKKKKACiiigAooooAKKKKACiiigAooooAKKKKACiiigAooooAKKKKACiiigAooooAKKKKACiiigAooooAKKKKACiiigAooooAKKKKACiiigAooooAKKKKACiiigDyP4nf8lY8Hf9gTV/8A0fp1LSfE7/kq/g7/ALAur/8Ao/TqWvYw38NHl4j4wooorrOYKKKKAD4cosnxS8TqyhlbRNOBBGQf396K2NLd/hr4ih0Sf/kV9TkI0udjxZ3BOTasf7jcmM9iCv8AdrJ+G3/JVfE3/YF07/0fe16Pr2iWXiTSbnTb+ITWtwm11zgjuCD2IIBB7EV4lf8AiM9ej8CNKiuM8G65e2N/L4W1yYy6rZx+ZbXjjH2+2zgSf76/dceuD0auzrnNgooooAKKKKACiiigAooooAKKKKACiiigAooooAKKKKACiiigAooooAKKKKACiiigAooooAKKKKACiiigAooooAKKKKACiiigAooooAKKKKACiiigAooooAKKKKACiiigAooooAKKKKAPI/id/wAlX8Hf9gXV/wD0fp1LWV8aPE1j4f8Aix4MN60yhtE1bHlW7ydZ9O/ug+hrL/4WXoH/AD1vf/ACb/4mvYw38NHl19ZnU0Vy3/Cy9B/563v/AIATf/E0f8LL0H/nre/+AE3/AMTXUc9mdTRXLf8ACy9B/wCet7/4ATf/ABNH/Cy9B/563v8A4ATf/E0BZnV/Db/kqvib/sC6d/6Pva9YI4rw34P+L9K1z4t+JYbW5YTtolgUhniaKRws93uKqwBIG4ZI6ZFe5N0rw638RnrUfgRznjLwv/wkljA9vMbLV7KTz7G8UcxSYxg+qsMqw7g0/wAG+Kv+ElsZRcQ/Y9Vs38i+s2PMMg7j1Vhyp7g/Wugri/GGj3Wm6knirRYjLqNvH5d3aLx9ttwclf8AfXJKn6jvWJsdrRWdomt2niLS7bUbGYT2s67kYfXBBHYg8EeoNaNABRRRQAUUUUAFFFFABRRRQAUUUUAFFFFABRRRQAUUUUAFFFFABRRRQAUUUUAFFFFABRRRQAUUUUAFFFFABRRRQAUUUUAFFFFABRRRQAUUUUAFFFFABRRRQAUUUUAFFFFABRRRQB4f8aPEB0X4reDcafe3u7RNW/49Iw3WfT+vPt+orM/4WAF+/oesR/W3H+NdR8UCf+FseDv+wLq//o/TqXcfWvYwt/Zo8yu/fOV/4WLar9/TdUQ+htjSf8LL0tfvw6ggHUm0fj9K6qiumz7nPc5X/haGgr9+a6Qe9nL/AIUf8LS8O/8AP1c/+Acv/wATXVceg/KjaP7o/KjXuK6OI8D3Xh74ofFLxJaW17Na6pZ6Tp81jd+W0M8MglvMvHuA3ABgGHQgkGvYvDfi67/tI+H/ABBGlpriLviljGIL5B1eLPcd06j6V5zoHhO18VfEnxEjvJZ31tpGnS2d/b8TW0onvcMp7jsVPDDg1100ieKkHhXxfELLXk/eWl9akxrMy9J7d+quOpTqOeorxa38RnrUfgR6RSVxnh7xRfaXfweH/EzqNSYbbXUFULFfgDqB0WTHJX64rtKwNjz7UM/DXXpNTjB/4RnUpQbyJRxZztx5w/2W4De/Nd8riRQykFTyCOcj2qO6tYb62lt7iJZoJVKPG4yGU9QRXE+GLqfwRrEfhfUZWl0+Yk6ReSnO5e9ux/vL29R9KAO9ooooAKKKKACiiigAooooAKKKKACiiigAooooAKKKKACiiigAooooAKKKKACiiigAooooAKKKKACiiigAooooAKKKKACiiigAooooAKKKKACiiigAooooAKKKKACiiigAooooA8k+KH/JWPB3/YF1f/0fp1FZnxm8SaboPxY8GG/u1tt2iatjdnvPp+P/AEE1nr8RPDj5xq0OR7Ef0r2MK7Uzy6/xnR0Vgr488Pt01W3/ADqVfGWhNjGq2vP/AE0FdWnc57GzRWWvirRpD8uq2ef+uwFO/wCEk0j/AKCtn/3/AF/xo07iNT4bf8lV8S/9gXTv/R97XoPiXwzY+KtNNnfRsVBDxTRMUlhcdHjYcqwPcV5f8Ltd068+LniSG3v7eaV9F08qkcgJOJ7zP5ZFez14lb+I7Hr0fgR5vJILlF8JeOAs8khAsNYUeWt1j7rZH+rnHcDgnkelaGheIdQ8Magmg+JpvN3nbYawRhbpeyydllH5HqK6jXNDsfEmmy2GoQLc20g5U9QfUHsR6iuGnzpMbeF/GOdT0W7Oyx1aTr/sxzH+GQdn78d+uBsek1j+KPDdt4p0eWwuGaIk74riP/WQSDlZFPqDz+lc3petXngW/g0XXp2utLmbZp+sv+kMx7N6N/F9a7rhsYoA5bwT4kur7z9H1kJF4g08BZ1XhZ0P3Z0/2W/Q5FdZXJ+N/DNzqa22raOyw+IdNJe1dzhZlP34HP8AdcDGexwe1aXhXxNbeK9HS9tw0TgmOe3k4kglXho2HYg/40AbVFFFABRRRQAUUUUAFFFFABRRRQAUUUUAFFFFABRRRQAUUUUAFFFFABRRRQAUUUUAFFFFABRRRQAUUUUAFFFFABRRRQAUUUUAFFFFABRRRQAUUUUAFFFFABRRRQAUUUUAeQ/FGNJPix4O3xo//Ek1f7yg/wDLfTvWmNZ20n3raE/WNf8ACpfid/yVfwd/2BdX/wDR+nUtexhv4aPLxHxlVtJsWOTZW5P/AFyX/Com8P6WwIOnWpB6/uhV+iuo5jLbwror/e0mzP8A2xFN/wCER0P/AKA9l/35Fa1FAHP+DfAOh6t8RvEtt9hSzKaPp0kU9n+6kifz7z5lYdDwPyru4/E2r+BJvs3icHUNG4EOvQJynPS4QfdPT514POQMc43w2/5Kr4m/7Aunf+j72vVpI1kjZHVXRhgqwyCPSvEr/wARnr0fgRHbXUN7bxz28qTQSDckkZyrD1BqLUtNtdXsZrO8hS4tpl2vG4yCK5G68Hah4ZuGvvCMscaE7ptFuWIt5f8AcP8Ayzb3HHqK2PC/jSx8TeZAqyWGpw8XGm3Y2TRH6fxD/aGQawNjl7mNvBcbaPr6/wBq+Drr91BeTDe9oScCOb1Xn5X7Ywan0/VLn4b3ENjqdw994ZnYLZaox3NbFj8sUx7rz8r/AIGu+ubWK8t5IJ41mhkUq8bjKsD2Irzy9s3+HsctvdRNqvgm5/dyxyDzH08HuR1aL9V+lAHooYMoIO4HkEdDXC+LLOfwXrL+LdMgaa1cBdasoRkyRAcXCL3kj7/3kyOoFVbTUJfhzJCWnbUfBNzgw3obzG08noGP8UR7N/DnnivQopI7iJXRlkjcblZTkMD3FAEdjfQalZwXVrMlxbTIskc0ZyrqRkEH0qzXnlr/AMWu8QR2ZBXwlqs223b+HTbpj/qz6RSH7vZW4/iGPQaAHUUUUAFFFFABRRRQAUUUUAFFFFABRRRQAUUUUAFFFFABRRRQAUUUUAFFFFABRRRQAUUUUAFFFFABRRRQAUUUUAFFFFABRRRQAUUUUAFFFFABRRRQAUUUUAFFFFAHkfxO/wCSr+Dv+wLq/wD6P06lpPid/wAlX8Hf9gXV/wD0fp1LXsYb+Gjy8R8YUUUV1nMFFFFADvht/wAlV8Tf9gXTv/R97XrH8NeT/Db/AJKr4m/7Aunf+j72vWP4a8Ov/EZ69H4EFYPiTwfY+JfLllD21/D/AKm+tzsmi+h7j2PFb9JWBscJF4s1PwXNHZ+KlEtizBIdchX93z0Ey/wH/a6fSu2VorqHcpSWKRe2GVh/UU64t4rqF4Zo1licbWRxkMPQiuHk8L6p4Lke48LMLiwyWk0W4c7ffyWP3T7dKAK+oaXcfDvz7mwtX1HwnJuN5pSrve2B+88K/wAS9ynp09Kq2uoD4e2lvqWmzNqvgO4w2YT5jacGPDr3aEdx1X6Cuv8ADPjCw8VRyrbM9ve2523NjcDZPA3oy/1HBrB1Tw/e+DLq51Xw9bG70+YtJf6EuMSZ+9JCDwHPdejexNAHVXtnp/ijRZbacR32m3sW07SGSRCOoI/MEVzfhHVrvQ9WfwnrMzz3USGTTr6T/l8txjgn/nomQGHcYPrjD0e8TwtYjX/C7Pq3g24JkuNNiBMtic4dolPI2nO6I8jBx6V1WuaVZfELw3a3WnXqeZ8t5pup25DeW+Mq6n0I4I7gkUAdTRXM+C/FL+ILW4tb6MWuuaewhvrUdmxw6+qNjIP1HaumoAKKKKACiiigAooooAKKKKACiiigAooooAKKKKACiiigAooooAKKKKACiiigAooooAKKKKACiiigAooooAKKKKACiiigAooooAheZYV3SOqD+8xwKZ9vtv8An5h/7+D/ABr5Q/4Kc3tzp/7N9vJa3E1rIddtQXhkKNjy5uMjtX5Pf8JJrHX+2NQ/8C5P8a8zE46OGmoNXufc5HwpWzzDvEU6qik7apn9CP8AaFt/z8Q/9/B/jR/aFt/z8Q/9/B/jX893/CTax/0GNR/8C5P8aP8AhJtY/wCgxqP/AIFyf41yf2tD+Rn0f/EO8V/0ER+5n9CP9oW3/PxD/wB/B/jR/aFt/wA/EP8A32P8a/nu/wCEm1j/AKDGo/8AgXJ/jR/wk2sf9BjUf/AuT/Gj+1ofyMP+Id4r/oIj9zP6EY7mKZiI5kc+isDU30r8oP8AgmNrWo337R1xDcajd3MJ0W4YxzTs65Dx4OCfc/nX6vivVw9ZV6aqJWPz3N8snlGLlhJyUmrarzPJvif/AMlY8Hf9gTV//R+nUVlfGjXG0f4r+DCNOvL8Nomrf8eqBsZn0/rk+36isv8A4Tp/+hc1n/vyv+NfQ4Vr2aPka/xnU0Vy3/CdP/0Lms/9+V/xo/4Tp/8AoXNZ/wC/K/411XOezOporlv+E6f/AKFzWf8Avyv+NH/CdP8A9C5rP/flf8aLhZnV/Db/AJKr4m/7Aunf+j72vWD0rwH4c+PbG1+JXiS41G2vdKjbSdOiX7TCTn99eHPy5wOnWvXrLx/4b1KYQ22uWM0p/gWdc/lmvDrfxGetR+BHQ0VFDdRT5EcqSeuxgalrE2CkpaKAOa8TeCbTxBNHeRvJp2sQ/wCp1K2+WRf9k/3l9jWVb+NL3wtcRWPi2NLdJG8uHWIQfs0rdg//ADzY+/HvXdVDeWcGoWsttcwpPbyqVeORQysD2IoA4/WvDd5o+pS+IfC4j+0T/vL3TSdsN9wPnHZZcADd34zWDpN5/Zyy+IPCcUk+lNI39q+Hiu2W2l5LtGn8L55K9G6jrWqvh/V/ADF/DzNqmhqedFnfLwL6QOew7IePSq2238TXcniPwlcLaeI4AI72xnBj+0KM4inTsw/hft7g0AR+NNWs4dBX4jaHceY2m27STrGjN9qtxy8TqBncuCQMZBFdR8O/HWmfE3wTpHinRjM2l6pCJ4POQo+3JHK9jkGvnv42nxauhan4l+HWqW+gGFHHifw3efu3kdgqiWNv4HAz8w4bj0qHTPCOtaTYxWtjcRWVrGDsgg1+ZETJJOADxySfxranSdTYynUUNz6tor5c/sPxL/0Ev/Lhm/xo/sPxL/0Ev/Lhn/xrb6tLuZ/WIn1HRXy5/YfiX/oJf+XDP/jR/YfiX/oJf+XDN/jS+rS7h9YifUlN3elfL1rD4i0PXvD1xJqsqxvrFjA6xazLcbkedFZSjHBBBIr6irCdN03Zm0Jqaugo/Cmsflb1xX4b+Jv2mvixH4m1iOP4h6/GiXsyIiXjAKokYAD2xXn4jEwwyTktz6XJcjxGd1J06EknHufuTR+dfhH/AMNOfFv/AKKN4h/8DWo/4ac+Lf8A0UbxD/4GtXD/AGrR7M+t/wCIf5l/z8j+J+7n50fnX4R/8NOfFv8A6KN4h/8AA1qP+GnPi3/0UbxD/wCBrUf2rR7MP+If5l/z8j+J+7vNIK/Cqx/aa+LTX1urfEXxCQZFBBvGx1Fft94RuJLrwnok0ztJNLZQu7sclmMakk/jXdh8VDE35VsfK51kOIyOUI4iSfNfbyNmiiiuw+aCiiigAooooAKKKKACiiigAooooAKKKKACiiigAooooAKKKKACiiigD5B/4Kif8m1W/wD2HrX/ANFzV+SnVT61+4/7UfwDP7SHw0Twn/bB0QpfRXv2oQ+b9xXG3GR13/pXyP8A8OkX/wCijn/wXD/4qvAx+Dq4iopQ7H65wlxHl+UYKdDFyablfRX0sj878UY96/RD/h0fJ/0UY/8Agu/+yo/4dHyf9FHP/gu/+yrzf7MxPb8T7j/XjJv55f8AgLPzvx70Yr9EP+HR8n/RRz/4Lv8A7Kj/AIdHyf8ARRz/AOC7/wCyo/szE9vxD/XjJv55f+As8r/4Je/8nJT/APYEuf8A0OKv1rxtr5I/Zb/YP/4Zw+JEvixvFx1wvYyWX2b7J5QG9lO7OT/dr645+tfR4OlKjRUJ7n4pxLmFDM8ynicM7xaXS3Q8m+JxP/C2PB2OP+JJq/8A6P06l3H1NbXxB8Aar4o8Q6LrOkapbafc6fa3doy3VuZUdZ3t2JGCMEG3H/fRrG/4Vz42/wChh0b/AMFz/wDxde/QrQhCzep8RWoylK6Qm4+po3H1NL/wrnxv/wBDDo3/AILn/wDi6P8AhXPjf/oYdG/8Fz//ABddH1mmY/V6gm4+po3H1NL/AMK58b/9DDo3/guf/wCLo/4Vz43/AOhh0b/wXP8A/F0vrNIPq9Qb8OUWX4qeJlcB1Oi6dwwyP9fe16LfeE9F1GFo7nSrOZG6gwr/AIVy3gDwDqnhvxDq2savqlrf3N7a29oqWtuYkRYnmYE5JySZj+QrvuteZVkpTclsehTi4xSZxd18IfDEkYW1spNKYf8ALTTZ3t3/ADU1Gnw1n09RHpPinWtPTusswuc/jIDXc0lZGhxn9h+MrNglt4ktbqL+9e2WZD+KkD9KRdQ8d2zkPpmk3ca9WjuGRm+gI4rtaSgDjl8baxb5a88KX0UY6tDIkn6A0q/E7ToR/pllqWnr2ae1bB/LNdjSMobggEe4oA5i3+JHhq4XJ1eC3P8AduCYj+TYqnrfh/R/FU0OraZqcdhrMX+o1KylXcRj7rjo6n0PtXU3Gk2N0QZ7O3mPrJEp/mKwbz4Y+Fr+YyzaHa+cf41TaR9MdKAPkX9tp/tNj4eg8STX2i66spENzYRk6XqSBlIFywGVBOAFPALVveRpH/QI8D/+Bjf4V2vx+/Zl03xHodxr+mSa3e6tplnKtppA1KT7NMzOjYZDnONnArBGseJ8f8k2g/74P/xFd2Hko3uzjrxcrWRk/Z9J/wCgP4H/APAxv8KPs+k/9AfwP/4GN/hWv/bPif8A6JtB/wB8H/4ij+2fE/8A0TeH/vg//EV2e0j3OXkl2Mj7PpP/AEB/A/8A4GN/hR9n0n/oD+B//Axv8K1/7Z8T/wDRN4f++D/8RR/bPif/AKJvD/3wf/iKPaR7hyS7Gbp8NgniDw4baw8NW0n9uad+80m4Ly/8fUfGMdK+vf4q+WdP/wCEk17xB4et5PA/9lxx6xZ3D3MKH5ESdHYk7RxgGvqf+defiJKUlZndQTjGzGt9049K/ns8Vf8AI1a5/wBf9x/6Nav6E2+6a/EDxJ+yv8XZvEmsSR/D/V5I5L2d0kWMEMpkYgj2wa+azOnOpCPIrn6twJjMPg8VWliJqKcVueL496Nterf8Mo/GH/onms/9+v8A69H/AAyj8Yf+ieaz/wB+v/r1899XrfyM/af7byz/AKCI/eeU7aNterf8Mo/GH/onms/9+v8A69H/AAyj8Yf+ieaz/wB+v/r0fVq38jD+28s/6CI/eeY6f/yELb/rqv8AMV/QN4J/5E3QP+wfb/8Aota/E6w/ZV+MAvrct8PdYUCRSSYhjGR71+2vhK2ls/CujW86GOaGyhjdD1VggBH6V7+V0p01LnVj8e48xuGxlSg8PUUrJ7fI2KKKK90/KQooooAKKKKACiiigAooooAKKKKACiiigAooooAKKKKACiiigAooooAwfEevy6LfeH4IoVlGpah9jkZjjy18iWTcPU5jA/Gt2sPxVoMmuWtpJbSxwajY3AurSaZC6JLsePLKCMjbI4/GsX+zfH//AEHNF/8AACT/AOLoA7eiuI/s3x//ANBzRf8AwAk/+Lo/s3x//wBBzRf/AAAk/wDi6AO3oriP7N8f/wDQc0X/AMAJP/i6P7N8f/8AQc0X/wAAJP8A4ugDtsCiuJ/s3x//ANBzRf8AwAk/+Lrm4PiB4o1DxpL4GgbTo9fs0e7u9QaJjD9n2xGIrHuzl2ldc5x+4f1oA9apa4j+zfH/AP0HNF/8AJP/AIuj+zfH/wD0HNF/8AJP/i6AO3oriP7N8f8A/Qc0X/wAk/8Ai6P7N8f/APQc0X/wAk/+LoA7eiuI/s3x/wD9BzRf/ACT/wCLo/s3x/8A9BzRf/ACT/4ugDW8HeIpPE9hfTvEsJttSvLEBTnIhneIH6kJmuhrnvBPhl/Cfh9LKW5+2XUk0t1c3AXaJJpZGkkYDsNzHiuhoAKKKKACiiigAooooAKKKKAMrxJrQ8O6Heak0RnFum/y1OCecf1rUqjrWlx61pN1YzHEdxGUJHbjr+Fccup/EKyUW8fh7SbuOIBFuJNTZWlA43EeXwT1oA9AorgP7c+I3/QraP8A+DVv/jdH9ufEb/oVtH/8Grf/ABugDv6K4D+3PiN/0K2j/wDg1b/43R/bnxG/6FbR/wDwat/8boA7+krgf7c+I3/QraP/AODVv/jdZmufFbWvA8KyeKfD8FstyGSyGn3ZnMswGRGQVGM9jzQB6jRXAf298RuP+KV0ccf9BVv/AI3S/wBufEb/AKFbR/8Awat/8boA7+iuA/tz4jf9Cto//g1b/wCN0f258Rv+hW0f/wAGrf8AxugDv6K4D+3PiN/0K2j/APg1b/43R/bnxG/6FbR//Bq3/wAboA6dvECL4sTQ/LbzXsmvfMzxtEgTb+ua18CuH8L6T4gvfFs/iDxDaWenSJZfYbe3s7gzZUuHZmYgdwBiu5oAKKKKACiiigAooooAKKKKACiiigAooooAKKKKACiiigAooooAKKKKACiiigBKWiigAoryK/8Ai94l1jxB4ns/BXhWHXrHw1c/Yb+6ur0W5muREkrwwDB3FVkQEnA3HHY1WP7VPgm88O2l7Y6grajdafHqK6fcKyGFGLDErAEIQY5F57oRQB7NRXm+pftAeC7HVbzSV1mJ9Th81I1ZHEMssaF3jWTG0lQDnB4wah0z9ojwTe32madLrUMepXiwK0cau8UUsqB0RpMbQWB4zjNAHp1cZZeA1tPi7q3jPep+3aLaaUEA+YGGe4kLH6iZR/wGua179pLwhptjrZsLw6jqOnWst0lrsaIXSxkB/KdhhtpYZIzjIrrPFHxK0LwXpGnX2s3TWovyq29vHG0ssrFdxCooJOBkk44FAHWUV47on7UXgu88H6Nr+q3p0qHUYXusbHkSC3EzxCaV1GEQlGO5sDg+lWdP/aU8J3E3i2O6N5Zf8I/rjaCwa1kd7qYQJMTEqglgAzdOyZ6EUAes0V5v/wANDeAmk0hY9fjn/tONZoWhjd1VC5QGQgfIN6svzY5UjtUWtftEeCNIbW4l1X7Xd6XbzztDDGxEzQoWkjjbGHcAcgHigD02iue8B+MrXx/4N0XxHZRzQWuqWsd1FHOhV1VlBAIPfmuhoATFLRRQAUUUUAFFFFABRRRQAUUUUAJRilooASilooASilooASuD+LHgWTx1a+GUiUE6drtnqEmTj91G+ZB+I7V3tFACUUtFACUUtFACUUtFACbR6UtFFABRRRQAUUUUAFFFFABRRRQAUUUUAFFFFABRRRQAUUUUAFFFFABRRRQAUUUUAFFFFAHklx8J/Enh/wAQeJ7vwf4it9KsPEt0b+8tru380wXJiSN5Yj/tCNCQe4z3rnof2U9N03wr4m0LTtSMMGr6Tp+mLNJGGdDbyTyNIx7l2uGJ9697ooA+SG+DPjTWfE9h4VTT5tN8IWOqalfC9uVjbi5WU5VgdzHfKTjA9O1d5pv7L66f4Tu9GGsjfcXmnXf2gQjK/ZI0QD8dufbNe90UAfL7fse6he3UE1/4q+0SW9jfWAmZGLSLcGMl2BOAR5YGBxXrvjb4b3+s6n4S1rRtQista8OpPDCbmLzIpYpkRZFI7H92hB9iO9eh0UAfK+t/saanrPgq78My+LvMs73QJNElbyigiLyXDtKiKcHd9oAIbIHljHWuk1b9mrWLjWtTubTxOsdhe64NbNiyMoZ2sY7R1Z1OcDykdcepBr6ExRQB8w237Ht5p+h6Rptp4kjgms1lQ6lDCY7hA95Lc5Ug4b/W7cNkce9XdL/ZBg0+8u4f7VWTSjJfz25dWM6PdB85ycYUyE8DnivpGigDm/h14auvBvgfQ9CvLpL2fTbSO0NwibQ4QBVOPXAFdLRRQAUUUUAFFFFABRRRQAUUUUAFFFFABRRRQB5J+0j8TdT+F3hPQ77S5PJl1DW7fTpJVtGumSN0kYlYl5Y5QcCuXi/aB/4RHRbTVdbv7zV7OSw1PUiv9kvZzNHaC3DL5b4IOZTj1zXsfirwbp/jD+xzfiQnStQj1K3MbbSJkVlXPth24rK+IXwo0L4ltE2spM5jsLvTl8p9v7q58rzfx/cpg+xoA5Gb9oy3sINXj1Dw3qGm6ppz2fmWVzLGo8q5WQxSmTO0L+5lB7gr71T+Gf7QyfFT4jaLp2kwCPRrvRtVuZ95DOt1Z39vakKw4KHzJCCOowa6Hxp8AfDnjbWl1i5kurbUkktJI5onBCtbpcJH8pBB+W6l6+oPUVN4B+BPhz4c67FrGmm5kv44b6HzJnyCLu5juZzgDHMkQI9MmgDlvEn7Q10viLTLXRNCurjRm8RJod1rDhfKLr/rQozng/KD/eBrnPFX7Y1rY6T4gj0nQpZtesLEajBaSTo4eLz0ibftPyMN+cGu+1H9nXw7qetS3b3mpRWMmoHVDpcU+23F0Vw0gHXnrj1OawrX9kjwfb6bLZNc6hLG2lnSI2MihorcurgAgcsGRTuOTxQBd1j9pvR/DvjW08O6lpV3bT3N19hjPmI0hm8syYEYO4rhSM+orKtf2wPC03he51ua1mtrdZ4La3Vpo8yyyswWNuf3bDYxYN0ArVh/Zd8MrrEeoS3+pzypqP8Aao3SjcbrYUMhbG7kE8ZwKi/4ZT8IzSXlxdzXt7qE3kiK9mZfMgMTs0bDAwzAu3LAkg80AUvC/wC05H46+IHhPQtD0lpbTUG1KHUZ2kB+zS2wgICkcOpE6nI9R717xXmejfArRtF1LQNSiv799T0i4ublblnXM3nhBKjADG0+XHwOm0V6ZQAUUUUAFFFFABRRRQAUUUUAFFFFABRRRQAUUUUAFFFFABRRRQAUUUUAFFFFABRRRQAUUUUAFFFFABRRRQAUUUUAFFFFABRRRQAUUUUAFFFFABRRRQAUUUUAFFFFABRRRQAUUUUAFFFFABRRRQAlLRRQAlFFFABS0UUAFFFFABRRRQAUUUUAFFFFABRRRQAUUUUAFFFFABRRRQAUUUUAFFFFAH//2Q==)\n",
        "\n",
        "Link for the [original image](https://stats.stackexchange.com/questions/351638/random-sampling-methods-for-handling-class-imbalance)."
      ]
    },
    {
      "cell_type": "markdown",
      "metadata": {
        "id": "Qrr8URJ6_yZK"
      },
      "source": [
        "## Motivation\n",
        "Imbalanced data (for classification problems) occurs when there is a presence of a minority class. Models built from imbalanced data can result in biased predictions or misleading accuracy.\n",
        "\n"
      ]
    },
    {
      "cell_type": "code",
      "metadata": {
        "id": "g_IRG8JY0S0Y"
      },
      "source": [
        "# this is to get rid of some annoying future warnings\n",
        "import warnings\n",
        "warnings.simplefilter(action='ignore', category=FutureWarning)"
      ],
      "execution_count": null,
      "outputs": []
    },
    {
      "cell_type": "code",
      "metadata": {
        "id": "yLq2WfCxvgRT"
      },
      "source": [
        "import pandas as pd\n",
        "import numpy as np\n",
        "from collections import Counter"
      ],
      "execution_count": null,
      "outputs": []
    },
    {
      "cell_type": "markdown",
      "metadata": {
        "id": "Z4zKhAykt44c"
      },
      "source": [
        "# An Imbalanced Dataset\n",
        "The original loan dataset came from an Analytics Vidhya challenge."
      ]
    },
    {
      "cell_type": "code",
      "metadata": {
        "colab": {
          "base_uri": "https://localhost:8080/"
        },
        "id": "vE4361_JvUum",
        "outputId": "e681b889-1e6d-4028-c105-07a17bed8fc7"
      },
      "source": [
        "df = pd.read_csv('https://raw.githubusercontent.com/shrikant-temburwar/Loan-Prediction-Dataset/master/train.csv')\n",
        "df.head()"
      ],
      "execution_count": null,
      "outputs": [
        {
          "output_type": "execute_result",
          "data": {
            "text/plain": [
              "    Loan_ID Gender Married Dependents     Education Self_Employed  \\\n",
              "0  LP001002   Male      No          0      Graduate            No   \n",
              "1  LP001003   Male     Yes          1      Graduate            No   \n",
              "2  LP001005   Male     Yes          0      Graduate           Yes   \n",
              "3  LP001006   Male     Yes          0  Not Graduate            No   \n",
              "4  LP001008   Male      No          0      Graduate            No   \n",
              "\n",
              "   ApplicantIncome  CoapplicantIncome  LoanAmount  Loan_Amount_Term  \\\n",
              "0             5849                0.0         NaN             360.0   \n",
              "1             4583             1508.0       128.0             360.0   \n",
              "2             3000                0.0        66.0             360.0   \n",
              "3             2583             2358.0       120.0             360.0   \n",
              "4             6000                0.0       141.0             360.0   \n",
              "\n",
              "   Credit_History Property_Area Loan_Status  \n",
              "0             1.0         Urban           Y  \n",
              "1             1.0         Rural           N  \n",
              "2             1.0         Urban           Y  \n",
              "3             1.0         Urban           Y  \n",
              "4             1.0         Urban           Y  "
            ],
            "text/html": [
              "\n",
              "  <div id=\"df-5e0d3ab3-bb3f-49f9-8b5f-ad02830dca34\">\n",
              "    <div class=\"colab-df-container\">\n",
              "      <div>\n",
              "<style scoped>\n",
              "    .dataframe tbody tr th:only-of-type {\n",
              "        vertical-align: middle;\n",
              "    }\n",
              "\n",
              "    .dataframe tbody tr th {\n",
              "        vertical-align: top;\n",
              "    }\n",
              "\n",
              "    .dataframe thead th {\n",
              "        text-align: right;\n",
              "    }\n",
              "</style>\n",
              "<table border=\"1\" class=\"dataframe\">\n",
              "  <thead>\n",
              "    <tr style=\"text-align: right;\">\n",
              "      <th></th>\n",
              "      <th>Loan_ID</th>\n",
              "      <th>Gender</th>\n",
              "      <th>Married</th>\n",
              "      <th>Dependents</th>\n",
              "      <th>Education</th>\n",
              "      <th>Self_Employed</th>\n",
              "      <th>ApplicantIncome</th>\n",
              "      <th>CoapplicantIncome</th>\n",
              "      <th>LoanAmount</th>\n",
              "      <th>Loan_Amount_Term</th>\n",
              "      <th>Credit_History</th>\n",
              "      <th>Property_Area</th>\n",
              "      <th>Loan_Status</th>\n",
              "    </tr>\n",
              "  </thead>\n",
              "  <tbody>\n",
              "    <tr>\n",
              "      <th>0</th>\n",
              "      <td>LP001002</td>\n",
              "      <td>Male</td>\n",
              "      <td>No</td>\n",
              "      <td>0</td>\n",
              "      <td>Graduate</td>\n",
              "      <td>No</td>\n",
              "      <td>5849</td>\n",
              "      <td>0.0</td>\n",
              "      <td>NaN</td>\n",
              "      <td>360.0</td>\n",
              "      <td>1.0</td>\n",
              "      <td>Urban</td>\n",
              "      <td>Y</td>\n",
              "    </tr>\n",
              "    <tr>\n",
              "      <th>1</th>\n",
              "      <td>LP001003</td>\n",
              "      <td>Male</td>\n",
              "      <td>Yes</td>\n",
              "      <td>1</td>\n",
              "      <td>Graduate</td>\n",
              "      <td>No</td>\n",
              "      <td>4583</td>\n",
              "      <td>1508.0</td>\n",
              "      <td>128.0</td>\n",
              "      <td>360.0</td>\n",
              "      <td>1.0</td>\n",
              "      <td>Rural</td>\n",
              "      <td>N</td>\n",
              "    </tr>\n",
              "    <tr>\n",
              "      <th>2</th>\n",
              "      <td>LP001005</td>\n",
              "      <td>Male</td>\n",
              "      <td>Yes</td>\n",
              "      <td>0</td>\n",
              "      <td>Graduate</td>\n",
              "      <td>Yes</td>\n",
              "      <td>3000</td>\n",
              "      <td>0.0</td>\n",
              "      <td>66.0</td>\n",
              "      <td>360.0</td>\n",
              "      <td>1.0</td>\n",
              "      <td>Urban</td>\n",
              "      <td>Y</td>\n",
              "    </tr>\n",
              "    <tr>\n",
              "      <th>3</th>\n",
              "      <td>LP001006</td>\n",
              "      <td>Male</td>\n",
              "      <td>Yes</td>\n",
              "      <td>0</td>\n",
              "      <td>Not Graduate</td>\n",
              "      <td>No</td>\n",
              "      <td>2583</td>\n",
              "      <td>2358.0</td>\n",
              "      <td>120.0</td>\n",
              "      <td>360.0</td>\n",
              "      <td>1.0</td>\n",
              "      <td>Urban</td>\n",
              "      <td>Y</td>\n",
              "    </tr>\n",
              "    <tr>\n",
              "      <th>4</th>\n",
              "      <td>LP001008</td>\n",
              "      <td>Male</td>\n",
              "      <td>No</td>\n",
              "      <td>0</td>\n",
              "      <td>Graduate</td>\n",
              "      <td>No</td>\n",
              "      <td>6000</td>\n",
              "      <td>0.0</td>\n",
              "      <td>141.0</td>\n",
              "      <td>360.0</td>\n",
              "      <td>1.0</td>\n",
              "      <td>Urban</td>\n",
              "      <td>Y</td>\n",
              "    </tr>\n",
              "  </tbody>\n",
              "</table>\n",
              "</div>\n",
              "      <button class=\"colab-df-convert\" onclick=\"convertToInteractive('df-5e0d3ab3-bb3f-49f9-8b5f-ad02830dca34')\"\n",
              "              title=\"Convert this dataframe to an interactive table.\"\n",
              "              style=\"display:none;\">\n",
              "        \n",
              "  <svg xmlns=\"http://www.w3.org/2000/svg\" height=\"24px\"viewBox=\"0 0 24 24\"\n",
              "       width=\"24px\">\n",
              "    <path d=\"M0 0h24v24H0V0z\" fill=\"none\"/>\n",
              "    <path d=\"M18.56 5.44l.94 2.06.94-2.06 2.06-.94-2.06-.94-.94-2.06-.94 2.06-2.06.94zm-11 1L8.5 8.5l.94-2.06 2.06-.94-2.06-.94L8.5 2.5l-.94 2.06-2.06.94zm10 10l.94 2.06.94-2.06 2.06-.94-2.06-.94-.94-2.06-.94 2.06-2.06.94z\"/><path d=\"M17.41 7.96l-1.37-1.37c-.4-.4-.92-.59-1.43-.59-.52 0-1.04.2-1.43.59L10.3 9.45l-7.72 7.72c-.78.78-.78 2.05 0 2.83L4 21.41c.39.39.9.59 1.41.59.51 0 1.02-.2 1.41-.59l7.78-7.78 2.81-2.81c.8-.78.8-2.07 0-2.86zM5.41 20L4 18.59l7.72-7.72 1.47 1.35L5.41 20z\"/>\n",
              "  </svg>\n",
              "      </button>\n",
              "      \n",
              "  <style>\n",
              "    .colab-df-container {\n",
              "      display:flex;\n",
              "      flex-wrap:wrap;\n",
              "      gap: 12px;\n",
              "    }\n",
              "\n",
              "    .colab-df-convert {\n",
              "      background-color: #E8F0FE;\n",
              "      border: none;\n",
              "      border-radius: 50%;\n",
              "      cursor: pointer;\n",
              "      display: none;\n",
              "      fill: #1967D2;\n",
              "      height: 32px;\n",
              "      padding: 0 0 0 0;\n",
              "      width: 32px;\n",
              "    }\n",
              "\n",
              "    .colab-df-convert:hover {\n",
              "      background-color: #E2EBFA;\n",
              "      box-shadow: 0px 1px 2px rgba(60, 64, 67, 0.3), 0px 1px 3px 1px rgba(60, 64, 67, 0.15);\n",
              "      fill: #174EA6;\n",
              "    }\n",
              "\n",
              "    [theme=dark] .colab-df-convert {\n",
              "      background-color: #3B4455;\n",
              "      fill: #D2E3FC;\n",
              "    }\n",
              "\n",
              "    [theme=dark] .colab-df-convert:hover {\n",
              "      background-color: #434B5C;\n",
              "      box-shadow: 0px 1px 3px 1px rgba(0, 0, 0, 0.15);\n",
              "      filter: drop-shadow(0px 1px 2px rgba(0, 0, 0, 0.3));\n",
              "      fill: #FFFFFF;\n",
              "    }\n",
              "  </style>\n",
              "\n",
              "      <script>\n",
              "        const buttonEl =\n",
              "          document.querySelector('#df-5e0d3ab3-bb3f-49f9-8b5f-ad02830dca34 button.colab-df-convert');\n",
              "        buttonEl.style.display =\n",
              "          google.colab.kernel.accessAllowed ? 'block' : 'none';\n",
              "\n",
              "        async function convertToInteractive(key) {\n",
              "          const element = document.querySelector('#df-5e0d3ab3-bb3f-49f9-8b5f-ad02830dca34');\n",
              "          const dataTable =\n",
              "            await google.colab.kernel.invokeFunction('convertToInteractive',\n",
              "                                                     [key], {});\n",
              "          if (!dataTable) return;\n",
              "\n",
              "          const docLinkHtml = 'Like what you see? Visit the ' +\n",
              "            '<a target=\"_blank\" href=https://colab.research.google.com/notebooks/data_table.ipynb>data table notebook</a>'\n",
              "            + ' to learn more about interactive tables.';\n",
              "          element.innerHTML = '';\n",
              "          dataTable['output_type'] = 'display_data';\n",
              "          await google.colab.output.renderOutput(dataTable, element);\n",
              "          const docLink = document.createElement('div');\n",
              "          docLink.innerHTML = docLinkHtml;\n",
              "          element.appendChild(docLink);\n",
              "        }\n",
              "      </script>\n",
              "    </div>\n",
              "  </div>\n",
              "  "
            ]
          },
          "metadata": {},
          "execution_count": 3
        }
      ]
    },
    {
      "cell_type": "markdown",
      "metadata": {
        "id": "DF8DuXOPx9J2"
      },
      "source": [
        "Let's just quickly drop that annoying ID column."
      ]
    },
    {
      "cell_type": "code",
      "metadata": {
        "colab": {
          "base_uri": "https://localhost:8080/"
        },
        "id": "G-Rz01RJyGdq",
        "outputId": "61bb4a6f-268d-46ef-fc5a-b1fc2f53b2f3"
      },
      "source": [
        "df.drop('Loan_ID', axis=1, inplace=True)\n",
        "df.shape"
      ],
      "execution_count": null,
      "outputs": [
        {
          "output_type": "execute_result",
          "data": {
            "text/plain": [
              "(614, 12)"
            ]
          },
          "metadata": {},
          "execution_count": 4
        }
      ]
    },
    {
      "cell_type": "markdown",
      "metadata": {
        "id": "1HqrdSxUzs8v"
      },
      "source": [
        "And let's see if there are any missing values - there are, so we drop them for simplicity right now."
      ]
    },
    {
      "cell_type": "code",
      "metadata": {
        "colab": {
          "base_uri": "https://localhost:8080/"
        },
        "id": "XkC5d1JrzefS",
        "outputId": "c4ae79b6-dd5e-410e-c63c-559dcb959094"
      },
      "source": [
        "#check for missing values\n",
        "df.isna().sum()"
      ],
      "execution_count": null,
      "outputs": [
        {
          "output_type": "execute_result",
          "data": {
            "text/plain": [
              "Gender               13\n",
              "Married               3\n",
              "Dependents           15\n",
              "Education             0\n",
              "Self_Employed        32\n",
              "ApplicantIncome       0\n",
              "CoapplicantIncome     0\n",
              "LoanAmount           22\n",
              "Loan_Amount_Term     14\n",
              "Credit_History       50\n",
              "Property_Area         0\n",
              "Loan_Status           0\n",
              "dtype: int64"
            ]
          },
          "metadata": {},
          "execution_count": 5
        }
      ]
    },
    {
      "cell_type": "code",
      "metadata": {
        "colab": {
          "base_uri": "https://localhost:8080/"
        },
        "id": "PG2bi7Zpzx6v",
        "outputId": "f8e9db81-a14f-4cc7-ac37-24a1d5732eb9"
      },
      "source": [
        "df.dropna(inplace=True, axis=0)\n",
        "print(df.shape) # eek, we lost quite a few rows!"
      ],
      "execution_count": null,
      "outputs": [
        {
          "output_type": "stream",
          "name": "stdout",
          "text": [
            "(480, 12)\n"
          ]
        }
      ]
    },
    {
      "cell_type": "markdown",
      "metadata": {
        "id": "2rhi7UruyWf4"
      },
      "source": [
        "Now let's check for the class distribution of the target variable."
      ]
    },
    {
      "cell_type": "code",
      "metadata": {
        "colab": {
          "base_uri": "https://localhost:8080/"
        },
        "id": "wUvL0asLvj8O",
        "outputId": "fe2bdddc-a714-4342-b970-abc9fb123ae4"
      },
      "source": [
        "df['Loan_Status'].value_counts() # imbalanced! uses pandas"
      ],
      "execution_count": null,
      "outputs": [
        {
          "output_type": "execute_result",
          "data": {
            "text/plain": [
              "Y    332\n",
              "N    148\n",
              "Name: Loan_Status, dtype: int64"
            ]
          },
          "metadata": {},
          "execution_count": 7
        }
      ]
    },
    {
      "cell_type": "code",
      "metadata": {
        "colab": {
          "base_uri": "https://localhost:8080/"
        },
        "id": "PpXytH1tv-dk",
        "outputId": "11be937e-e906-487f-be0e-20895cd9ca73"
      },
      "source": [
        "Counter(df['Loan_Status']) # same result! uses Counter"
      ],
      "execution_count": null,
      "outputs": [
        {
          "output_type": "execute_result",
          "data": {
            "text/plain": [
              "Counter({'N': 148, 'Y': 332})"
            ]
          },
          "metadata": {},
          "execution_count": 8
        }
      ]
    },
    {
      "cell_type": "markdown",
      "metadata": {
        "id": "hdK_DS5sq6wL"
      },
      "source": [
        "The reason why this is an imbalanced dataset is because there are more of one category vs. another - it's important noting that there is no emotional context of majority and minority class - the minority class is the class that has less rows!"
      ]
    },
    {
      "cell_type": "markdown",
      "metadata": {
        "id": "R_sq4rGItpQo"
      },
      "source": [
        "# Balanced Sampling (by hand - random undersampling of majority class)\n",
        "\n",
        "Before learning about the excellent `imblearn` library, you are going to learn how to break this out by hand.\n",
        "\n",
        "There are 148 samples in the minority class (N) and 332 in the majority class. The first and easiest method is to randomly grab and equal matching of observations from each class - 148 Y and 148 N. Then simply discard the remaining observations OR use them as a test to see how well your model performs."
      ]
    },
    {
      "cell_type": "code",
      "metadata": {
        "colab": {
          "base_uri": "https://localhost:8080/"
        },
        "id": "b-gWsXC5s2O1",
        "outputId": "501b8bac-28f2-4481-abd7-f41ac33bdd88"
      },
      "source": [
        "# grab all of the Ns\n",
        "N_df = df[df['Loan_Status']=='N']\n",
        "print(N_df.shape)"
      ],
      "execution_count": null,
      "outputs": [
        {
          "output_type": "stream",
          "name": "stdout",
          "text": [
            "(148, 12)\n"
          ]
        }
      ]
    },
    {
      "cell_type": "code",
      "metadata": {
        "colab": {
          "base_uri": "https://localhost:8080/"
        },
        "id": "hyo8nqPSwpBD",
        "outputId": "710f35ba-6afc-4f4a-deb9-1454fdc9b0b7"
      },
      "source": [
        "# grab all of the Ys\n",
        "Y_df = df[df['Loan_Status']=='Y']\n",
        "print(Y_df.shape)"
      ],
      "execution_count": null,
      "outputs": [
        {
          "output_type": "stream",
          "name": "stdout",
          "text": [
            "(332, 12)\n"
          ]
        }
      ]
    },
    {
      "cell_type": "code",
      "metadata": {
        "colab": {
          "base_uri": "https://localhost:8080/"
        },
        "id": "yOMBvUeSw0rt",
        "outputId": "2e2c1ef8-1afa-42eb-e229-0dbfb6f87adb"
      },
      "source": [
        "# grab a RANDOM matching number of rows, WITHOUT replacement\n",
        "# we will name this a different name\n",
        "Y_subset_df = Y_df.sample(n=N_df.shape[0], replace=False)\n",
        "print(Y_subset_df.shape)"
      ],
      "execution_count": null,
      "outputs": [
        {
          "output_type": "stream",
          "name": "stdout",
          "text": [
            "(148, 12)\n"
          ]
        }
      ]
    },
    {
      "cell_type": "code",
      "source": [
        "Y_subset_df.head()"
      ],
      "metadata": {
        "colab": {
          "base_uri": "https://localhost:8080/",
          "height": 287
        },
        "id": "dOptotbJj3xM",
        "outputId": "1bfeb395-0382-4ab3-fabe-6801af6bcebb"
      },
      "execution_count": null,
      "outputs": [
        {
          "output_type": "execute_result",
          "data": {
            "text/plain": [
              "     Gender Married Dependents     Education Self_Employed  ApplicantIncome  \\\n",
              "213    Male     Yes         3+  Not Graduate           Yes             5703   \n",
              "224    Male     Yes          0      Graduate            No             6250   \n",
              "608    Male     Yes          0      Graduate            No             3232   \n",
              "91     Male     Yes          2      Graduate            No             6250   \n",
              "255  Female      No         3+      Graduate            No             3083   \n",
              "\n",
              "     CoapplicantIncome  LoanAmount  Loan_Amount_Term  Credit_History  \\\n",
              "213                0.0       130.0             360.0             1.0   \n",
              "224                0.0       128.0             360.0             1.0   \n",
              "608             1950.0       108.0             360.0             1.0   \n",
              "91              5654.0       188.0             180.0             1.0   \n",
              "255                0.0       255.0             360.0             1.0   \n",
              "\n",
              "    Property_Area Loan_Status  \n",
              "213         Rural           Y  \n",
              "224     Semiurban           Y  \n",
              "608         Rural           Y  \n",
              "91      Semiurban           Y  \n",
              "255         Rural           Y  "
            ],
            "text/html": [
              "\n",
              "  <div id=\"df-30a153a4-046b-4483-89c3-e8707c49e87d\">\n",
              "    <div class=\"colab-df-container\">\n",
              "      <div>\n",
              "<style scoped>\n",
              "    .dataframe tbody tr th:only-of-type {\n",
              "        vertical-align: middle;\n",
              "    }\n",
              "\n",
              "    .dataframe tbody tr th {\n",
              "        vertical-align: top;\n",
              "    }\n",
              "\n",
              "    .dataframe thead th {\n",
              "        text-align: right;\n",
              "    }\n",
              "</style>\n",
              "<table border=\"1\" class=\"dataframe\">\n",
              "  <thead>\n",
              "    <tr style=\"text-align: right;\">\n",
              "      <th></th>\n",
              "      <th>Gender</th>\n",
              "      <th>Married</th>\n",
              "      <th>Dependents</th>\n",
              "      <th>Education</th>\n",
              "      <th>Self_Employed</th>\n",
              "      <th>ApplicantIncome</th>\n",
              "      <th>CoapplicantIncome</th>\n",
              "      <th>LoanAmount</th>\n",
              "      <th>Loan_Amount_Term</th>\n",
              "      <th>Credit_History</th>\n",
              "      <th>Property_Area</th>\n",
              "      <th>Loan_Status</th>\n",
              "    </tr>\n",
              "  </thead>\n",
              "  <tbody>\n",
              "    <tr>\n",
              "      <th>213</th>\n",
              "      <td>Male</td>\n",
              "      <td>Yes</td>\n",
              "      <td>3+</td>\n",
              "      <td>Not Graduate</td>\n",
              "      <td>Yes</td>\n",
              "      <td>5703</td>\n",
              "      <td>0.0</td>\n",
              "      <td>130.0</td>\n",
              "      <td>360.0</td>\n",
              "      <td>1.0</td>\n",
              "      <td>Rural</td>\n",
              "      <td>Y</td>\n",
              "    </tr>\n",
              "    <tr>\n",
              "      <th>224</th>\n",
              "      <td>Male</td>\n",
              "      <td>Yes</td>\n",
              "      <td>0</td>\n",
              "      <td>Graduate</td>\n",
              "      <td>No</td>\n",
              "      <td>6250</td>\n",
              "      <td>0.0</td>\n",
              "      <td>128.0</td>\n",
              "      <td>360.0</td>\n",
              "      <td>1.0</td>\n",
              "      <td>Semiurban</td>\n",
              "      <td>Y</td>\n",
              "    </tr>\n",
              "    <tr>\n",
              "      <th>608</th>\n",
              "      <td>Male</td>\n",
              "      <td>Yes</td>\n",
              "      <td>0</td>\n",
              "      <td>Graduate</td>\n",
              "      <td>No</td>\n",
              "      <td>3232</td>\n",
              "      <td>1950.0</td>\n",
              "      <td>108.0</td>\n",
              "      <td>360.0</td>\n",
              "      <td>1.0</td>\n",
              "      <td>Rural</td>\n",
              "      <td>Y</td>\n",
              "    </tr>\n",
              "    <tr>\n",
              "      <th>91</th>\n",
              "      <td>Male</td>\n",
              "      <td>Yes</td>\n",
              "      <td>2</td>\n",
              "      <td>Graduate</td>\n",
              "      <td>No</td>\n",
              "      <td>6250</td>\n",
              "      <td>5654.0</td>\n",
              "      <td>188.0</td>\n",
              "      <td>180.0</td>\n",
              "      <td>1.0</td>\n",
              "      <td>Semiurban</td>\n",
              "      <td>Y</td>\n",
              "    </tr>\n",
              "    <tr>\n",
              "      <th>255</th>\n",
              "      <td>Female</td>\n",
              "      <td>No</td>\n",
              "      <td>3+</td>\n",
              "      <td>Graduate</td>\n",
              "      <td>No</td>\n",
              "      <td>3083</td>\n",
              "      <td>0.0</td>\n",
              "      <td>255.0</td>\n",
              "      <td>360.0</td>\n",
              "      <td>1.0</td>\n",
              "      <td>Rural</td>\n",
              "      <td>Y</td>\n",
              "    </tr>\n",
              "  </tbody>\n",
              "</table>\n",
              "</div>\n",
              "      <button class=\"colab-df-convert\" onclick=\"convertToInteractive('df-30a153a4-046b-4483-89c3-e8707c49e87d')\"\n",
              "              title=\"Convert this dataframe to an interactive table.\"\n",
              "              style=\"display:none;\">\n",
              "        \n",
              "  <svg xmlns=\"http://www.w3.org/2000/svg\" height=\"24px\"viewBox=\"0 0 24 24\"\n",
              "       width=\"24px\">\n",
              "    <path d=\"M0 0h24v24H0V0z\" fill=\"none\"/>\n",
              "    <path d=\"M18.56 5.44l.94 2.06.94-2.06 2.06-.94-2.06-.94-.94-2.06-.94 2.06-2.06.94zm-11 1L8.5 8.5l.94-2.06 2.06-.94-2.06-.94L8.5 2.5l-.94 2.06-2.06.94zm10 10l.94 2.06.94-2.06 2.06-.94-2.06-.94-.94-2.06-.94 2.06-2.06.94z\"/><path d=\"M17.41 7.96l-1.37-1.37c-.4-.4-.92-.59-1.43-.59-.52 0-1.04.2-1.43.59L10.3 9.45l-7.72 7.72c-.78.78-.78 2.05 0 2.83L4 21.41c.39.39.9.59 1.41.59.51 0 1.02-.2 1.41-.59l7.78-7.78 2.81-2.81c.8-.78.8-2.07 0-2.86zM5.41 20L4 18.59l7.72-7.72 1.47 1.35L5.41 20z\"/>\n",
              "  </svg>\n",
              "      </button>\n",
              "      \n",
              "  <style>\n",
              "    .colab-df-container {\n",
              "      display:flex;\n",
              "      flex-wrap:wrap;\n",
              "      gap: 12px;\n",
              "    }\n",
              "\n",
              "    .colab-df-convert {\n",
              "      background-color: #E8F0FE;\n",
              "      border: none;\n",
              "      border-radius: 50%;\n",
              "      cursor: pointer;\n",
              "      display: none;\n",
              "      fill: #1967D2;\n",
              "      height: 32px;\n",
              "      padding: 0 0 0 0;\n",
              "      width: 32px;\n",
              "    }\n",
              "\n",
              "    .colab-df-convert:hover {\n",
              "      background-color: #E2EBFA;\n",
              "      box-shadow: 0px 1px 2px rgba(60, 64, 67, 0.3), 0px 1px 3px 1px rgba(60, 64, 67, 0.15);\n",
              "      fill: #174EA6;\n",
              "    }\n",
              "\n",
              "    [theme=dark] .colab-df-convert {\n",
              "      background-color: #3B4455;\n",
              "      fill: #D2E3FC;\n",
              "    }\n",
              "\n",
              "    [theme=dark] .colab-df-convert:hover {\n",
              "      background-color: #434B5C;\n",
              "      box-shadow: 0px 1px 3px 1px rgba(0, 0, 0, 0.15);\n",
              "      filter: drop-shadow(0px 1px 2px rgba(0, 0, 0, 0.3));\n",
              "      fill: #FFFFFF;\n",
              "    }\n",
              "  </style>\n",
              "\n",
              "      <script>\n",
              "        const buttonEl =\n",
              "          document.querySelector('#df-30a153a4-046b-4483-89c3-e8707c49e87d button.colab-df-convert');\n",
              "        buttonEl.style.display =\n",
              "          google.colab.kernel.accessAllowed ? 'block' : 'none';\n",
              "\n",
              "        async function convertToInteractive(key) {\n",
              "          const element = document.querySelector('#df-30a153a4-046b-4483-89c3-e8707c49e87d');\n",
              "          const dataTable =\n",
              "            await google.colab.kernel.invokeFunction('convertToInteractive',\n",
              "                                                     [key], {});\n",
              "          if (!dataTable) return;\n",
              "\n",
              "          const docLinkHtml = 'Like what you see? Visit the ' +\n",
              "            '<a target=\"_blank\" href=https://colab.research.google.com/notebooks/data_table.ipynb>data table notebook</a>'\n",
              "            + ' to learn more about interactive tables.';\n",
              "          element.innerHTML = '';\n",
              "          dataTable['output_type'] = 'display_data';\n",
              "          await google.colab.output.renderOutput(dataTable, element);\n",
              "          const docLink = document.createElement('div');\n",
              "          docLink.innerHTML = docLinkHtml;\n",
              "          element.appendChild(docLink);\n",
              "        }\n",
              "      </script>\n",
              "    </div>\n",
              "  </div>\n",
              "  "
            ]
          },
          "metadata": {},
          "execution_count": 17
        }
      ]
    },
    {
      "cell_type": "markdown",
      "metadata": {
        "id": "-MQJj4SnxLTl"
      },
      "source": [
        "Great! That all lines up. Now you could just push the two datasets together (and maybe shuffle for good luck...) and then you could split into X and Y."
      ]
    },
    {
      "cell_type": "code",
      "metadata": {
        "colab": {
          "base_uri": "https://localhost:8080/"
        },
        "id": "OtqAMYgCxSCM",
        "outputId": "61de27e2-ef1f-4f8a-dc2f-2b3e0e41cc51"
      },
      "source": [
        "balanced_df = N_df.append(Y_subset_df)\n",
        "print(balanced_df.shape) # voila!"
      ],
      "execution_count": null,
      "outputs": [
        {
          "output_type": "stream",
          "name": "stdout",
          "text": [
            "(296, 12)\n"
          ]
        }
      ]
    },
    {
      "cell_type": "code",
      "metadata": {
        "id": "vcCCDD5t1v9w",
        "colab": {
          "base_uri": "https://localhost:8080/"
        },
        "outputId": "40d1c03b-816e-4a5f-85e6-a71a3eabed2f"
      },
      "source": [
        "148*2 # check your work"
      ],
      "execution_count": null,
      "outputs": [
        {
          "output_type": "execute_result",
          "data": {
            "text/plain": [
              "296"
            ]
          },
          "metadata": {},
          "execution_count": 13
        }
      ]
    },
    {
      "cell_type": "markdown",
      "metadata": {
        "id": "yqlusq10xhhb"
      },
      "source": [
        "* **Pro:** you have a balanced dataset, easy to implement.\n",
        "* **Con:** if you only have a few rows, then perhaps you are not going to learn enough for the rows that are available - you may be ignoring important information."
      ]
    },
    {
      "cell_type": "markdown",
      "metadata": {
        "id": "r9_xXc4gzACY"
      },
      "source": [
        "# Split data into X and Y\n",
        "The above example was to get your feet wet - now let's split the original data into X and Y and utilize the `imblearn` package."
      ]
    },
    {
      "cell_type": "code",
      "metadata": {
        "colab": {
          "base_uri": "https://localhost:8080/"
        },
        "id": "6kJPOjEpzPmn",
        "outputId": "6265bd5a-63cd-4266-a3e3-0290d19a6e8e"
      },
      "source": [
        "y = df['Loan_Status']\n",
        "X = df.drop('Loan_Status', axis=1)\n",
        "print(X.shape, y.shape)"
      ],
      "execution_count": null,
      "outputs": [
        {
          "output_type": "stream",
          "name": "stdout",
          "text": [
            "(480, 11) (480,)\n"
          ]
        }
      ]
    },
    {
      "cell_type": "markdown",
      "metadata": {
        "id": "GAwAI-JMs5LQ"
      },
      "source": [
        "# Random Undersampling (the majority class)\n",
        "**Random Undersampling:** Randomly delete examples in the majority class.\n",
        "\n",
        "Note the difference in `sampling_strategy` below - it's to undersample the MAJORITY class."
      ]
    },
    {
      "cell_type": "code",
      "metadata": {
        "id": "GFY6Kwla1emH"
      },
      "source": [
        "# example of random oversampling to balance the class distribution\n",
        "from collections import Counter\n",
        "from sklearn.datasets import make_classification\n",
        "from imblearn.under_sampling import RandomUnderSampler"
      ],
      "execution_count": null,
      "outputs": []
    },
    {
      "cell_type": "code",
      "metadata": {
        "colab": {
          "base_uri": "https://localhost:8080/"
        },
        "id": "02WHBXBb1emN",
        "outputId": "afbf4c61-fc43-49b7-be5b-98ee53ad1d43"
      },
      "source": [
        "# define oversampling strategy\n",
        "undersample = RandomUnderSampler(sampling_strategy='majority')\n",
        "# fit and apply the transform\n",
        "X_under, y_under = undersample.fit_resample(X, y)\n",
        "# summarize class distribution\n",
        "print(Counter(y_under))"
      ],
      "execution_count": null,
      "outputs": [
        {
          "output_type": "stream",
          "name": "stdout",
          "text": [
            "Counter({'N': 148, 'Y': 148})\n"
          ]
        }
      ]
    },
    {
      "cell_type": "markdown",
      "source": [
        "Before performing random undersampling, you want to:\n",
        "* Make sure any categorical variables are dummy values or label encoded\n",
        "* Save a chunk of data on the side before performing any sampling/manipulation\n",
        "  * It's important to have this chunk on the side so you are confident that the accuracy you report on the balanced sample will be the same as (consistent with) the holdout chunk.\n",
        "* Then perform any sampling strategy (random undersampling)\n",
        "* Split your sampled data in train/test, fit a model, then evaluate on test AND your holdout sample (with original distribution of the data)."
      ],
      "metadata": {
        "id": "L17Sljczm2G3"
      }
    },
    {
      "cell_type": "code",
      "source": [
        "X_under"
      ],
      "metadata": {
        "colab": {
          "base_uri": "https://localhost:8080/",
          "height": 488
        },
        "id": "Yq9nQ-zMmwHV",
        "outputId": "db43f6b9-ddfc-4b2f-8b59-06eb31da51fe"
      },
      "execution_count": null,
      "outputs": [
        {
          "output_type": "execute_result",
          "data": {
            "text/plain": [
              "     Gender Married Dependents Education Self_Employed  ApplicantIncome  \\\n",
              "0      Male     Yes          1  Graduate            No             4583   \n",
              "1      Male     Yes         3+  Graduate            No             3036   \n",
              "2      Male     Yes          1  Graduate            No            12841   \n",
              "3      Male      No          0  Graduate            No             1853   \n",
              "4    Female      No          0  Graduate            No             3510   \n",
              "..      ...     ...        ...       ...           ...              ...   \n",
              "291    Male      No          0  Graduate            No             1926   \n",
              "292    Male     Yes         3+  Graduate            No             4106   \n",
              "293    Male     Yes          0  Graduate            No             9323   \n",
              "294  Female      No          1  Graduate            No            13262   \n",
              "295    Male      No          1  Graduate            No             4384   \n",
              "\n",
              "     CoapplicantIncome  LoanAmount  Loan_Amount_Term  Credit_History  \\\n",
              "0               1508.0       128.0             360.0             1.0   \n",
              "1               2504.0       158.0             360.0             0.0   \n",
              "2              10968.0       349.0             360.0             1.0   \n",
              "3               2840.0       114.0             360.0             1.0   \n",
              "4                  0.0        76.0             360.0             0.0   \n",
              "..                 ...         ...               ...             ...   \n",
              "291             1851.0        50.0             360.0             1.0   \n",
              "292                0.0        40.0             180.0             1.0   \n",
              "293                0.0        75.0             180.0             1.0   \n",
              "294                0.0        40.0             360.0             1.0   \n",
              "295             1793.0       117.0             360.0             1.0   \n",
              "\n",
              "    Property_Area  \n",
              "0           Rural  \n",
              "1       Semiurban  \n",
              "2       Semiurban  \n",
              "3           Rural  \n",
              "4           Urban  \n",
              "..            ...  \n",
              "291     Semiurban  \n",
              "292         Rural  \n",
              "293         Urban  \n",
              "294         Urban  \n",
              "295         Urban  \n",
              "\n",
              "[296 rows x 11 columns]"
            ],
            "text/html": [
              "\n",
              "  <div id=\"df-9fd3f26b-797c-4483-b5d4-a0cb2a0c47f2\">\n",
              "    <div class=\"colab-df-container\">\n",
              "      <div>\n",
              "<style scoped>\n",
              "    .dataframe tbody tr th:only-of-type {\n",
              "        vertical-align: middle;\n",
              "    }\n",
              "\n",
              "    .dataframe tbody tr th {\n",
              "        vertical-align: top;\n",
              "    }\n",
              "\n",
              "    .dataframe thead th {\n",
              "        text-align: right;\n",
              "    }\n",
              "</style>\n",
              "<table border=\"1\" class=\"dataframe\">\n",
              "  <thead>\n",
              "    <tr style=\"text-align: right;\">\n",
              "      <th></th>\n",
              "      <th>Gender</th>\n",
              "      <th>Married</th>\n",
              "      <th>Dependents</th>\n",
              "      <th>Education</th>\n",
              "      <th>Self_Employed</th>\n",
              "      <th>ApplicantIncome</th>\n",
              "      <th>CoapplicantIncome</th>\n",
              "      <th>LoanAmount</th>\n",
              "      <th>Loan_Amount_Term</th>\n",
              "      <th>Credit_History</th>\n",
              "      <th>Property_Area</th>\n",
              "    </tr>\n",
              "  </thead>\n",
              "  <tbody>\n",
              "    <tr>\n",
              "      <th>0</th>\n",
              "      <td>Male</td>\n",
              "      <td>Yes</td>\n",
              "      <td>1</td>\n",
              "      <td>Graduate</td>\n",
              "      <td>No</td>\n",
              "      <td>4583</td>\n",
              "      <td>1508.0</td>\n",
              "      <td>128.0</td>\n",
              "      <td>360.0</td>\n",
              "      <td>1.0</td>\n",
              "      <td>Rural</td>\n",
              "    </tr>\n",
              "    <tr>\n",
              "      <th>1</th>\n",
              "      <td>Male</td>\n",
              "      <td>Yes</td>\n",
              "      <td>3+</td>\n",
              "      <td>Graduate</td>\n",
              "      <td>No</td>\n",
              "      <td>3036</td>\n",
              "      <td>2504.0</td>\n",
              "      <td>158.0</td>\n",
              "      <td>360.0</td>\n",
              "      <td>0.0</td>\n",
              "      <td>Semiurban</td>\n",
              "    </tr>\n",
              "    <tr>\n",
              "      <th>2</th>\n",
              "      <td>Male</td>\n",
              "      <td>Yes</td>\n",
              "      <td>1</td>\n",
              "      <td>Graduate</td>\n",
              "      <td>No</td>\n",
              "      <td>12841</td>\n",
              "      <td>10968.0</td>\n",
              "      <td>349.0</td>\n",
              "      <td>360.0</td>\n",
              "      <td>1.0</td>\n",
              "      <td>Semiurban</td>\n",
              "    </tr>\n",
              "    <tr>\n",
              "      <th>3</th>\n",
              "      <td>Male</td>\n",
              "      <td>No</td>\n",
              "      <td>0</td>\n",
              "      <td>Graduate</td>\n",
              "      <td>No</td>\n",
              "      <td>1853</td>\n",
              "      <td>2840.0</td>\n",
              "      <td>114.0</td>\n",
              "      <td>360.0</td>\n",
              "      <td>1.0</td>\n",
              "      <td>Rural</td>\n",
              "    </tr>\n",
              "    <tr>\n",
              "      <th>4</th>\n",
              "      <td>Female</td>\n",
              "      <td>No</td>\n",
              "      <td>0</td>\n",
              "      <td>Graduate</td>\n",
              "      <td>No</td>\n",
              "      <td>3510</td>\n",
              "      <td>0.0</td>\n",
              "      <td>76.0</td>\n",
              "      <td>360.0</td>\n",
              "      <td>0.0</td>\n",
              "      <td>Urban</td>\n",
              "    </tr>\n",
              "    <tr>\n",
              "      <th>...</th>\n",
              "      <td>...</td>\n",
              "      <td>...</td>\n",
              "      <td>...</td>\n",
              "      <td>...</td>\n",
              "      <td>...</td>\n",
              "      <td>...</td>\n",
              "      <td>...</td>\n",
              "      <td>...</td>\n",
              "      <td>...</td>\n",
              "      <td>...</td>\n",
              "      <td>...</td>\n",
              "    </tr>\n",
              "    <tr>\n",
              "      <th>291</th>\n",
              "      <td>Male</td>\n",
              "      <td>No</td>\n",
              "      <td>0</td>\n",
              "      <td>Graduate</td>\n",
              "      <td>No</td>\n",
              "      <td>1926</td>\n",
              "      <td>1851.0</td>\n",
              "      <td>50.0</td>\n",
              "      <td>360.0</td>\n",
              "      <td>1.0</td>\n",
              "      <td>Semiurban</td>\n",
              "    </tr>\n",
              "    <tr>\n",
              "      <th>292</th>\n",
              "      <td>Male</td>\n",
              "      <td>Yes</td>\n",
              "      <td>3+</td>\n",
              "      <td>Graduate</td>\n",
              "      <td>No</td>\n",
              "      <td>4106</td>\n",
              "      <td>0.0</td>\n",
              "      <td>40.0</td>\n",
              "      <td>180.0</td>\n",
              "      <td>1.0</td>\n",
              "      <td>Rural</td>\n",
              "    </tr>\n",
              "    <tr>\n",
              "      <th>293</th>\n",
              "      <td>Male</td>\n",
              "      <td>Yes</td>\n",
              "      <td>0</td>\n",
              "      <td>Graduate</td>\n",
              "      <td>No</td>\n",
              "      <td>9323</td>\n",
              "      <td>0.0</td>\n",
              "      <td>75.0</td>\n",
              "      <td>180.0</td>\n",
              "      <td>1.0</td>\n",
              "      <td>Urban</td>\n",
              "    </tr>\n",
              "    <tr>\n",
              "      <th>294</th>\n",
              "      <td>Female</td>\n",
              "      <td>No</td>\n",
              "      <td>1</td>\n",
              "      <td>Graduate</td>\n",
              "      <td>No</td>\n",
              "      <td>13262</td>\n",
              "      <td>0.0</td>\n",
              "      <td>40.0</td>\n",
              "      <td>360.0</td>\n",
              "      <td>1.0</td>\n",
              "      <td>Urban</td>\n",
              "    </tr>\n",
              "    <tr>\n",
              "      <th>295</th>\n",
              "      <td>Male</td>\n",
              "      <td>No</td>\n",
              "      <td>1</td>\n",
              "      <td>Graduate</td>\n",
              "      <td>No</td>\n",
              "      <td>4384</td>\n",
              "      <td>1793.0</td>\n",
              "      <td>117.0</td>\n",
              "      <td>360.0</td>\n",
              "      <td>1.0</td>\n",
              "      <td>Urban</td>\n",
              "    </tr>\n",
              "  </tbody>\n",
              "</table>\n",
              "<p>296 rows × 11 columns</p>\n",
              "</div>\n",
              "      <button class=\"colab-df-convert\" onclick=\"convertToInteractive('df-9fd3f26b-797c-4483-b5d4-a0cb2a0c47f2')\"\n",
              "              title=\"Convert this dataframe to an interactive table.\"\n",
              "              style=\"display:none;\">\n",
              "        \n",
              "  <svg xmlns=\"http://www.w3.org/2000/svg\" height=\"24px\"viewBox=\"0 0 24 24\"\n",
              "       width=\"24px\">\n",
              "    <path d=\"M0 0h24v24H0V0z\" fill=\"none\"/>\n",
              "    <path d=\"M18.56 5.44l.94 2.06.94-2.06 2.06-.94-2.06-.94-.94-2.06-.94 2.06-2.06.94zm-11 1L8.5 8.5l.94-2.06 2.06-.94-2.06-.94L8.5 2.5l-.94 2.06-2.06.94zm10 10l.94 2.06.94-2.06 2.06-.94-2.06-.94-.94-2.06-.94 2.06-2.06.94z\"/><path d=\"M17.41 7.96l-1.37-1.37c-.4-.4-.92-.59-1.43-.59-.52 0-1.04.2-1.43.59L10.3 9.45l-7.72 7.72c-.78.78-.78 2.05 0 2.83L4 21.41c.39.39.9.59 1.41.59.51 0 1.02-.2 1.41-.59l7.78-7.78 2.81-2.81c.8-.78.8-2.07 0-2.86zM5.41 20L4 18.59l7.72-7.72 1.47 1.35L5.41 20z\"/>\n",
              "  </svg>\n",
              "      </button>\n",
              "      \n",
              "  <style>\n",
              "    .colab-df-container {\n",
              "      display:flex;\n",
              "      flex-wrap:wrap;\n",
              "      gap: 12px;\n",
              "    }\n",
              "\n",
              "    .colab-df-convert {\n",
              "      background-color: #E8F0FE;\n",
              "      border: none;\n",
              "      border-radius: 50%;\n",
              "      cursor: pointer;\n",
              "      display: none;\n",
              "      fill: #1967D2;\n",
              "      height: 32px;\n",
              "      padding: 0 0 0 0;\n",
              "      width: 32px;\n",
              "    }\n",
              "\n",
              "    .colab-df-convert:hover {\n",
              "      background-color: #E2EBFA;\n",
              "      box-shadow: 0px 1px 2px rgba(60, 64, 67, 0.3), 0px 1px 3px 1px rgba(60, 64, 67, 0.15);\n",
              "      fill: #174EA6;\n",
              "    }\n",
              "\n",
              "    [theme=dark] .colab-df-convert {\n",
              "      background-color: #3B4455;\n",
              "      fill: #D2E3FC;\n",
              "    }\n",
              "\n",
              "    [theme=dark] .colab-df-convert:hover {\n",
              "      background-color: #434B5C;\n",
              "      box-shadow: 0px 1px 3px 1px rgba(0, 0, 0, 0.15);\n",
              "      filter: drop-shadow(0px 1px 2px rgba(0, 0, 0, 0.3));\n",
              "      fill: #FFFFFF;\n",
              "    }\n",
              "  </style>\n",
              "\n",
              "      <script>\n",
              "        const buttonEl =\n",
              "          document.querySelector('#df-9fd3f26b-797c-4483-b5d4-a0cb2a0c47f2 button.colab-df-convert');\n",
              "        buttonEl.style.display =\n",
              "          google.colab.kernel.accessAllowed ? 'block' : 'none';\n",
              "\n",
              "        async function convertToInteractive(key) {\n",
              "          const element = document.querySelector('#df-9fd3f26b-797c-4483-b5d4-a0cb2a0c47f2');\n",
              "          const dataTable =\n",
              "            await google.colab.kernel.invokeFunction('convertToInteractive',\n",
              "                                                     [key], {});\n",
              "          if (!dataTable) return;\n",
              "\n",
              "          const docLinkHtml = 'Like what you see? Visit the ' +\n",
              "            '<a target=\"_blank\" href=https://colab.research.google.com/notebooks/data_table.ipynb>data table notebook</a>'\n",
              "            + ' to learn more about interactive tables.';\n",
              "          element.innerHTML = '';\n",
              "          dataTable['output_type'] = 'display_data';\n",
              "          await google.colab.output.renderOutput(dataTable, element);\n",
              "          const docLink = document.createElement('div');\n",
              "          docLink.innerHTML = docLinkHtml;\n",
              "          element.appendChild(docLink);\n",
              "        }\n",
              "      </script>\n",
              "    </div>\n",
              "  </div>\n",
              "  "
            ]
          },
          "metadata": {},
          "execution_count": 21
        }
      ]
    }
  ]
}