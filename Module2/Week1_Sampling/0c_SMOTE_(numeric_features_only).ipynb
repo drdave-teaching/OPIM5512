{
  "nbformat": 4,
  "nbformat_minor": 0,
  "metadata": {
    "colab": {
      "provenance": [],
      "toc_visible": true
    },
    "kernelspec": {
      "name": "python3",
      "display_name": "Python 3"
    }
  },
  "cells": [
    {
      "cell_type": "markdown",
      "metadata": {
        "id": "bxe2Dlt_o9zq"
      },
      "source": [
        "# SMOTE (numeric features only)\n",
        "**OPIM 5512: Data Science Using Python - University of Connecticut**\n",
        "\n",
        "-----------------------------------------------\n",
        "Let's show how you can implement SMOTE by hand and by using the excellent `imblearn` library."
      ]
    },
    {
      "cell_type": "markdown",
      "metadata": {
        "id": "FjTcKNypjdHW"
      },
      "source": [
        "# Import modules and read data"
      ]
    },
    {
      "cell_type": "code",
      "metadata": {
        "id": "JEFNaW_vtlF6"
      },
      "source": [
        "# this is to get rid of some annoying future warnings\n",
        "import warnings\n",
        "warnings.simplefilter(action='ignore', category=FutureWarning)\n",
        "\n",
        "# the usual suspects...\n",
        "import pandas as pd\n",
        "import numpy as np\n",
        "import matplotlib.pyplot as plt\n",
        "\n",
        "# for our nearest neighbor algorithm\n",
        "from sklearn.neighbors import NearestNeighbors\n",
        "# random number generator\n",
        "import random\n",
        "# counter\n",
        "from collections import Counter\n"
      ],
      "execution_count": null,
      "outputs": []
    },
    {
      "cell_type": "code",
      "source": [
        "# https://drive.google.com/file/d/1zhcJY3KXP6dcsaTla0X7EmTsVSx1jTrV/view?usp=sharing\n",
        "!gdown 1zhcJY3KXP6dcsaTla0X7EmTsVSx1jTrV"
      ],
      "metadata": {
        "colab": {
          "base_uri": "https://localhost:8080/"
        },
        "id": "MsTxj5Fi2846",
        "outputId": "69b989b8-b22b-4883-f3c9-a405df30df24"
      },
      "execution_count": null,
      "outputs": [
        {
          "output_type": "stream",
          "name": "stdout",
          "text": [
            "Downloading...\n",
            "From: https://drive.google.com/uc?id=1zhcJY3KXP6dcsaTla0X7EmTsVSx1jTrV\n",
            "To: /content/housing_simple_DTR.csv\n",
            "\r  0% 0.00/12.4k [00:00<?, ?B/s]\r100% 12.4k/12.4k [00:00<00:00, 9.96MB/s]\n"
          ]
        }
      ]
    },
    {
      "cell_type": "code",
      "metadata": {
        "colab": {
          "base_uri": "https://localhost:8080/",
          "height": 397
        },
        "id": "jRV5qglRjWE6",
        "outputId": "1270a4e2-5716-4cae-fee6-6c5253b54c4d"
      },
      "source": [
        "# mount your drive on the left\n",
        "df = pd.read_csv('housing_simple_DTR.csv')\n",
        "df.info()\n",
        "df.head()"
      ],
      "execution_count": null,
      "outputs": [
        {
          "output_type": "stream",
          "name": "stdout",
          "text": [
            "<class 'pandas.core.frame.DataFrame'>\n",
            "RangeIndex: 489 entries, 0 to 488\n",
            "Data columns (total 4 columns):\n",
            " #   Column   Non-Null Count  Dtype  \n",
            "---  ------   --------------  -----  \n",
            " 0   RM       489 non-null    float64\n",
            " 1   LSTAT    489 non-null    float64\n",
            " 2   PTRATIO  489 non-null    float64\n",
            " 3   MEDV     489 non-null    float64\n",
            "dtypes: float64(4)\n",
            "memory usage: 15.4 KB\n"
          ]
        },
        {
          "output_type": "execute_result",
          "data": {
            "text/plain": [
              "      RM  LSTAT  PTRATIO      MEDV\n",
              "0  6.575   4.98     15.3  504000.0\n",
              "1  6.421   9.14     17.8  453600.0\n",
              "2  7.185   4.03     17.8  728700.0\n",
              "3  6.998   2.94     18.7  701400.0\n",
              "4  7.147   5.33     18.7  760200.0"
            ],
            "text/html": [
              "\n",
              "  <div id=\"df-06d5f8c0-df26-41b8-a4db-a86a8987a23e\">\n",
              "    <div class=\"colab-df-container\">\n",
              "      <div>\n",
              "<style scoped>\n",
              "    .dataframe tbody tr th:only-of-type {\n",
              "        vertical-align: middle;\n",
              "    }\n",
              "\n",
              "    .dataframe tbody tr th {\n",
              "        vertical-align: top;\n",
              "    }\n",
              "\n",
              "    .dataframe thead th {\n",
              "        text-align: right;\n",
              "    }\n",
              "</style>\n",
              "<table border=\"1\" class=\"dataframe\">\n",
              "  <thead>\n",
              "    <tr style=\"text-align: right;\">\n",
              "      <th></th>\n",
              "      <th>RM</th>\n",
              "      <th>LSTAT</th>\n",
              "      <th>PTRATIO</th>\n",
              "      <th>MEDV</th>\n",
              "    </tr>\n",
              "  </thead>\n",
              "  <tbody>\n",
              "    <tr>\n",
              "      <th>0</th>\n",
              "      <td>6.575</td>\n",
              "      <td>4.98</td>\n",
              "      <td>15.3</td>\n",
              "      <td>504000.0</td>\n",
              "    </tr>\n",
              "    <tr>\n",
              "      <th>1</th>\n",
              "      <td>6.421</td>\n",
              "      <td>9.14</td>\n",
              "      <td>17.8</td>\n",
              "      <td>453600.0</td>\n",
              "    </tr>\n",
              "    <tr>\n",
              "      <th>2</th>\n",
              "      <td>7.185</td>\n",
              "      <td>4.03</td>\n",
              "      <td>17.8</td>\n",
              "      <td>728700.0</td>\n",
              "    </tr>\n",
              "    <tr>\n",
              "      <th>3</th>\n",
              "      <td>6.998</td>\n",
              "      <td>2.94</td>\n",
              "      <td>18.7</td>\n",
              "      <td>701400.0</td>\n",
              "    </tr>\n",
              "    <tr>\n",
              "      <th>4</th>\n",
              "      <td>7.147</td>\n",
              "      <td>5.33</td>\n",
              "      <td>18.7</td>\n",
              "      <td>760200.0</td>\n",
              "    </tr>\n",
              "  </tbody>\n",
              "</table>\n",
              "</div>\n",
              "      <button class=\"colab-df-convert\" onclick=\"convertToInteractive('df-06d5f8c0-df26-41b8-a4db-a86a8987a23e')\"\n",
              "              title=\"Convert this dataframe to an interactive table.\"\n",
              "              style=\"display:none;\">\n",
              "        \n",
              "  <svg xmlns=\"http://www.w3.org/2000/svg\" height=\"24px\"viewBox=\"0 0 24 24\"\n",
              "       width=\"24px\">\n",
              "    <path d=\"M0 0h24v24H0V0z\" fill=\"none\"/>\n",
              "    <path d=\"M18.56 5.44l.94 2.06.94-2.06 2.06-.94-2.06-.94-.94-2.06-.94 2.06-2.06.94zm-11 1L8.5 8.5l.94-2.06 2.06-.94-2.06-.94L8.5 2.5l-.94 2.06-2.06.94zm10 10l.94 2.06.94-2.06 2.06-.94-2.06-.94-.94-2.06-.94 2.06-2.06.94z\"/><path d=\"M17.41 7.96l-1.37-1.37c-.4-.4-.92-.59-1.43-.59-.52 0-1.04.2-1.43.59L10.3 9.45l-7.72 7.72c-.78.78-.78 2.05 0 2.83L4 21.41c.39.39.9.59 1.41.59.51 0 1.02-.2 1.41-.59l7.78-7.78 2.81-2.81c.8-.78.8-2.07 0-2.86zM5.41 20L4 18.59l7.72-7.72 1.47 1.35L5.41 20z\"/>\n",
              "  </svg>\n",
              "      </button>\n",
              "      \n",
              "  <style>\n",
              "    .colab-df-container {\n",
              "      display:flex;\n",
              "      flex-wrap:wrap;\n",
              "      gap: 12px;\n",
              "    }\n",
              "\n",
              "    .colab-df-convert {\n",
              "      background-color: #E8F0FE;\n",
              "      border: none;\n",
              "      border-radius: 50%;\n",
              "      cursor: pointer;\n",
              "      display: none;\n",
              "      fill: #1967D2;\n",
              "      height: 32px;\n",
              "      padding: 0 0 0 0;\n",
              "      width: 32px;\n",
              "    }\n",
              "\n",
              "    .colab-df-convert:hover {\n",
              "      background-color: #E2EBFA;\n",
              "      box-shadow: 0px 1px 2px rgba(60, 64, 67, 0.3), 0px 1px 3px 1px rgba(60, 64, 67, 0.15);\n",
              "      fill: #174EA6;\n",
              "    }\n",
              "\n",
              "    [theme=dark] .colab-df-convert {\n",
              "      background-color: #3B4455;\n",
              "      fill: #D2E3FC;\n",
              "    }\n",
              "\n",
              "    [theme=dark] .colab-df-convert:hover {\n",
              "      background-color: #434B5C;\n",
              "      box-shadow: 0px 1px 3px 1px rgba(0, 0, 0, 0.15);\n",
              "      filter: drop-shadow(0px 1px 2px rgba(0, 0, 0, 0.3));\n",
              "      fill: #FFFFFF;\n",
              "    }\n",
              "  </style>\n",
              "\n",
              "      <script>\n",
              "        const buttonEl =\n",
              "          document.querySelector('#df-06d5f8c0-df26-41b8-a4db-a86a8987a23e button.colab-df-convert');\n",
              "        buttonEl.style.display =\n",
              "          google.colab.kernel.accessAllowed ? 'block' : 'none';\n",
              "\n",
              "        async function convertToInteractive(key) {\n",
              "          const element = document.querySelector('#df-06d5f8c0-df26-41b8-a4db-a86a8987a23e');\n",
              "          const dataTable =\n",
              "            await google.colab.kernel.invokeFunction('convertToInteractive',\n",
              "                                                     [key], {});\n",
              "          if (!dataTable) return;\n",
              "\n",
              "          const docLinkHtml = 'Like what you see? Visit the ' +\n",
              "            '<a target=\"_blank\" href=https://colab.research.google.com/notebooks/data_table.ipynb>data table notebook</a>'\n",
              "            + ' to learn more about interactive tables.';\n",
              "          element.innerHTML = '';\n",
              "          dataTable['output_type'] = 'display_data';\n",
              "          await google.colab.output.renderOutput(dataTable, element);\n",
              "          const docLink = document.createElement('div');\n",
              "          docLink.innerHTML = docLinkHtml;\n",
              "          element.appendChild(docLink);\n",
              "        }\n",
              "      </script>\n",
              "    </div>\n",
              "  </div>\n",
              "  "
            ]
          },
          "metadata": {},
          "execution_count": 3
        }
      ]
    },
    {
      "cell_type": "markdown",
      "metadata": {
        "id": "B1lGX2NPjtoo"
      },
      "source": [
        "Because we are using SMOTE and it's for regression, let's recode the target variable to be 0/1."
      ]
    },
    {
      "cell_type": "code",
      "metadata": {
        "colab": {
          "base_uri": "https://localhost:8080/",
          "height": 206
        },
        "id": "Lv-YfK1hjzob",
        "outputId": "695e1388-392f-477c-9b6f-c95b939b5282"
      },
      "source": [
        "# recoding in place - if greater than the median, it gets a 1, otherwise a 0\n",
        "df['MEDV'] = np.where(df['MEDV']>np.mean(df['MEDV']), 1, 0)\n",
        "df.head() # voila!"
      ],
      "execution_count": null,
      "outputs": [
        {
          "output_type": "execute_result",
          "data": {
            "text/plain": [
              "      RM  LSTAT  PTRATIO  MEDV\n",
              "0  6.575   4.98     15.3     1\n",
              "1  6.421   9.14     17.8     0\n",
              "2  7.185   4.03     17.8     1\n",
              "3  6.998   2.94     18.7     1\n",
              "4  7.147   5.33     18.7     1"
            ],
            "text/html": [
              "\n",
              "  <div id=\"df-1173d62c-c34d-4b59-8dfe-71b5acdff0c3\">\n",
              "    <div class=\"colab-df-container\">\n",
              "      <div>\n",
              "<style scoped>\n",
              "    .dataframe tbody tr th:only-of-type {\n",
              "        vertical-align: middle;\n",
              "    }\n",
              "\n",
              "    .dataframe tbody tr th {\n",
              "        vertical-align: top;\n",
              "    }\n",
              "\n",
              "    .dataframe thead th {\n",
              "        text-align: right;\n",
              "    }\n",
              "</style>\n",
              "<table border=\"1\" class=\"dataframe\">\n",
              "  <thead>\n",
              "    <tr style=\"text-align: right;\">\n",
              "      <th></th>\n",
              "      <th>RM</th>\n",
              "      <th>LSTAT</th>\n",
              "      <th>PTRATIO</th>\n",
              "      <th>MEDV</th>\n",
              "    </tr>\n",
              "  </thead>\n",
              "  <tbody>\n",
              "    <tr>\n",
              "      <th>0</th>\n",
              "      <td>6.575</td>\n",
              "      <td>4.98</td>\n",
              "      <td>15.3</td>\n",
              "      <td>1</td>\n",
              "    </tr>\n",
              "    <tr>\n",
              "      <th>1</th>\n",
              "      <td>6.421</td>\n",
              "      <td>9.14</td>\n",
              "      <td>17.8</td>\n",
              "      <td>0</td>\n",
              "    </tr>\n",
              "    <tr>\n",
              "      <th>2</th>\n",
              "      <td>7.185</td>\n",
              "      <td>4.03</td>\n",
              "      <td>17.8</td>\n",
              "      <td>1</td>\n",
              "    </tr>\n",
              "    <tr>\n",
              "      <th>3</th>\n",
              "      <td>6.998</td>\n",
              "      <td>2.94</td>\n",
              "      <td>18.7</td>\n",
              "      <td>1</td>\n",
              "    </tr>\n",
              "    <tr>\n",
              "      <th>4</th>\n",
              "      <td>7.147</td>\n",
              "      <td>5.33</td>\n",
              "      <td>18.7</td>\n",
              "      <td>1</td>\n",
              "    </tr>\n",
              "  </tbody>\n",
              "</table>\n",
              "</div>\n",
              "      <button class=\"colab-df-convert\" onclick=\"convertToInteractive('df-1173d62c-c34d-4b59-8dfe-71b5acdff0c3')\"\n",
              "              title=\"Convert this dataframe to an interactive table.\"\n",
              "              style=\"display:none;\">\n",
              "        \n",
              "  <svg xmlns=\"http://www.w3.org/2000/svg\" height=\"24px\"viewBox=\"0 0 24 24\"\n",
              "       width=\"24px\">\n",
              "    <path d=\"M0 0h24v24H0V0z\" fill=\"none\"/>\n",
              "    <path d=\"M18.56 5.44l.94 2.06.94-2.06 2.06-.94-2.06-.94-.94-2.06-.94 2.06-2.06.94zm-11 1L8.5 8.5l.94-2.06 2.06-.94-2.06-.94L8.5 2.5l-.94 2.06-2.06.94zm10 10l.94 2.06.94-2.06 2.06-.94-2.06-.94-.94-2.06-.94 2.06-2.06.94z\"/><path d=\"M17.41 7.96l-1.37-1.37c-.4-.4-.92-.59-1.43-.59-.52 0-1.04.2-1.43.59L10.3 9.45l-7.72 7.72c-.78.78-.78 2.05 0 2.83L4 21.41c.39.39.9.59 1.41.59.51 0 1.02-.2 1.41-.59l7.78-7.78 2.81-2.81c.8-.78.8-2.07 0-2.86zM5.41 20L4 18.59l7.72-7.72 1.47 1.35L5.41 20z\"/>\n",
              "  </svg>\n",
              "      </button>\n",
              "      \n",
              "  <style>\n",
              "    .colab-df-container {\n",
              "      display:flex;\n",
              "      flex-wrap:wrap;\n",
              "      gap: 12px;\n",
              "    }\n",
              "\n",
              "    .colab-df-convert {\n",
              "      background-color: #E8F0FE;\n",
              "      border: none;\n",
              "      border-radius: 50%;\n",
              "      cursor: pointer;\n",
              "      display: none;\n",
              "      fill: #1967D2;\n",
              "      height: 32px;\n",
              "      padding: 0 0 0 0;\n",
              "      width: 32px;\n",
              "    }\n",
              "\n",
              "    .colab-df-convert:hover {\n",
              "      background-color: #E2EBFA;\n",
              "      box-shadow: 0px 1px 2px rgba(60, 64, 67, 0.3), 0px 1px 3px 1px rgba(60, 64, 67, 0.15);\n",
              "      fill: #174EA6;\n",
              "    }\n",
              "\n",
              "    [theme=dark] .colab-df-convert {\n",
              "      background-color: #3B4455;\n",
              "      fill: #D2E3FC;\n",
              "    }\n",
              "\n",
              "    [theme=dark] .colab-df-convert:hover {\n",
              "      background-color: #434B5C;\n",
              "      box-shadow: 0px 1px 3px 1px rgba(0, 0, 0, 0.15);\n",
              "      filter: drop-shadow(0px 1px 2px rgba(0, 0, 0, 0.3));\n",
              "      fill: #FFFFFF;\n",
              "    }\n",
              "  </style>\n",
              "\n",
              "      <script>\n",
              "        const buttonEl =\n",
              "          document.querySelector('#df-1173d62c-c34d-4b59-8dfe-71b5acdff0c3 button.colab-df-convert');\n",
              "        buttonEl.style.display =\n",
              "          google.colab.kernel.accessAllowed ? 'block' : 'none';\n",
              "\n",
              "        async function convertToInteractive(key) {\n",
              "          const element = document.querySelector('#df-1173d62c-c34d-4b59-8dfe-71b5acdff0c3');\n",
              "          const dataTable =\n",
              "            await google.colab.kernel.invokeFunction('convertToInteractive',\n",
              "                                                     [key], {});\n",
              "          if (!dataTable) return;\n",
              "\n",
              "          const docLinkHtml = 'Like what you see? Visit the ' +\n",
              "            '<a target=\"_blank\" href=https://colab.research.google.com/notebooks/data_table.ipynb>data table notebook</a>'\n",
              "            + ' to learn more about interactive tables.';\n",
              "          element.innerHTML = '';\n",
              "          dataTable['output_type'] = 'display_data';\n",
              "          await google.colab.output.renderOutput(dataTable, element);\n",
              "          const docLink = document.createElement('div');\n",
              "          docLink.innerHTML = docLinkHtml;\n",
              "          element.appendChild(docLink);\n",
              "        }\n",
              "      </script>\n",
              "    </div>\n",
              "  </div>\n",
              "  "
            ]
          },
          "metadata": {},
          "execution_count": 4
        }
      ]
    },
    {
      "cell_type": "code",
      "metadata": {
        "colab": {
          "base_uri": "https://localhost:8080/"
        },
        "id": "s-rheK9WlYTA",
        "outputId": "6a0cdb0d-eb4d-4f9f-8c55-7498f5f8c306"
      },
      "source": [
        "from collections import Counter\n",
        "Counter(df['MEDV'])"
      ],
      "execution_count": null,
      "outputs": [
        {
          "output_type": "execute_result",
          "data": {
            "text/plain": [
              "Counter({1: 224, 0: 265})"
            ]
          },
          "metadata": {},
          "execution_count": 5
        }
      ]
    },
    {
      "cell_type": "code",
      "metadata": {
        "id": "YT_rTdznlj5D"
      },
      "source": [
        "# in this case, the 0s are the majority class\n",
        "# and the 1s are the minority class\n",
        "# our goal is to beef up the minority class with synthetic samples of the minority class"
      ],
      "execution_count": null,
      "outputs": []
    },
    {
      "cell_type": "markdown",
      "metadata": {
        "id": "u59_8CkUkE1Y"
      },
      "source": [
        "# Math and Theory"
      ]
    },
    {
      "cell_type": "markdown",
      "metadata": {
        "id": "U-FVyRt5pjeS"
      },
      "source": [
        "Here is an image of the pseduo-code. This snipped image comes from page 9 of the original research paper - which you can [view here](https://www.jair.org/index.php/jair/article/view/10302).\n",
        "\n",
        "![SMOTE_pseudocode.PNG](data:image/png;base64,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)"
      ]
    },
    {
      "cell_type": "markdown",
      "metadata": {
        "id": "l_ZjC6DIkx1u"
      },
      "source": [
        "What do we see? You are going to\n",
        "1. Pick a row of interest from the minority class. Call it `home`.\n",
        "2. Find the 5 closest neighbors to the row of interest.\n",
        "3. Randomly pick one of those five nearest neighbor rows. Call it `neighbor`.\n",
        "4. For each numeric column, simply subtract the two rows `neighbor - interest`. Call this vector `dif`.\n",
        "5. Pick a random number between 0 and 1. Call it `gap`.\n",
        "6. Your new synthetic sample will be `home` + `gap` * `dif`. It is a (fake) row that lies randomly between `home` and `neighbor`!\n",
        "\n",
        "That's it! Repeat this until you have a matching number of majority and minority class records.\n",
        "\n",
        "Keep in mind that the original implementation of SMOTE only works for numeric features! This makes sense because you are subtracting rows - how could you subtract categories?!\n",
        "\n",
        "In the future, you will learn about an extension to SMOTE called SMOTENC that allows you to account for numeric and categorical features - it simply picks the most common category among the neighbors - more on that later."
      ]
    },
    {
      "cell_type": "markdown",
      "metadata": {
        "id": "4KSgPj6wkG5f"
      },
      "source": [
        "# An example of SMOTE (by hand)\n",
        "Using the same terminology as above... I will work this out for you!"
      ]
    },
    {
      "cell_type": "markdown",
      "metadata": {
        "id": "Owv7dBBVkcVn"
      },
      "source": [
        "Split the data into X and y."
      ]
    },
    {
      "cell_type": "code",
      "metadata": {
        "colab": {
          "base_uri": "https://localhost:8080/",
          "height": 424
        },
        "id": "cF9vXV9OkeON",
        "outputId": "d60551ff-a0db-442d-d69e-23273391a22a"
      },
      "source": [
        "X = df.drop('MEDV', axis=1)\n",
        "X # these are our NUMERIC features"
      ],
      "execution_count": null,
      "outputs": [
        {
          "output_type": "execute_result",
          "data": {
            "text/plain": [
              "        RM  LSTAT  PTRATIO\n",
              "0    6.575   4.98     15.3\n",
              "1    6.421   9.14     17.8\n",
              "2    7.185   4.03     17.8\n",
              "3    6.998   2.94     18.7\n",
              "4    7.147   5.33     18.7\n",
              "..     ...    ...      ...\n",
              "484  6.593   9.67     21.0\n",
              "485  6.120   9.08     21.0\n",
              "486  6.976   5.64     21.0\n",
              "487  6.794   6.48     21.0\n",
              "488  6.030   7.88     21.0\n",
              "\n",
              "[489 rows x 3 columns]"
            ],
            "text/html": [
              "\n",
              "  <div id=\"df-5670c9a8-6d45-468f-82d2-edbabe8573cd\">\n",
              "    <div class=\"colab-df-container\">\n",
              "      <div>\n",
              "<style scoped>\n",
              "    .dataframe tbody tr th:only-of-type {\n",
              "        vertical-align: middle;\n",
              "    }\n",
              "\n",
              "    .dataframe tbody tr th {\n",
              "        vertical-align: top;\n",
              "    }\n",
              "\n",
              "    .dataframe thead th {\n",
              "        text-align: right;\n",
              "    }\n",
              "</style>\n",
              "<table border=\"1\" class=\"dataframe\">\n",
              "  <thead>\n",
              "    <tr style=\"text-align: right;\">\n",
              "      <th></th>\n",
              "      <th>RM</th>\n",
              "      <th>LSTAT</th>\n",
              "      <th>PTRATIO</th>\n",
              "    </tr>\n",
              "  </thead>\n",
              "  <tbody>\n",
              "    <tr>\n",
              "      <th>0</th>\n",
              "      <td>6.575</td>\n",
              "      <td>4.98</td>\n",
              "      <td>15.3</td>\n",
              "    </tr>\n",
              "    <tr>\n",
              "      <th>1</th>\n",
              "      <td>6.421</td>\n",
              "      <td>9.14</td>\n",
              "      <td>17.8</td>\n",
              "    </tr>\n",
              "    <tr>\n",
              "      <th>2</th>\n",
              "      <td>7.185</td>\n",
              "      <td>4.03</td>\n",
              "      <td>17.8</td>\n",
              "    </tr>\n",
              "    <tr>\n",
              "      <th>3</th>\n",
              "      <td>6.998</td>\n",
              "      <td>2.94</td>\n",
              "      <td>18.7</td>\n",
              "    </tr>\n",
              "    <tr>\n",
              "      <th>4</th>\n",
              "      <td>7.147</td>\n",
              "      <td>5.33</td>\n",
              "      <td>18.7</td>\n",
              "    </tr>\n",
              "    <tr>\n",
              "      <th>...</th>\n",
              "      <td>...</td>\n",
              "      <td>...</td>\n",
              "      <td>...</td>\n",
              "    </tr>\n",
              "    <tr>\n",
              "      <th>484</th>\n",
              "      <td>6.593</td>\n",
              "      <td>9.67</td>\n",
              "      <td>21.0</td>\n",
              "    </tr>\n",
              "    <tr>\n",
              "      <th>485</th>\n",
              "      <td>6.120</td>\n",
              "      <td>9.08</td>\n",
              "      <td>21.0</td>\n",
              "    </tr>\n",
              "    <tr>\n",
              "      <th>486</th>\n",
              "      <td>6.976</td>\n",
              "      <td>5.64</td>\n",
              "      <td>21.0</td>\n",
              "    </tr>\n",
              "    <tr>\n",
              "      <th>487</th>\n",
              "      <td>6.794</td>\n",
              "      <td>6.48</td>\n",
              "      <td>21.0</td>\n",
              "    </tr>\n",
              "    <tr>\n",
              "      <th>488</th>\n",
              "      <td>6.030</td>\n",
              "      <td>7.88</td>\n",
              "      <td>21.0</td>\n",
              "    </tr>\n",
              "  </tbody>\n",
              "</table>\n",
              "<p>489 rows × 3 columns</p>\n",
              "</div>\n",
              "      <button class=\"colab-df-convert\" onclick=\"convertToInteractive('df-5670c9a8-6d45-468f-82d2-edbabe8573cd')\"\n",
              "              title=\"Convert this dataframe to an interactive table.\"\n",
              "              style=\"display:none;\">\n",
              "        \n",
              "  <svg xmlns=\"http://www.w3.org/2000/svg\" height=\"24px\"viewBox=\"0 0 24 24\"\n",
              "       width=\"24px\">\n",
              "    <path d=\"M0 0h24v24H0V0z\" fill=\"none\"/>\n",
              "    <path d=\"M18.56 5.44l.94 2.06.94-2.06 2.06-.94-2.06-.94-.94-2.06-.94 2.06-2.06.94zm-11 1L8.5 8.5l.94-2.06 2.06-.94-2.06-.94L8.5 2.5l-.94 2.06-2.06.94zm10 10l.94 2.06.94-2.06 2.06-.94-2.06-.94-.94-2.06-.94 2.06-2.06.94z\"/><path d=\"M17.41 7.96l-1.37-1.37c-.4-.4-.92-.59-1.43-.59-.52 0-1.04.2-1.43.59L10.3 9.45l-7.72 7.72c-.78.78-.78 2.05 0 2.83L4 21.41c.39.39.9.59 1.41.59.51 0 1.02-.2 1.41-.59l7.78-7.78 2.81-2.81c.8-.78.8-2.07 0-2.86zM5.41 20L4 18.59l7.72-7.72 1.47 1.35L5.41 20z\"/>\n",
              "  </svg>\n",
              "      </button>\n",
              "      \n",
              "  <style>\n",
              "    .colab-df-container {\n",
              "      display:flex;\n",
              "      flex-wrap:wrap;\n",
              "      gap: 12px;\n",
              "    }\n",
              "\n",
              "    .colab-df-convert {\n",
              "      background-color: #E8F0FE;\n",
              "      border: none;\n",
              "      border-radius: 50%;\n",
              "      cursor: pointer;\n",
              "      display: none;\n",
              "      fill: #1967D2;\n",
              "      height: 32px;\n",
              "      padding: 0 0 0 0;\n",
              "      width: 32px;\n",
              "    }\n",
              "\n",
              "    .colab-df-convert:hover {\n",
              "      background-color: #E2EBFA;\n",
              "      box-shadow: 0px 1px 2px rgba(60, 64, 67, 0.3), 0px 1px 3px 1px rgba(60, 64, 67, 0.15);\n",
              "      fill: #174EA6;\n",
              "    }\n",
              "\n",
              "    [theme=dark] .colab-df-convert {\n",
              "      background-color: #3B4455;\n",
              "      fill: #D2E3FC;\n",
              "    }\n",
              "\n",
              "    [theme=dark] .colab-df-convert:hover {\n",
              "      background-color: #434B5C;\n",
              "      box-shadow: 0px 1px 3px 1px rgba(0, 0, 0, 0.15);\n",
              "      filter: drop-shadow(0px 1px 2px rgba(0, 0, 0, 0.3));\n",
              "      fill: #FFFFFF;\n",
              "    }\n",
              "  </style>\n",
              "\n",
              "      <script>\n",
              "        const buttonEl =\n",
              "          document.querySelector('#df-5670c9a8-6d45-468f-82d2-edbabe8573cd button.colab-df-convert');\n",
              "        buttonEl.style.display =\n",
              "          google.colab.kernel.accessAllowed ? 'block' : 'none';\n",
              "\n",
              "        async function convertToInteractive(key) {\n",
              "          const element = document.querySelector('#df-5670c9a8-6d45-468f-82d2-edbabe8573cd');\n",
              "          const dataTable =\n",
              "            await google.colab.kernel.invokeFunction('convertToInteractive',\n",
              "                                                     [key], {});\n",
              "          if (!dataTable) return;\n",
              "\n",
              "          const docLinkHtml = 'Like what you see? Visit the ' +\n",
              "            '<a target=\"_blank\" href=https://colab.research.google.com/notebooks/data_table.ipynb>data table notebook</a>'\n",
              "            + ' to learn more about interactive tables.';\n",
              "          element.innerHTML = '';\n",
              "          dataTable['output_type'] = 'display_data';\n",
              "          await google.colab.output.renderOutput(dataTable, element);\n",
              "          const docLink = document.createElement('div');\n",
              "          docLink.innerHTML = docLinkHtml;\n",
              "          element.appendChild(docLink);\n",
              "        }\n",
              "      </script>\n",
              "    </div>\n",
              "  </div>\n",
              "  "
            ]
          },
          "metadata": {},
          "execution_count": 7
        }
      ]
    },
    {
      "cell_type": "code",
      "metadata": {
        "colab": {
          "base_uri": "https://localhost:8080/"
        },
        "id": "M-TY2JTvmq0j",
        "outputId": "74b9a418-d116-4183-9a08-781911175976"
      },
      "source": [
        "y = df['MEDV']\n",
        "y"
      ],
      "execution_count": null,
      "outputs": [
        {
          "output_type": "execute_result",
          "data": {
            "text/plain": [
              "0      1\n",
              "1      0\n",
              "2      1\n",
              "3      1\n",
              "4      1\n",
              "      ..\n",
              "484    1\n",
              "485    0\n",
              "486    1\n",
              "487    1\n",
              "488    0\n",
              "Name: MEDV, Length: 489, dtype: int64"
            ]
          },
          "metadata": {},
          "execution_count": 8
        }
      ]
    },
    {
      "cell_type": "markdown",
      "metadata": {
        "id": "7C9yl_UgsY2l"
      },
      "source": [
        "## Step 1: pick a row of interest, call it `home`"
      ]
    },
    {
      "cell_type": "code",
      "metadata": {
        "id": "g7W0W5G5oxbB",
        "colab": {
          "base_uri": "https://localhost:8080/",
          "height": 81
        },
        "outputId": "5c3c5aa3-35c9-42cb-e07e-d62bd12a7906"
      },
      "source": [
        "# pick a row of interest (we pick the first row for fun)\n",
        "home = X.loc[0:0,]\n",
        "home # here is our row"
      ],
      "execution_count": null,
      "outputs": [
        {
          "output_type": "execute_result",
          "data": {
            "text/plain": [
              "      RM  LSTAT  PTRATIO\n",
              "0  6.575   4.98     15.3"
            ],
            "text/html": [
              "\n",
              "  <div id=\"df-ce9698b2-c14f-443d-a53a-4b866c1f8c26\">\n",
              "    <div class=\"colab-df-container\">\n",
              "      <div>\n",
              "<style scoped>\n",
              "    .dataframe tbody tr th:only-of-type {\n",
              "        vertical-align: middle;\n",
              "    }\n",
              "\n",
              "    .dataframe tbody tr th {\n",
              "        vertical-align: top;\n",
              "    }\n",
              "\n",
              "    .dataframe thead th {\n",
              "        text-align: right;\n",
              "    }\n",
              "</style>\n",
              "<table border=\"1\" class=\"dataframe\">\n",
              "  <thead>\n",
              "    <tr style=\"text-align: right;\">\n",
              "      <th></th>\n",
              "      <th>RM</th>\n",
              "      <th>LSTAT</th>\n",
              "      <th>PTRATIO</th>\n",
              "    </tr>\n",
              "  </thead>\n",
              "  <tbody>\n",
              "    <tr>\n",
              "      <th>0</th>\n",
              "      <td>6.575</td>\n",
              "      <td>4.98</td>\n",
              "      <td>15.3</td>\n",
              "    </tr>\n",
              "  </tbody>\n",
              "</table>\n",
              "</div>\n",
              "      <button class=\"colab-df-convert\" onclick=\"convertToInteractive('df-ce9698b2-c14f-443d-a53a-4b866c1f8c26')\"\n",
              "              title=\"Convert this dataframe to an interactive table.\"\n",
              "              style=\"display:none;\">\n",
              "        \n",
              "  <svg xmlns=\"http://www.w3.org/2000/svg\" height=\"24px\"viewBox=\"0 0 24 24\"\n",
              "       width=\"24px\">\n",
              "    <path d=\"M0 0h24v24H0V0z\" fill=\"none\"/>\n",
              "    <path d=\"M18.56 5.44l.94 2.06.94-2.06 2.06-.94-2.06-.94-.94-2.06-.94 2.06-2.06.94zm-11 1L8.5 8.5l.94-2.06 2.06-.94-2.06-.94L8.5 2.5l-.94 2.06-2.06.94zm10 10l.94 2.06.94-2.06 2.06-.94-2.06-.94-.94-2.06-.94 2.06-2.06.94z\"/><path d=\"M17.41 7.96l-1.37-1.37c-.4-.4-.92-.59-1.43-.59-.52 0-1.04.2-1.43.59L10.3 9.45l-7.72 7.72c-.78.78-.78 2.05 0 2.83L4 21.41c.39.39.9.59 1.41.59.51 0 1.02-.2 1.41-.59l7.78-7.78 2.81-2.81c.8-.78.8-2.07 0-2.86zM5.41 20L4 18.59l7.72-7.72 1.47 1.35L5.41 20z\"/>\n",
              "  </svg>\n",
              "      </button>\n",
              "      \n",
              "  <style>\n",
              "    .colab-df-container {\n",
              "      display:flex;\n",
              "      flex-wrap:wrap;\n",
              "      gap: 12px;\n",
              "    }\n",
              "\n",
              "    .colab-df-convert {\n",
              "      background-color: #E8F0FE;\n",
              "      border: none;\n",
              "      border-radius: 50%;\n",
              "      cursor: pointer;\n",
              "      display: none;\n",
              "      fill: #1967D2;\n",
              "      height: 32px;\n",
              "      padding: 0 0 0 0;\n",
              "      width: 32px;\n",
              "    }\n",
              "\n",
              "    .colab-df-convert:hover {\n",
              "      background-color: #E2EBFA;\n",
              "      box-shadow: 0px 1px 2px rgba(60, 64, 67, 0.3), 0px 1px 3px 1px rgba(60, 64, 67, 0.15);\n",
              "      fill: #174EA6;\n",
              "    }\n",
              "\n",
              "    [theme=dark] .colab-df-convert {\n",
              "      background-color: #3B4455;\n",
              "      fill: #D2E3FC;\n",
              "    }\n",
              "\n",
              "    [theme=dark] .colab-df-convert:hover {\n",
              "      background-color: #434B5C;\n",
              "      box-shadow: 0px 1px 3px 1px rgba(0, 0, 0, 0.15);\n",
              "      filter: drop-shadow(0px 1px 2px rgba(0, 0, 0, 0.3));\n",
              "      fill: #FFFFFF;\n",
              "    }\n",
              "  </style>\n",
              "\n",
              "      <script>\n",
              "        const buttonEl =\n",
              "          document.querySelector('#df-ce9698b2-c14f-443d-a53a-4b866c1f8c26 button.colab-df-convert');\n",
              "        buttonEl.style.display =\n",
              "          google.colab.kernel.accessAllowed ? 'block' : 'none';\n",
              "\n",
              "        async function convertToInteractive(key) {\n",
              "          const element = document.querySelector('#df-ce9698b2-c14f-443d-a53a-4b866c1f8c26');\n",
              "          const dataTable =\n",
              "            await google.colab.kernel.invokeFunction('convertToInteractive',\n",
              "                                                     [key], {});\n",
              "          if (!dataTable) return;\n",
              "\n",
              "          const docLinkHtml = 'Like what you see? Visit the ' +\n",
              "            '<a target=\"_blank\" href=https://colab.research.google.com/notebooks/data_table.ipynb>data table notebook</a>'\n",
              "            + ' to learn more about interactive tables.';\n",
              "          element.innerHTML = '';\n",
              "          dataTable['output_type'] = 'display_data';\n",
              "          await google.colab.output.renderOutput(dataTable, element);\n",
              "          const docLink = document.createElement('div');\n",
              "          docLink.innerHTML = docLinkHtml;\n",
              "          element.appendChild(docLink);\n",
              "        }\n",
              "      </script>\n",
              "    </div>\n",
              "  </div>\n",
              "  "
            ]
          },
          "metadata": {},
          "execution_count": 9
        }
      ]
    },
    {
      "cell_type": "markdown",
      "metadata": {
        "id": "VKz4dWtqmyYt"
      },
      "source": [
        "### Brief refresher on k-Nearest Neighbors\n",
        "\n",
        "k-nearest neighbors is one of the most common unsupervised learning methods. Extremely powerful for both classification and regression problems.\n",
        "\n",
        "![knn in 2d space](https://miro.medium.com/max/800/1*2zYNhLc522h0zftD1zDh2g.png)\n",
        "\n",
        "**Figure:** example of k-nearest neighbors in 2D space. Our hope is that the nearest datapoints are the most descriptive.\n",
        "\n",
        "Original image source [here](https://miro.medium.com/max/800/1*2zYNhLc522h0zftD1zDh2g.png).\n"
      ]
    },
    {
      "cell_type": "markdown",
      "metadata": {
        "id": "Y78xZKSbsf-l"
      },
      "source": [
        "## Step 2: Find 5 closest neighbors\n",
        "You can play with this as a hyperparameter, but 5 is what they used in the paper... so it's the default!"
      ]
    },
    {
      "cell_type": "code",
      "metadata": {
        "colab": {
          "base_uri": "https://localhost:8080/"
        },
        "id": "T6ZPU5Q5mnL8",
        "outputId": "4e6c9bbf-e549-4055-c08a-d21d71546469"
      },
      "source": [
        "# let's find the nearest neighbors\n",
        "# the first row is itself (obvi it's the closest matching row)\n",
        "nbrs = NearestNeighbors(n_neighbors=6).fit(X)\n",
        "distances, indices = nbrs.kneighbors(X)\n",
        "indices # we see that rows 0, 186, 188, 185, 183 and 269 are the closest neighbors\n",
        "        # let's go find them!"
      ],
      "execution_count": null,
      "outputs": [
        {
          "output_type": "execute_result",
          "data": {
            "text/plain": [
              "array([[  0, 186, 188, 185, 183, 269],\n",
              "       [  1,  90, 177,  44, 228, 303],\n",
              "       [  2, 267, 220, 264, 333,  55],\n",
              "       ...,\n",
              "       [486, 487, 322, 338,  16, 339],\n",
              "       [487, 486,  16, 323, 465, 101],\n",
              "       [488,  13,  15, 101, 324, 349]])"
            ]
          },
          "metadata": {},
          "execution_count": 10
        }
      ]
    },
    {
      "cell_type": "markdown",
      "metadata": {
        "id": "9tYbuxLWoGqH"
      },
      "source": [
        "So let's go take a peek at those rows!"
      ]
    },
    {
      "cell_type": "code",
      "metadata": {
        "colab": {
          "base_uri": "https://localhost:8080/",
          "height": 206
        },
        "id": "wd2tZhCwoI9o",
        "outputId": "a99db110-249a-4c60-a5e8-0228565bcd17"
      },
      "source": [
        "neighbors = X.loc[[186, 188, 185, 183, 269]]\n",
        "neighbors"
      ],
      "execution_count": null,
      "outputs": [
        {
          "output_type": "execute_result",
          "data": {
            "text/plain": [
              "        RM  LSTAT  PTRATIO\n",
              "186  6.739   4.69     15.2\n",
              "188  6.800   5.03     15.6\n",
              "185  6.951   5.10     15.2\n",
              "183  6.556   4.56     15.2\n",
              "269  6.812   4.85     14.9"
            ],
            "text/html": [
              "\n",
              "  <div id=\"df-ab661420-8303-416e-8950-0f95b79b996d\">\n",
              "    <div class=\"colab-df-container\">\n",
              "      <div>\n",
              "<style scoped>\n",
              "    .dataframe tbody tr th:only-of-type {\n",
              "        vertical-align: middle;\n",
              "    }\n",
              "\n",
              "    .dataframe tbody tr th {\n",
              "        vertical-align: top;\n",
              "    }\n",
              "\n",
              "    .dataframe thead th {\n",
              "        text-align: right;\n",
              "    }\n",
              "</style>\n",
              "<table border=\"1\" class=\"dataframe\">\n",
              "  <thead>\n",
              "    <tr style=\"text-align: right;\">\n",
              "      <th></th>\n",
              "      <th>RM</th>\n",
              "      <th>LSTAT</th>\n",
              "      <th>PTRATIO</th>\n",
              "    </tr>\n",
              "  </thead>\n",
              "  <tbody>\n",
              "    <tr>\n",
              "      <th>186</th>\n",
              "      <td>6.739</td>\n",
              "      <td>4.69</td>\n",
              "      <td>15.2</td>\n",
              "    </tr>\n",
              "    <tr>\n",
              "      <th>188</th>\n",
              "      <td>6.800</td>\n",
              "      <td>5.03</td>\n",
              "      <td>15.6</td>\n",
              "    </tr>\n",
              "    <tr>\n",
              "      <th>185</th>\n",
              "      <td>6.951</td>\n",
              "      <td>5.10</td>\n",
              "      <td>15.2</td>\n",
              "    </tr>\n",
              "    <tr>\n",
              "      <th>183</th>\n",
              "      <td>6.556</td>\n",
              "      <td>4.56</td>\n",
              "      <td>15.2</td>\n",
              "    </tr>\n",
              "    <tr>\n",
              "      <th>269</th>\n",
              "      <td>6.812</td>\n",
              "      <td>4.85</td>\n",
              "      <td>14.9</td>\n",
              "    </tr>\n",
              "  </tbody>\n",
              "</table>\n",
              "</div>\n",
              "      <button class=\"colab-df-convert\" onclick=\"convertToInteractive('df-ab661420-8303-416e-8950-0f95b79b996d')\"\n",
              "              title=\"Convert this dataframe to an interactive table.\"\n",
              "              style=\"display:none;\">\n",
              "        \n",
              "  <svg xmlns=\"http://www.w3.org/2000/svg\" height=\"24px\"viewBox=\"0 0 24 24\"\n",
              "       width=\"24px\">\n",
              "    <path d=\"M0 0h24v24H0V0z\" fill=\"none\"/>\n",
              "    <path d=\"M18.56 5.44l.94 2.06.94-2.06 2.06-.94-2.06-.94-.94-2.06-.94 2.06-2.06.94zm-11 1L8.5 8.5l.94-2.06 2.06-.94-2.06-.94L8.5 2.5l-.94 2.06-2.06.94zm10 10l.94 2.06.94-2.06 2.06-.94-2.06-.94-.94-2.06-.94 2.06-2.06.94z\"/><path d=\"M17.41 7.96l-1.37-1.37c-.4-.4-.92-.59-1.43-.59-.52 0-1.04.2-1.43.59L10.3 9.45l-7.72 7.72c-.78.78-.78 2.05 0 2.83L4 21.41c.39.39.9.59 1.41.59.51 0 1.02-.2 1.41-.59l7.78-7.78 2.81-2.81c.8-.78.8-2.07 0-2.86zM5.41 20L4 18.59l7.72-7.72 1.47 1.35L5.41 20z\"/>\n",
              "  </svg>\n",
              "      </button>\n",
              "      \n",
              "  <style>\n",
              "    .colab-df-container {\n",
              "      display:flex;\n",
              "      flex-wrap:wrap;\n",
              "      gap: 12px;\n",
              "    }\n",
              "\n",
              "    .colab-df-convert {\n",
              "      background-color: #E8F0FE;\n",
              "      border: none;\n",
              "      border-radius: 50%;\n",
              "      cursor: pointer;\n",
              "      display: none;\n",
              "      fill: #1967D2;\n",
              "      height: 32px;\n",
              "      padding: 0 0 0 0;\n",
              "      width: 32px;\n",
              "    }\n",
              "\n",
              "    .colab-df-convert:hover {\n",
              "      background-color: #E2EBFA;\n",
              "      box-shadow: 0px 1px 2px rgba(60, 64, 67, 0.3), 0px 1px 3px 1px rgba(60, 64, 67, 0.15);\n",
              "      fill: #174EA6;\n",
              "    }\n",
              "\n",
              "    [theme=dark] .colab-df-convert {\n",
              "      background-color: #3B4455;\n",
              "      fill: #D2E3FC;\n",
              "    }\n",
              "\n",
              "    [theme=dark] .colab-df-convert:hover {\n",
              "      background-color: #434B5C;\n",
              "      box-shadow: 0px 1px 3px 1px rgba(0, 0, 0, 0.15);\n",
              "      filter: drop-shadow(0px 1px 2px rgba(0, 0, 0, 0.3));\n",
              "      fill: #FFFFFF;\n",
              "    }\n",
              "  </style>\n",
              "\n",
              "      <script>\n",
              "        const buttonEl =\n",
              "          document.querySelector('#df-ab661420-8303-416e-8950-0f95b79b996d button.colab-df-convert');\n",
              "        buttonEl.style.display =\n",
              "          google.colab.kernel.accessAllowed ? 'block' : 'none';\n",
              "\n",
              "        async function convertToInteractive(key) {\n",
              "          const element = document.querySelector('#df-ab661420-8303-416e-8950-0f95b79b996d');\n",
              "          const dataTable =\n",
              "            await google.colab.kernel.invokeFunction('convertToInteractive',\n",
              "                                                     [key], {});\n",
              "          if (!dataTable) return;\n",
              "\n",
              "          const docLinkHtml = 'Like what you see? Visit the ' +\n",
              "            '<a target=\"_blank\" href=https://colab.research.google.com/notebooks/data_table.ipynb>data table notebook</a>'\n",
              "            + ' to learn more about interactive tables.';\n",
              "          element.innerHTML = '';\n",
              "          dataTable['output_type'] = 'display_data';\n",
              "          await google.colab.output.renderOutput(dataTable, element);\n",
              "          const docLink = document.createElement('div');\n",
              "          docLink.innerHTML = docLinkHtml;\n",
              "          element.appendChild(docLink);\n",
              "        }\n",
              "      </script>\n",
              "    </div>\n",
              "  </div>\n",
              "  "
            ]
          },
          "metadata": {},
          "execution_count": 11
        }
      ]
    },
    {
      "cell_type": "markdown",
      "metadata": {
        "id": "6lZgLAyHoiXD"
      },
      "source": [
        "And how does this look vs. our row of interest, `home`?"
      ]
    },
    {
      "cell_type": "code",
      "metadata": {
        "colab": {
          "base_uri": "https://localhost:8080/",
          "height": 81
        },
        "id": "8SnjpvAHokqk",
        "outputId": "61805c85-ec8d-4f0a-a373-cacd07d99066"
      },
      "source": [
        "home # look down at the nearest neighbor!"
      ],
      "execution_count": null,
      "outputs": [
        {
          "output_type": "execute_result",
          "data": {
            "text/plain": [
              "      RM  LSTAT  PTRATIO\n",
              "0  6.575   4.98     15.3"
            ],
            "text/html": [
              "\n",
              "  <div id=\"df-6ed2aa66-0175-40ad-99ee-84c047e6ec25\">\n",
              "    <div class=\"colab-df-container\">\n",
              "      <div>\n",
              "<style scoped>\n",
              "    .dataframe tbody tr th:only-of-type {\n",
              "        vertical-align: middle;\n",
              "    }\n",
              "\n",
              "    .dataframe tbody tr th {\n",
              "        vertical-align: top;\n",
              "    }\n",
              "\n",
              "    .dataframe thead th {\n",
              "        text-align: right;\n",
              "    }\n",
              "</style>\n",
              "<table border=\"1\" class=\"dataframe\">\n",
              "  <thead>\n",
              "    <tr style=\"text-align: right;\">\n",
              "      <th></th>\n",
              "      <th>RM</th>\n",
              "      <th>LSTAT</th>\n",
              "      <th>PTRATIO</th>\n",
              "    </tr>\n",
              "  </thead>\n",
              "  <tbody>\n",
              "    <tr>\n",
              "      <th>0</th>\n",
              "      <td>6.575</td>\n",
              "      <td>4.98</td>\n",
              "      <td>15.3</td>\n",
              "    </tr>\n",
              "  </tbody>\n",
              "</table>\n",
              "</div>\n",
              "      <button class=\"colab-df-convert\" onclick=\"convertToInteractive('df-6ed2aa66-0175-40ad-99ee-84c047e6ec25')\"\n",
              "              title=\"Convert this dataframe to an interactive table.\"\n",
              "              style=\"display:none;\">\n",
              "        \n",
              "  <svg xmlns=\"http://www.w3.org/2000/svg\" height=\"24px\"viewBox=\"0 0 24 24\"\n",
              "       width=\"24px\">\n",
              "    <path d=\"M0 0h24v24H0V0z\" fill=\"none\"/>\n",
              "    <path d=\"M18.56 5.44l.94 2.06.94-2.06 2.06-.94-2.06-.94-.94-2.06-.94 2.06-2.06.94zm-11 1L8.5 8.5l.94-2.06 2.06-.94-2.06-.94L8.5 2.5l-.94 2.06-2.06.94zm10 10l.94 2.06.94-2.06 2.06-.94-2.06-.94-.94-2.06-.94 2.06-2.06.94z\"/><path d=\"M17.41 7.96l-1.37-1.37c-.4-.4-.92-.59-1.43-.59-.52 0-1.04.2-1.43.59L10.3 9.45l-7.72 7.72c-.78.78-.78 2.05 0 2.83L4 21.41c.39.39.9.59 1.41.59.51 0 1.02-.2 1.41-.59l7.78-7.78 2.81-2.81c.8-.78.8-2.07 0-2.86zM5.41 20L4 18.59l7.72-7.72 1.47 1.35L5.41 20z\"/>\n",
              "  </svg>\n",
              "      </button>\n",
              "      \n",
              "  <style>\n",
              "    .colab-df-container {\n",
              "      display:flex;\n",
              "      flex-wrap:wrap;\n",
              "      gap: 12px;\n",
              "    }\n",
              "\n",
              "    .colab-df-convert {\n",
              "      background-color: #E8F0FE;\n",
              "      border: none;\n",
              "      border-radius: 50%;\n",
              "      cursor: pointer;\n",
              "      display: none;\n",
              "      fill: #1967D2;\n",
              "      height: 32px;\n",
              "      padding: 0 0 0 0;\n",
              "      width: 32px;\n",
              "    }\n",
              "\n",
              "    .colab-df-convert:hover {\n",
              "      background-color: #E2EBFA;\n",
              "      box-shadow: 0px 1px 2px rgba(60, 64, 67, 0.3), 0px 1px 3px 1px rgba(60, 64, 67, 0.15);\n",
              "      fill: #174EA6;\n",
              "    }\n",
              "\n",
              "    [theme=dark] .colab-df-convert {\n",
              "      background-color: #3B4455;\n",
              "      fill: #D2E3FC;\n",
              "    }\n",
              "\n",
              "    [theme=dark] .colab-df-convert:hover {\n",
              "      background-color: #434B5C;\n",
              "      box-shadow: 0px 1px 3px 1px rgba(0, 0, 0, 0.15);\n",
              "      filter: drop-shadow(0px 1px 2px rgba(0, 0, 0, 0.3));\n",
              "      fill: #FFFFFF;\n",
              "    }\n",
              "  </style>\n",
              "\n",
              "      <script>\n",
              "        const buttonEl =\n",
              "          document.querySelector('#df-6ed2aa66-0175-40ad-99ee-84c047e6ec25 button.colab-df-convert');\n",
              "        buttonEl.style.display =\n",
              "          google.colab.kernel.accessAllowed ? 'block' : 'none';\n",
              "\n",
              "        async function convertToInteractive(key) {\n",
              "          const element = document.querySelector('#df-6ed2aa66-0175-40ad-99ee-84c047e6ec25');\n",
              "          const dataTable =\n",
              "            await google.colab.kernel.invokeFunction('convertToInteractive',\n",
              "                                                     [key], {});\n",
              "          if (!dataTable) return;\n",
              "\n",
              "          const docLinkHtml = 'Like what you see? Visit the ' +\n",
              "            '<a target=\"_blank\" href=https://colab.research.google.com/notebooks/data_table.ipynb>data table notebook</a>'\n",
              "            + ' to learn more about interactive tables.';\n",
              "          element.innerHTML = '';\n",
              "          dataTable['output_type'] = 'display_data';\n",
              "          await google.colab.output.renderOutput(dataTable, element);\n",
              "          const docLink = document.createElement('div');\n",
              "          docLink.innerHTML = docLinkHtml;\n",
              "          element.appendChild(docLink);\n",
              "        }\n",
              "      </script>\n",
              "    </div>\n",
              "  </div>\n",
              "  "
            ]
          },
          "metadata": {},
          "execution_count": 12
        }
      ]
    },
    {
      "cell_type": "markdown",
      "metadata": {
        "id": "_nQ4vHBmomXJ"
      },
      "source": [
        "They look SO SIMILAR! And this makes a lot of sense. And so now we will randnomly grab one row and call it `neighbor`. Don't get confused with the name `neighbors` (the five random rows) and `neighbor` (one sample row from the five rows)."
      ]
    },
    {
      "cell_type": "markdown",
      "metadata": {
        "id": "-2Wv5fwgs4w4"
      },
      "source": [
        "## Step 3: Randomly pick one of the 5 neighbors"
      ]
    },
    {
      "cell_type": "code",
      "metadata": {
        "colab": {
          "base_uri": "https://localhost:8080/",
          "height": 81
        },
        "id": "iFDHQ7zEosJ2",
        "outputId": "7c5b6e29-9906-4e89-a1e6-b246d17086d6"
      },
      "source": [
        "neighbor = neighbors.sample(1)\n",
        "neighbor # look up at the home row!"
      ],
      "execution_count": null,
      "outputs": [
        {
          "output_type": "execute_result",
          "data": {
            "text/plain": [
              "        RM  LSTAT  PTRATIO\n",
              "269  6.812   4.85     14.9"
            ],
            "text/html": [
              "\n",
              "  <div id=\"df-96e2497e-c49d-40f5-a93b-527ee67f6161\">\n",
              "    <div class=\"colab-df-container\">\n",
              "      <div>\n",
              "<style scoped>\n",
              "    .dataframe tbody tr th:only-of-type {\n",
              "        vertical-align: middle;\n",
              "    }\n",
              "\n",
              "    .dataframe tbody tr th {\n",
              "        vertical-align: top;\n",
              "    }\n",
              "\n",
              "    .dataframe thead th {\n",
              "        text-align: right;\n",
              "    }\n",
              "</style>\n",
              "<table border=\"1\" class=\"dataframe\">\n",
              "  <thead>\n",
              "    <tr style=\"text-align: right;\">\n",
              "      <th></th>\n",
              "      <th>RM</th>\n",
              "      <th>LSTAT</th>\n",
              "      <th>PTRATIO</th>\n",
              "    </tr>\n",
              "  </thead>\n",
              "  <tbody>\n",
              "    <tr>\n",
              "      <th>269</th>\n",
              "      <td>6.812</td>\n",
              "      <td>4.85</td>\n",
              "      <td>14.9</td>\n",
              "    </tr>\n",
              "  </tbody>\n",
              "</table>\n",
              "</div>\n",
              "      <button class=\"colab-df-convert\" onclick=\"convertToInteractive('df-96e2497e-c49d-40f5-a93b-527ee67f6161')\"\n",
              "              title=\"Convert this dataframe to an interactive table.\"\n",
              "              style=\"display:none;\">\n",
              "        \n",
              "  <svg xmlns=\"http://www.w3.org/2000/svg\" height=\"24px\"viewBox=\"0 0 24 24\"\n",
              "       width=\"24px\">\n",
              "    <path d=\"M0 0h24v24H0V0z\" fill=\"none\"/>\n",
              "    <path d=\"M18.56 5.44l.94 2.06.94-2.06 2.06-.94-2.06-.94-.94-2.06-.94 2.06-2.06.94zm-11 1L8.5 8.5l.94-2.06 2.06-.94-2.06-.94L8.5 2.5l-.94 2.06-2.06.94zm10 10l.94 2.06.94-2.06 2.06-.94-2.06-.94-.94-2.06-.94 2.06-2.06.94z\"/><path d=\"M17.41 7.96l-1.37-1.37c-.4-.4-.92-.59-1.43-.59-.52 0-1.04.2-1.43.59L10.3 9.45l-7.72 7.72c-.78.78-.78 2.05 0 2.83L4 21.41c.39.39.9.59 1.41.59.51 0 1.02-.2 1.41-.59l7.78-7.78 2.81-2.81c.8-.78.8-2.07 0-2.86zM5.41 20L4 18.59l7.72-7.72 1.47 1.35L5.41 20z\"/>\n",
              "  </svg>\n",
              "      </button>\n",
              "      \n",
              "  <style>\n",
              "    .colab-df-container {\n",
              "      display:flex;\n",
              "      flex-wrap:wrap;\n",
              "      gap: 12px;\n",
              "    }\n",
              "\n",
              "    .colab-df-convert {\n",
              "      background-color: #E8F0FE;\n",
              "      border: none;\n",
              "      border-radius: 50%;\n",
              "      cursor: pointer;\n",
              "      display: none;\n",
              "      fill: #1967D2;\n",
              "      height: 32px;\n",
              "      padding: 0 0 0 0;\n",
              "      width: 32px;\n",
              "    }\n",
              "\n",
              "    .colab-df-convert:hover {\n",
              "      background-color: #E2EBFA;\n",
              "      box-shadow: 0px 1px 2px rgba(60, 64, 67, 0.3), 0px 1px 3px 1px rgba(60, 64, 67, 0.15);\n",
              "      fill: #174EA6;\n",
              "    }\n",
              "\n",
              "    [theme=dark] .colab-df-convert {\n",
              "      background-color: #3B4455;\n",
              "      fill: #D2E3FC;\n",
              "    }\n",
              "\n",
              "    [theme=dark] .colab-df-convert:hover {\n",
              "      background-color: #434B5C;\n",
              "      box-shadow: 0px 1px 3px 1px rgba(0, 0, 0, 0.15);\n",
              "      filter: drop-shadow(0px 1px 2px rgba(0, 0, 0, 0.3));\n",
              "      fill: #FFFFFF;\n",
              "    }\n",
              "  </style>\n",
              "\n",
              "      <script>\n",
              "        const buttonEl =\n",
              "          document.querySelector('#df-96e2497e-c49d-40f5-a93b-527ee67f6161 button.colab-df-convert');\n",
              "        buttonEl.style.display =\n",
              "          google.colab.kernel.accessAllowed ? 'block' : 'none';\n",
              "\n",
              "        async function convertToInteractive(key) {\n",
              "          const element = document.querySelector('#df-96e2497e-c49d-40f5-a93b-527ee67f6161');\n",
              "          const dataTable =\n",
              "            await google.colab.kernel.invokeFunction('convertToInteractive',\n",
              "                                                     [key], {});\n",
              "          if (!dataTable) return;\n",
              "\n",
              "          const docLinkHtml = 'Like what you see? Visit the ' +\n",
              "            '<a target=\"_blank\" href=https://colab.research.google.com/notebooks/data_table.ipynb>data table notebook</a>'\n",
              "            + ' to learn more about interactive tables.';\n",
              "          element.innerHTML = '';\n",
              "          dataTable['output_type'] = 'display_data';\n",
              "          await google.colab.output.renderOutput(dataTable, element);\n",
              "          const docLink = document.createElement('div');\n",
              "          docLink.innerHTML = docLinkHtml;\n",
              "          element.appendChild(docLink);\n",
              "        }\n",
              "      </script>\n",
              "    </div>\n",
              "  </div>\n",
              "  "
            ]
          },
          "metadata": {},
          "execution_count": 13
        }
      ]
    },
    {
      "cell_type": "markdown",
      "metadata": {
        "id": "z8Bu7ZZas-aa"
      },
      "source": [
        "## Step 4: Subtract `home - neighbor`, call it `dist`."
      ]
    },
    {
      "cell_type": "markdown",
      "metadata": {
        "id": "kQM5eemmpGx9"
      },
      "source": [
        "Now we just subtract the two rows and call it `dist`. Then we will find a random number called `gap` between 0 and 1, and multiply it by `dist`. Then we add it to the `home` row and VOILA a new synthetic datapoint."
      ]
    },
    {
      "cell_type": "code",
      "metadata": {
        "colab": {
          "base_uri": "https://localhost:8080/",
          "height": 81
        },
        "id": "wi9ZyBxGpXq8",
        "outputId": "2a6400ab-d1a2-48c2-fc79-88578c23630b"
      },
      "source": [
        "# in order to substract these rows, we need to reset the indices\n",
        "home.reset_index(drop=True, inplace=True)\n",
        "neighbor.reset_index(drop=True, inplace=True)\n",
        "\n",
        "dist = home.subtract(neighbor)\n",
        "dist # look up! can you see the difference?"
      ],
      "execution_count": null,
      "outputs": [
        {
          "output_type": "execute_result",
          "data": {
            "text/plain": [
              "      RM  LSTAT  PTRATIO\n",
              "0 -0.237   0.13      0.4"
            ],
            "text/html": [
              "\n",
              "  <div id=\"df-70677dca-053a-43bd-ad45-8dd1c84b0576\">\n",
              "    <div class=\"colab-df-container\">\n",
              "      <div>\n",
              "<style scoped>\n",
              "    .dataframe tbody tr th:only-of-type {\n",
              "        vertical-align: middle;\n",
              "    }\n",
              "\n",
              "    .dataframe tbody tr th {\n",
              "        vertical-align: top;\n",
              "    }\n",
              "\n",
              "    .dataframe thead th {\n",
              "        text-align: right;\n",
              "    }\n",
              "</style>\n",
              "<table border=\"1\" class=\"dataframe\">\n",
              "  <thead>\n",
              "    <tr style=\"text-align: right;\">\n",
              "      <th></th>\n",
              "      <th>RM</th>\n",
              "      <th>LSTAT</th>\n",
              "      <th>PTRATIO</th>\n",
              "    </tr>\n",
              "  </thead>\n",
              "  <tbody>\n",
              "    <tr>\n",
              "      <th>0</th>\n",
              "      <td>-0.237</td>\n",
              "      <td>0.13</td>\n",
              "      <td>0.4</td>\n",
              "    </tr>\n",
              "  </tbody>\n",
              "</table>\n",
              "</div>\n",
              "      <button class=\"colab-df-convert\" onclick=\"convertToInteractive('df-70677dca-053a-43bd-ad45-8dd1c84b0576')\"\n",
              "              title=\"Convert this dataframe to an interactive table.\"\n",
              "              style=\"display:none;\">\n",
              "        \n",
              "  <svg xmlns=\"http://www.w3.org/2000/svg\" height=\"24px\"viewBox=\"0 0 24 24\"\n",
              "       width=\"24px\">\n",
              "    <path d=\"M0 0h24v24H0V0z\" fill=\"none\"/>\n",
              "    <path d=\"M18.56 5.44l.94 2.06.94-2.06 2.06-.94-2.06-.94-.94-2.06-.94 2.06-2.06.94zm-11 1L8.5 8.5l.94-2.06 2.06-.94-2.06-.94L8.5 2.5l-.94 2.06-2.06.94zm10 10l.94 2.06.94-2.06 2.06-.94-2.06-.94-.94-2.06-.94 2.06-2.06.94z\"/><path d=\"M17.41 7.96l-1.37-1.37c-.4-.4-.92-.59-1.43-.59-.52 0-1.04.2-1.43.59L10.3 9.45l-7.72 7.72c-.78.78-.78 2.05 0 2.83L4 21.41c.39.39.9.59 1.41.59.51 0 1.02-.2 1.41-.59l7.78-7.78 2.81-2.81c.8-.78.8-2.07 0-2.86zM5.41 20L4 18.59l7.72-7.72 1.47 1.35L5.41 20z\"/>\n",
              "  </svg>\n",
              "      </button>\n",
              "      \n",
              "  <style>\n",
              "    .colab-df-container {\n",
              "      display:flex;\n",
              "      flex-wrap:wrap;\n",
              "      gap: 12px;\n",
              "    }\n",
              "\n",
              "    .colab-df-convert {\n",
              "      background-color: #E8F0FE;\n",
              "      border: none;\n",
              "      border-radius: 50%;\n",
              "      cursor: pointer;\n",
              "      display: none;\n",
              "      fill: #1967D2;\n",
              "      height: 32px;\n",
              "      padding: 0 0 0 0;\n",
              "      width: 32px;\n",
              "    }\n",
              "\n",
              "    .colab-df-convert:hover {\n",
              "      background-color: #E2EBFA;\n",
              "      box-shadow: 0px 1px 2px rgba(60, 64, 67, 0.3), 0px 1px 3px 1px rgba(60, 64, 67, 0.15);\n",
              "      fill: #174EA6;\n",
              "    }\n",
              "\n",
              "    [theme=dark] .colab-df-convert {\n",
              "      background-color: #3B4455;\n",
              "      fill: #D2E3FC;\n",
              "    }\n",
              "\n",
              "    [theme=dark] .colab-df-convert:hover {\n",
              "      background-color: #434B5C;\n",
              "      box-shadow: 0px 1px 3px 1px rgba(0, 0, 0, 0.15);\n",
              "      filter: drop-shadow(0px 1px 2px rgba(0, 0, 0, 0.3));\n",
              "      fill: #FFFFFF;\n",
              "    }\n",
              "  </style>\n",
              "\n",
              "      <script>\n",
              "        const buttonEl =\n",
              "          document.querySelector('#df-70677dca-053a-43bd-ad45-8dd1c84b0576 button.colab-df-convert');\n",
              "        buttonEl.style.display =\n",
              "          google.colab.kernel.accessAllowed ? 'block' : 'none';\n",
              "\n",
              "        async function convertToInteractive(key) {\n",
              "          const element = document.querySelector('#df-70677dca-053a-43bd-ad45-8dd1c84b0576');\n",
              "          const dataTable =\n",
              "            await google.colab.kernel.invokeFunction('convertToInteractive',\n",
              "                                                     [key], {});\n",
              "          if (!dataTable) return;\n",
              "\n",
              "          const docLinkHtml = 'Like what you see? Visit the ' +\n",
              "            '<a target=\"_blank\" href=https://colab.research.google.com/notebooks/data_table.ipynb>data table notebook</a>'\n",
              "            + ' to learn more about interactive tables.';\n",
              "          element.innerHTML = '';\n",
              "          dataTable['output_type'] = 'display_data';\n",
              "          await google.colab.output.renderOutput(dataTable, element);\n",
              "          const docLink = document.createElement('div');\n",
              "          docLink.innerHTML = docLinkHtml;\n",
              "          element.appendChild(docLink);\n",
              "        }\n",
              "      </script>\n",
              "    </div>\n",
              "  </div>\n",
              "  "
            ]
          },
          "metadata": {},
          "execution_count": 14
        }
      ]
    },
    {
      "cell_type": "markdown",
      "metadata": {
        "id": "9y0wfrZotG4I"
      },
      "source": [
        "## Step 5: Pick a random number between 0 and 1"
      ]
    },
    {
      "cell_type": "markdown",
      "metadata": {
        "id": "FdPTkVAqq08B"
      },
      "source": [
        "Here's our random number."
      ]
    },
    {
      "cell_type": "code",
      "metadata": {
        "colab": {
          "base_uri": "https://localhost:8080/"
        },
        "id": "ZUY3hefEq2Yo",
        "outputId": "22f8e6fa-52f8-41a6-e583-4f6ed84f8541"
      },
      "source": [
        "gap = random.uniform(0, 1)\n",
        "gap"
      ],
      "execution_count": null,
      "outputs": [
        {
          "output_type": "execute_result",
          "data": {
            "text/plain": [
              "0.60600616309252"
            ]
          },
          "metadata": {},
          "execution_count": 15
        }
      ]
    },
    {
      "cell_type": "markdown",
      "metadata": {
        "id": "HNVtj_7BtLzW"
      },
      "source": [
        "## Step 6: Make a synthetic row!\n",
        "In practice, you could get rid of all of the random states and seeds then re-run."
      ]
    },
    {
      "cell_type": "markdown",
      "metadata": {
        "id": "DMjqRPVLrPsK"
      },
      "source": [
        "Now, put it all together."
      ]
    },
    {
      "cell_type": "code",
      "metadata": {
        "colab": {
          "base_uri": "https://localhost:8080/",
          "height": 81
        },
        "id": "Z-uT203erRTc",
        "outputId": "004c2973-ae39-4926-a0a5-bebf4c89f95a"
      },
      "source": [
        "newRow = home + gap*dist\n",
        "newRow # ta da! This row does not exist, but it looks like the minority class!"
      ],
      "execution_count": null,
      "outputs": [
        {
          "output_type": "execute_result",
          "data": {
            "text/plain": [
              "         RM     LSTAT    PTRATIO\n",
              "0  6.431377  5.058781  15.542402"
            ],
            "text/html": [
              "\n",
              "  <div id=\"df-81692047-8f84-417f-b195-7a4b3c5029fb\">\n",
              "    <div class=\"colab-df-container\">\n",
              "      <div>\n",
              "<style scoped>\n",
              "    .dataframe tbody tr th:only-of-type {\n",
              "        vertical-align: middle;\n",
              "    }\n",
              "\n",
              "    .dataframe tbody tr th {\n",
              "        vertical-align: top;\n",
              "    }\n",
              "\n",
              "    .dataframe thead th {\n",
              "        text-align: right;\n",
              "    }\n",
              "</style>\n",
              "<table border=\"1\" class=\"dataframe\">\n",
              "  <thead>\n",
              "    <tr style=\"text-align: right;\">\n",
              "      <th></th>\n",
              "      <th>RM</th>\n",
              "      <th>LSTAT</th>\n",
              "      <th>PTRATIO</th>\n",
              "    </tr>\n",
              "  </thead>\n",
              "  <tbody>\n",
              "    <tr>\n",
              "      <th>0</th>\n",
              "      <td>6.431377</td>\n",
              "      <td>5.058781</td>\n",
              "      <td>15.542402</td>\n",
              "    </tr>\n",
              "  </tbody>\n",
              "</table>\n",
              "</div>\n",
              "      <button class=\"colab-df-convert\" onclick=\"convertToInteractive('df-81692047-8f84-417f-b195-7a4b3c5029fb')\"\n",
              "              title=\"Convert this dataframe to an interactive table.\"\n",
              "              style=\"display:none;\">\n",
              "        \n",
              "  <svg xmlns=\"http://www.w3.org/2000/svg\" height=\"24px\"viewBox=\"0 0 24 24\"\n",
              "       width=\"24px\">\n",
              "    <path d=\"M0 0h24v24H0V0z\" fill=\"none\"/>\n",
              "    <path d=\"M18.56 5.44l.94 2.06.94-2.06 2.06-.94-2.06-.94-.94-2.06-.94 2.06-2.06.94zm-11 1L8.5 8.5l.94-2.06 2.06-.94-2.06-.94L8.5 2.5l-.94 2.06-2.06.94zm10 10l.94 2.06.94-2.06 2.06-.94-2.06-.94-.94-2.06-.94 2.06-2.06.94z\"/><path d=\"M17.41 7.96l-1.37-1.37c-.4-.4-.92-.59-1.43-.59-.52 0-1.04.2-1.43.59L10.3 9.45l-7.72 7.72c-.78.78-.78 2.05 0 2.83L4 21.41c.39.39.9.59 1.41.59.51 0 1.02-.2 1.41-.59l7.78-7.78 2.81-2.81c.8-.78.8-2.07 0-2.86zM5.41 20L4 18.59l7.72-7.72 1.47 1.35L5.41 20z\"/>\n",
              "  </svg>\n",
              "      </button>\n",
              "      \n",
              "  <style>\n",
              "    .colab-df-container {\n",
              "      display:flex;\n",
              "      flex-wrap:wrap;\n",
              "      gap: 12px;\n",
              "    }\n",
              "\n",
              "    .colab-df-convert {\n",
              "      background-color: #E8F0FE;\n",
              "      border: none;\n",
              "      border-radius: 50%;\n",
              "      cursor: pointer;\n",
              "      display: none;\n",
              "      fill: #1967D2;\n",
              "      height: 32px;\n",
              "      padding: 0 0 0 0;\n",
              "      width: 32px;\n",
              "    }\n",
              "\n",
              "    .colab-df-convert:hover {\n",
              "      background-color: #E2EBFA;\n",
              "      box-shadow: 0px 1px 2px rgba(60, 64, 67, 0.3), 0px 1px 3px 1px rgba(60, 64, 67, 0.15);\n",
              "      fill: #174EA6;\n",
              "    }\n",
              "\n",
              "    [theme=dark] .colab-df-convert {\n",
              "      background-color: #3B4455;\n",
              "      fill: #D2E3FC;\n",
              "    }\n",
              "\n",
              "    [theme=dark] .colab-df-convert:hover {\n",
              "      background-color: #434B5C;\n",
              "      box-shadow: 0px 1px 3px 1px rgba(0, 0, 0, 0.15);\n",
              "      filter: drop-shadow(0px 1px 2px rgba(0, 0, 0, 0.3));\n",
              "      fill: #FFFFFF;\n",
              "    }\n",
              "  </style>\n",
              "\n",
              "      <script>\n",
              "        const buttonEl =\n",
              "          document.querySelector('#df-81692047-8f84-417f-b195-7a4b3c5029fb button.colab-df-convert');\n",
              "        buttonEl.style.display =\n",
              "          google.colab.kernel.accessAllowed ? 'block' : 'none';\n",
              "\n",
              "        async function convertToInteractive(key) {\n",
              "          const element = document.querySelector('#df-81692047-8f84-417f-b195-7a4b3c5029fb');\n",
              "          const dataTable =\n",
              "            await google.colab.kernel.invokeFunction('convertToInteractive',\n",
              "                                                     [key], {});\n",
              "          if (!dataTable) return;\n",
              "\n",
              "          const docLinkHtml = 'Like what you see? Visit the ' +\n",
              "            '<a target=\"_blank\" href=https://colab.research.google.com/notebooks/data_table.ipynb>data table notebook</a>'\n",
              "            + ' to learn more about interactive tables.';\n",
              "          element.innerHTML = '';\n",
              "          dataTable['output_type'] = 'display_data';\n",
              "          await google.colab.output.renderOutput(dataTable, element);\n",
              "          const docLink = document.createElement('div');\n",
              "          docLink.innerHTML = docLinkHtml;\n",
              "          element.appendChild(docLink);\n",
              "        }\n",
              "      </script>\n",
              "    </div>\n",
              "  </div>\n",
              "  "
            ]
          },
          "metadata": {},
          "execution_count": 16
        }
      ]
    },
    {
      "cell_type": "markdown",
      "metadata": {
        "id": "biBv6j5VraWF"
      },
      "source": [
        "Tada! You would repeat this until you get a matching number of rows. I hope you appreciate WHY you need numeric features only - you can do distance calculations on categorical variables (you would need to use dummy variables or another variant of the SMOTE algorithm).\n",
        "\n",
        "Since we did not set any random states or seeds, your rows will be a little bit different - this is a good thing! The randomness is what we need to create synthetic data points."
      ]
    },
    {
      "cell_type": "markdown",
      "metadata": {
        "id": "_LUp-Z7_rmL4"
      },
      "source": [
        "# Using `imblearn` for SMOTE"
      ]
    },
    {
      "cell_type": "code",
      "metadata": {
        "colab": {
          "base_uri": "https://localhost:8080/"
        },
        "id": "3PgapKe5wWGi",
        "outputId": "bf1e0578-e41a-4e92-8825-f64ae5b0ac70"
      },
      "source": [
        "from imblearn.over_sampling import SMOTE\n",
        "sm = SMOTE(random_state=42)\n",
        "X_res, y_res = sm.fit_resample(X, y) # only for numeric!\n",
        "Counter(y_res)"
      ],
      "execution_count": null,
      "outputs": [
        {
          "output_type": "execute_result",
          "data": {
            "text/plain": [
              "Counter({1: 265, 0: 265})"
            ]
          },
          "metadata": {},
          "execution_count": 17
        }
      ]
    },
    {
      "cell_type": "markdown",
      "metadata": {
        "id": "8AW9RLfGuVKN"
      },
      "source": [
        "Yeah... it's that easy! But there's a lot of power behind that one line of code, and now you know what it does."
      ]
    },
    {
      "cell_type": "markdown",
      "metadata": {
        "id": "OPHsYKhFuE7h"
      },
      "source": [
        "# SMOTE: before and after images\n",
        "Here are some nice images from a dummy dataset. Imagine you only had two categories 0 (blue) and 1 (orange) and you had two features to describe them: X1 and X2. You can first see what the data looks like before SMOTE (note the counter values) and then after SMOTE.\n",
        "\n",
        "You will see how SMOTE helps fill in the gaps."
      ]
    },
    {
      "cell_type": "code",
      "metadata": {
        "colab": {
          "base_uri": "https://localhost:8080/",
          "height": 298
        },
        "id": "4wXQC6HLu4RM",
        "outputId": "be3e5e5c-8488-4f8e-e493-0c9be2f162c0"
      },
      "source": [
        "# Oversample and plot imbalanced dataset with SMOTE\n",
        "from collections import Counter\n",
        "from sklearn.datasets import make_classification\n",
        "from imblearn.over_sampling import SMOTE\n",
        "from matplotlib import pyplot\n",
        "from numpy import where\n",
        "\n",
        "# define dataset\n",
        "X, y = make_classification(n_samples=10000, n_features=2, n_redundant=0,\n",
        "\tn_clusters_per_class=1, weights=[0.99], flip_y=0, random_state=1)\n",
        "\n",
        "# look at class imbalance\n",
        "counter = Counter(y)\n",
        "print(counter)\n",
        "\n",
        "# scatter plot of examples by class label\n",
        "for label, _ in counter.items():\n",
        "\trow_ix = where(y == label)[0]\n",
        "\tplt.scatter(X[row_ix, 0], X[row_ix, 1], label=str(label))\n",
        "plt.legend()\n",
        "plt.title('BEFORE')\n",
        "plt.show()"
      ],
      "execution_count": null,
      "outputs": [
        {
          "output_type": "stream",
          "name": "stdout",
          "text": [
            "Counter({0: 9900, 1: 100})\n"
          ]
        },
        {
          "output_type": "display_data",
          "data": {
            "text/plain": [
              "<Figure size 432x288 with 1 Axes>"
            ],
            "image/png": "[encoded data removed]"
          },
          "metadata": {
            "needs_background": "light"
          }
        }
      ]
    },
    {
      "cell_type": "code",
      "metadata": {
        "colab": {
          "base_uri": "https://localhost:8080/",
          "height": 298
        },
        "id": "I1N2gtn8vKQD",
        "outputId": "87deb31c-04c5-4be4-98f6-ad40656e4958"
      },
      "source": [
        "# transform the dataset\n",
        "oversample = SMOTE() # vanilla smote!\n",
        "X, y = oversample.fit_resample(X, y)\n",
        "# summarize the new class distribution\n",
        "counter = Counter(y)\n",
        "print(counter)\n",
        "# scatter plot of examples by class label\n",
        "for label, _ in counter.items():\n",
        "\trow_ix = where(y == label)[0]\n",
        "\tplt.scatter(X[row_ix, 0], X[row_ix, 1], label=str(label))\n",
        "plt.legend()\n",
        "plt.title('AFTER')\n",
        "plt.show()"
      ],
      "execution_count": null,
      "outputs": [
        {
          "output_type": "stream",
          "name": "stdout",
          "text": [
            "Counter({0: 9900, 1: 9900})\n"
          ]
        },
        {
          "output_type": "display_data",
          "data": {
            "text/plain": [
              "<Figure size 432x288 with 1 Axes>"
            ],
            "image/png": "[encoded data removed]"
          },
          "metadata": {
            "needs_background": "light"
          }
        }
      ]
    },
    {
      "cell_type": "markdown",
      "metadata": {
        "id": "CNt3zjh9vRFn"
      },
      "source": [
        "COOL!!!! I got that code off of Jason Brownlee's [excellent website](https://machinelearningmastery.com/smote-oversampling-for-imbalanced-classification/). You can see other variants like using an SVM instead of a k-nearest neighbor in order to generate your nearest neighbors."
      ]
    },
    {
      "cell_type": "markdown",
      "metadata": {
        "id": "7uPmN0n4ufl4"
      },
      "source": [
        "# Hyperparameters\n",
        "See the documentation for a full list of parameters that you can toggle.\n",
        "\n",
        "There are MANY other variants that you can try... each with a different flavor - not good or bad, but each have important differences. Read the documentation of each for more details before using."
      ]
    },
    {
      "cell_type": "markdown",
      "metadata": {
        "id": "zL1Um2sduQV7"
      },
      "source": [
        "# Resources\n",
        "* https://machinelearningmastery.com/smote-oversampling-for-imbalanced-classification/\n",
        "* https://www.geeksforgeeks.org/ml-handling-imbalanced-data-with-smote-and-near-miss-algorithm-in-python/"
      ]
    }
  ]
}